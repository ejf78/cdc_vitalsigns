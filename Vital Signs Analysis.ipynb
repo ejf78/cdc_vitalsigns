{
  "cells": [
    {
      "cell_type": "markdown",
      "metadata": {
        "id": "view-in-github",
        "colab_type": "text"
      },
      "source": [
        "<a href=\"https://colab.research.google.com/github/ejf78/cdc_vitalsigns/blob/master/Vital%20Signs%20Analysis.ipynb\" target=\"_parent\"><img src=\"https://colab.research.google.com/assets/colab-badge.svg\" alt=\"Open In Colab\"/></a>"
      ]
    },
    {
      "cell_type": "markdown",
      "id": "4d78a3b1",
      "metadata": {
        "id": "4d78a3b1"
      },
      "source": [
        "# Compile and Analyse Vital Signs\n",
        "\n",
        "\n",
        "After a little bit of manual cleaning, I got the historic data (2000-2010) for many indicators into a common format, stored in several different excel files with several sheets each. I also saved the modern (2010 onward) indicators as CSVs, to avoid re-pulling from the APIs. In this notebook, I'll compile everything and set up some analysis. "
      ]
    },
    {
      "cell_type": "markdown",
      "source": [
        "### Colab-Specific Steps"
      ],
      "metadata": {
        "id": "RA-_oN34feH5"
      },
      "id": "RA-_oN34feH5"
    },
    {
      "cell_type": "code",
      "source": [
        "# clone the github respository, so that we have all the necessary files \n",
        "!git clone https://github.com/ejf78/cdc_vitalsigns.git"
      ],
      "metadata": {
        "id": "RZl45ewUedO3",
        "outputId": "c4f17f1c-1bb1-41b4-8f26-4311d7b65b87",
        "colab": {
          "base_uri": "https://localhost:8080/"
        }
      },
      "id": "RZl45ewUedO3",
      "execution_count": 1,
      "outputs": [
        {
          "output_type": "stream",
          "name": "stdout",
          "text": [
            "Cloning into 'cdc_vitalsigns'...\n",
            "remote: Enumerating objects: 88, done.\u001b[K\n",
            "remote: Counting objects: 100% (88/88), done.\u001b[K\n",
            "remote: Compressing objects: 100% (75/75), done.\u001b[K\n",
            "remote: Total 88 (delta 35), reused 52 (delta 13), pack-reused 0\u001b[K\n",
            "Unpacking objects: 100% (88/88), done.\n",
            "Checking out files: 100% (36/36), done.\n"
          ]
        }
      ]
    },
    {
      "cell_type": "code",
      "source": [
        "# install geopandas in google colab \n",
        "!pip install geopandas"
      ],
      "metadata": {
        "id": "ODVmp9dvdk7U",
        "outputId": "f7977a8f-0e0d-48b4-ecf6-d7c900470989",
        "colab": {
          "base_uri": "https://localhost:8080/"
        }
      },
      "id": "ODVmp9dvdk7U",
      "execution_count": 2,
      "outputs": [
        {
          "output_type": "stream",
          "name": "stdout",
          "text": [
            "Collecting geopandas\n",
            "  Downloading geopandas-0.10.2-py2.py3-none-any.whl (1.0 MB)\n",
            "\u001b[K     |████████████████████████████████| 1.0 MB 7.0 MB/s \n",
            "\u001b[?25hCollecting pyproj>=2.2.0\n",
            "  Downloading pyproj-3.2.1-cp37-cp37m-manylinux2010_x86_64.whl (6.3 MB)\n",
            "\u001b[K     |████████████████████████████████| 6.3 MB 44.2 MB/s \n",
            "\u001b[?25hRequirement already satisfied: shapely>=1.6 in /usr/local/lib/python3.7/dist-packages (from geopandas) (1.8.0)\n",
            "Requirement already satisfied: pandas>=0.25.0 in /usr/local/lib/python3.7/dist-packages (from geopandas) (1.1.5)\n",
            "Collecting fiona>=1.8\n",
            "  Downloading Fiona-1.8.20-cp37-cp37m-manylinux1_x86_64.whl (15.4 MB)\n",
            "\u001b[K     |████████████████████████████████| 15.4 MB 32 kB/s \n",
            "\u001b[?25hCollecting click-plugins>=1.0\n",
            "  Downloading click_plugins-1.1.1-py2.py3-none-any.whl (7.5 kB)\n",
            "Collecting munch\n",
            "  Downloading munch-2.5.0-py2.py3-none-any.whl (10 kB)\n",
            "Collecting cligj>=0.5\n",
            "  Downloading cligj-0.7.2-py3-none-any.whl (7.1 kB)\n",
            "Requirement already satisfied: attrs>=17 in /usr/local/lib/python3.7/dist-packages (from fiona>=1.8->geopandas) (21.4.0)\n",
            "Requirement already satisfied: click>=4.0 in /usr/local/lib/python3.7/dist-packages (from fiona>=1.8->geopandas) (7.1.2)\n",
            "Requirement already satisfied: setuptools in /usr/local/lib/python3.7/dist-packages (from fiona>=1.8->geopandas) (57.4.0)\n",
            "Requirement already satisfied: certifi in /usr/local/lib/python3.7/dist-packages (from fiona>=1.8->geopandas) (2021.10.8)\n",
            "Requirement already satisfied: six>=1.7 in /usr/local/lib/python3.7/dist-packages (from fiona>=1.8->geopandas) (1.15.0)\n",
            "Requirement already satisfied: python-dateutil>=2.7.3 in /usr/local/lib/python3.7/dist-packages (from pandas>=0.25.0->geopandas) (2.8.2)\n",
            "Requirement already satisfied: pytz>=2017.2 in /usr/local/lib/python3.7/dist-packages (from pandas>=0.25.0->geopandas) (2018.9)\n",
            "Requirement already satisfied: numpy>=1.15.4 in /usr/local/lib/python3.7/dist-packages (from pandas>=0.25.0->geopandas) (1.19.5)\n",
            "Installing collected packages: munch, cligj, click-plugins, pyproj, fiona, geopandas\n",
            "Successfully installed click-plugins-1.1.1 cligj-0.7.2 fiona-1.8.20 geopandas-0.10.2 munch-2.5.0 pyproj-3.2.1\n"
          ]
        }
      ]
    },
    {
      "cell_type": "code",
      "execution_count": 3,
      "id": "baa0cfeb",
      "metadata": {
        "id": "baa0cfeb"
      },
      "outputs": [],
      "source": [
        "# load packages\n",
        "import pandas as pd\n",
        "import os # for navigating directories\n",
        "import requests\n",
        "import geopandas as gpd\n",
        "from geopandas import GeoDataFrame\n",
        "import matplotlib.pyplot as plt\n",
        "from matplotlib import animation \n",
        "import math # for ceil function (round up)"
      ]
    },
    {
      "cell_type": "code",
      "source": [
        "# navigate into the directory\n",
        "os.chdir(\"cdc_vitalsigns\")"
      ],
      "metadata": {
        "id": "y57fD4dTfKdb"
      },
      "id": "y57fD4dTfKdb",
      "execution_count": 4,
      "outputs": []
    },
    {
      "cell_type": "markdown",
      "id": "efed5957",
      "metadata": {
        "id": "efed5957"
      },
      "source": [
        "## Load and Compile Data (pre-processing)\n"
      ]
    },
    {
      "cell_type": "code",
      "execution_count": 5,
      "id": "7f5f9ad9",
      "metadata": {
        "id": "7f5f9ad9",
        "outputId": "652212e5-6ce9-4478-ffb7-66a6d6b2e3e5",
        "colab": {
          "base_uri": "https://localhost:8080/",
          "height": 672
        }
      },
      "outputs": [
        {
          "output_type": "execute_result",
          "data": {
            "text/html": [
              "\n",
              "  <div id=\"df-741b25fb-72f4-4aa1-8acf-7883fcd01ffc\">\n",
              "    <div class=\"colab-df-container\">\n",
              "      <div>\n",
              "<style scoped>\n",
              "    .dataframe tbody tr th:only-of-type {\n",
              "        vertical-align: middle;\n",
              "    }\n",
              "\n",
              "    .dataframe tbody tr th {\n",
              "        vertical-align: top;\n",
              "    }\n",
              "\n",
              "    .dataframe thead th {\n",
              "        text-align: right;\n",
              "    }\n",
              "</style>\n",
              "<table border=\"1\" class=\"dataframe\">\n",
              "  <thead>\n",
              "    <tr style=\"text-align: right;\">\n",
              "      <th></th>\n",
              "      <th>Indicator Number</th>\n",
              "      <th>Indicator</th>\n",
              "      <th>ShortName</th>\n",
              "      <th>Section</th>\n",
              "      <th>API</th>\n",
              "      <th>pull</th>\n",
              "      <th>shortname_noX</th>\n",
              "    </tr>\n",
              "    <tr>\n",
              "      <th>ShortName</th>\n",
              "      <th></th>\n",
              "      <th></th>\n",
              "      <th></th>\n",
              "      <th></th>\n",
              "      <th></th>\n",
              "      <th></th>\n",
              "      <th></th>\n",
              "    </tr>\n",
              "  </thead>\n",
              "  <tbody>\n",
              "    <tr>\n",
              "      <th>tpopXX</th>\n",
              "      <td>1</td>\n",
              "      <td>Total Population</td>\n",
              "      <td>tpopXX</td>\n",
              "      <td>Census Demographics</td>\n",
              "      <td>https://services1.arcgis.com/mVFRs7NF4iFitgbY/...</td>\n",
              "      <td>1</td>\n",
              "      <td>tpop</td>\n",
              "    </tr>\n",
              "    <tr>\n",
              "      <th>maleXX</th>\n",
              "      <td>2</td>\n",
              "      <td>Total Male Population</td>\n",
              "      <td>maleXX</td>\n",
              "      <td>Census Demographics</td>\n",
              "      <td>https://services1.arcgis.com/mVFRs7NF4iFitgbY/...</td>\n",
              "      <td>1</td>\n",
              "      <td>male</td>\n",
              "    </tr>\n",
              "    <tr>\n",
              "      <th>femaleXX</th>\n",
              "      <td>3</td>\n",
              "      <td>Total Female Population</td>\n",
              "      <td>femaleXX</td>\n",
              "      <td>Census Demographics</td>\n",
              "      <td>https://services1.arcgis.com/mVFRs7NF4iFitgbY/...</td>\n",
              "      <td>1</td>\n",
              "      <td>female</td>\n",
              "    </tr>\n",
              "    <tr>\n",
              "      <th>paaXX</th>\n",
              "      <td>4</td>\n",
              "      <td>Percent of Residents - Black/African-American ...</td>\n",
              "      <td>paaXX</td>\n",
              "      <td>Census Demographics</td>\n",
              "      <td>https://services1.arcgis.com/mVFRs7NF4iFitgbY/...</td>\n",
              "      <td>1</td>\n",
              "      <td>paa</td>\n",
              "    </tr>\n",
              "    <tr>\n",
              "      <th>pwhiteXX</th>\n",
              "      <td>5</td>\n",
              "      <td>Percent of Residents - White/Caucasian (Non-Hi...</td>\n",
              "      <td>pwhiteXX</td>\n",
              "      <td>Census Demographics</td>\n",
              "      <td>https://services1.arcgis.com/mVFRs7NF4iFitgbY/...</td>\n",
              "      <td>1</td>\n",
              "      <td>pwhite</td>\n",
              "    </tr>\n",
              "    <tr>\n",
              "      <th>...</th>\n",
              "      <td>...</td>\n",
              "      <td>...</td>\n",
              "      <td>...</td>\n",
              "      <td>...</td>\n",
              "      <td>...</td>\n",
              "      <td>...</td>\n",
              "      <td>...</td>\n",
              "    </tr>\n",
              "    <tr>\n",
              "      <th>pread8XX</th>\n",
              "      <td>211</td>\n",
              "      <td>Percentage of 8th Grade Students who Met or Ex...</td>\n",
              "      <td>pread8XX</td>\n",
              "      <td>Education and Youth</td>\n",
              "      <td>https://services1.arcgis.com/mVFRs7NF4iFitgbY/...</td>\n",
              "      <td>1</td>\n",
              "      <td>pread8</td>\n",
              "    </tr>\n",
              "    <tr>\n",
              "      <th>palg1XX</th>\n",
              "      <td>212</td>\n",
              "      <td>Percentage of Students who Met or Exceeded PAR...</td>\n",
              "      <td>palg1XX</td>\n",
              "      <td>Education and Youth</td>\n",
              "      <td>https://services1.arcgis.com/mVFRs7NF4iFitgbY/...</td>\n",
              "      <td>1</td>\n",
              "      <td>palg1</td>\n",
              "    </tr>\n",
              "    <tr>\n",
              "      <th>palg2XX</th>\n",
              "      <td>213</td>\n",
              "      <td>Percentage of Students who Met or Exceeded PAR...</td>\n",
              "      <td>palg2XX</td>\n",
              "      <td>Education and Youth</td>\n",
              "      <td>https://services1.arcgis.com/mVFRs7NF4iFitgbY/...</td>\n",
              "      <td>1</td>\n",
              "      <td>palg2</td>\n",
              "    </tr>\n",
              "    <tr>\n",
              "      <th>kraXX</th>\n",
              "      <td>214</td>\n",
              "      <td>Kindergarten Readiness</td>\n",
              "      <td>kraXX</td>\n",
              "      <td>Education and Youth</td>\n",
              "      <td>https://services1.arcgis.com/mVFRs7NF4iFitgbY/...</td>\n",
              "      <td>1</td>\n",
              "      <td>kra</td>\n",
              "    </tr>\n",
              "    <tr>\n",
              "      <th>lightsXX</th>\n",
              "      <td>215</td>\n",
              "      <td>Rate of Street Light Outages per 1,000 Residents</td>\n",
              "      <td>lightsXX</td>\n",
              "      <td>Crime and Safety</td>\n",
              "      <td>https://services1.arcgis.com/mVFRs7NF4iFitgbY/...</td>\n",
              "      <td>0</td>\n",
              "      <td>lights</td>\n",
              "    </tr>\n",
              "  </tbody>\n",
              "</table>\n",
              "<p>215 rows × 7 columns</p>\n",
              "</div>\n",
              "      <button class=\"colab-df-convert\" onclick=\"convertToInteractive('df-741b25fb-72f4-4aa1-8acf-7883fcd01ffc')\"\n",
              "              title=\"Convert this dataframe to an interactive table.\"\n",
              "              style=\"display:none;\">\n",
              "        \n",
              "  <svg xmlns=\"http://www.w3.org/2000/svg\" height=\"24px\"viewBox=\"0 0 24 24\"\n",
              "       width=\"24px\">\n",
              "    <path d=\"M0 0h24v24H0V0z\" fill=\"none\"/>\n",
              "    <path d=\"M18.56 5.44l.94 2.06.94-2.06 2.06-.94-2.06-.94-.94-2.06-.94 2.06-2.06.94zm-11 1L8.5 8.5l.94-2.06 2.06-.94-2.06-.94L8.5 2.5l-.94 2.06-2.06.94zm10 10l.94 2.06.94-2.06 2.06-.94-2.06-.94-.94-2.06-.94 2.06-2.06.94z\"/><path d=\"M17.41 7.96l-1.37-1.37c-.4-.4-.92-.59-1.43-.59-.52 0-1.04.2-1.43.59L10.3 9.45l-7.72 7.72c-.78.78-.78 2.05 0 2.83L4 21.41c.39.39.9.59 1.41.59.51 0 1.02-.2 1.41-.59l7.78-7.78 2.81-2.81c.8-.78.8-2.07 0-2.86zM5.41 20L4 18.59l7.72-7.72 1.47 1.35L5.41 20z\"/>\n",
              "  </svg>\n",
              "      </button>\n",
              "      \n",
              "  <style>\n",
              "    .colab-df-container {\n",
              "      display:flex;\n",
              "      flex-wrap:wrap;\n",
              "      gap: 12px;\n",
              "    }\n",
              "\n",
              "    .colab-df-convert {\n",
              "      background-color: #E8F0FE;\n",
              "      border: none;\n",
              "      border-radius: 50%;\n",
              "      cursor: pointer;\n",
              "      display: none;\n",
              "      fill: #1967D2;\n",
              "      height: 32px;\n",
              "      padding: 0 0 0 0;\n",
              "      width: 32px;\n",
              "    }\n",
              "\n",
              "    .colab-df-convert:hover {\n",
              "      background-color: #E2EBFA;\n",
              "      box-shadow: 0px 1px 2px rgba(60, 64, 67, 0.3), 0px 1px 3px 1px rgba(60, 64, 67, 0.15);\n",
              "      fill: #174EA6;\n",
              "    }\n",
              "\n",
              "    [theme=dark] .colab-df-convert {\n",
              "      background-color: #3B4455;\n",
              "      fill: #D2E3FC;\n",
              "    }\n",
              "\n",
              "    [theme=dark] .colab-df-convert:hover {\n",
              "      background-color: #434B5C;\n",
              "      box-shadow: 0px 1px 3px 1px rgba(0, 0, 0, 0.15);\n",
              "      filter: drop-shadow(0px 1px 2px rgba(0, 0, 0, 0.3));\n",
              "      fill: #FFFFFF;\n",
              "    }\n",
              "  </style>\n",
              "\n",
              "      <script>\n",
              "        const buttonEl =\n",
              "          document.querySelector('#df-741b25fb-72f4-4aa1-8acf-7883fcd01ffc button.colab-df-convert');\n",
              "        buttonEl.style.display =\n",
              "          google.colab.kernel.accessAllowed ? 'block' : 'none';\n",
              "\n",
              "        async function convertToInteractive(key) {\n",
              "          const element = document.querySelector('#df-741b25fb-72f4-4aa1-8acf-7883fcd01ffc');\n",
              "          const dataTable =\n",
              "            await google.colab.kernel.invokeFunction('convertToInteractive',\n",
              "                                                     [key], {});\n",
              "          if (!dataTable) return;\n",
              "\n",
              "          const docLinkHtml = 'Like what you see? Visit the ' +\n",
              "            '<a target=\"_blank\" href=https://colab.research.google.com/notebooks/data_table.ipynb>data table notebook</a>'\n",
              "            + ' to learn more about interactive tables.';\n",
              "          element.innerHTML = '';\n",
              "          dataTable['output_type'] = 'display_data';\n",
              "          await google.colab.output.renderOutput(dataTable, element);\n",
              "          const docLink = document.createElement('div');\n",
              "          docLink.innerHTML = docLinkHtml;\n",
              "          element.appendChild(docLink);\n",
              "        }\n",
              "      </script>\n",
              "    </div>\n",
              "  </div>\n",
              "  "
            ],
            "text/plain": [
              "           Indicator Number  ... shortname_noX\n",
              "ShortName                    ...              \n",
              "tpopXX                    1  ...          tpop\n",
              "maleXX                    2  ...          male\n",
              "femaleXX                  3  ...        female\n",
              "paaXX                     4  ...           paa\n",
              "pwhiteXX                  5  ...        pwhite\n",
              "...                     ...  ...           ...\n",
              "pread8XX                211  ...        pread8\n",
              "palg1XX                 212  ...         palg1\n",
              "palg2XX                 213  ...         palg2\n",
              "kraXX                   214  ...           kra\n",
              "lightsXX                215  ...        lights\n",
              "\n",
              "[215 rows x 7 columns]"
            ]
          },
          "metadata": {},
          "execution_count": 5
        }
      ],
      "source": [
        "# api info \n",
        "# read list of indicators \n",
        "api_df = pd.read_csv(\"VS-Indicator-APIs_EF.csv\") # new version - I've labeled which API calls to make under 'pull'\n",
        "api_df.set_index(\"ShortName\", inplace=True, drop = False) # drop = False I want ShortName as a column \n",
        "# add a column for indicator shortname, without the XX's, and lowercase for uniformity \n",
        "api_df[\"shortname_noX\"] = api_df.ShortName.str.replace(\"XX\",\"\").str.lower()\n",
        "api_df"
      ]
    },
    {
      "cell_type": "markdown",
      "id": "6cd566d8",
      "metadata": {
        "id": "6cd566d8"
      },
      "source": [
        "#### Historic Data (2000 - 2006) \n",
        "\n",
        "Already cleaned "
      ]
    },
    {
      "cell_type": "code",
      "execution_count": 6,
      "id": "d94fc2a8",
      "metadata": {
        "id": "d94fc2a8"
      },
      "outputs": [],
      "source": [
        "### historic data \n",
        "# read from CSV \n",
        "historic_indicators = pd.read_csv(\"precompiled_historic_indicators.csv\")\n",
        "# pivot longer for join \n",
        "hvs = historic_indicators.melt(id_vars = [\"CSA\", \"indicator\", \"indicator_category\"], \n",
        "                        var_name = \"year\")\n",
        "# drop indicator category (will add it later so that it's uniform)\n",
        "hvs = hvs.drop([\"indicator_category\"], axis = 1)\n",
        "# remove the XX's from the indicator names \n",
        "hvs[\"indicator\"] = hvs.indicator.str.replace(\"XX\",\"\")"
      ]
    },
    {
      "cell_type": "markdown",
      "id": "058a40f2",
      "metadata": {
        "id": "058a40f2"
      },
      "source": [
        "#### Clean data from 2010 onward"
      ]
    },
    {
      "cell_type": "code",
      "execution_count": null,
      "id": "dea6bc46",
      "metadata": {
        "id": "dea6bc46",
        "outputId": "1568f16c-b016-451f-ef63-1849248c74dd",
        "colab": {
          "base_uri": "https://localhost:8080/"
        }
      },
      "outputs": [
        {
          "output_type": "stream",
          "name": "stderr",
          "text": [
            "/usr/local/lib/python3.7/dist-packages/IPython/core/interactiveshell.py:2718: DtypeWarning: Columns (371) have mixed types.Specify dtype option on import or set low_memory=False.\n",
            "  interactivity=interactivity, compiler=compiler, result=result)\n"
          ]
        }
      ],
      "source": [
        "### modern data \n",
        "# read in data files for modern indicators (saved from previous API kills)\n",
        "mvs1 = pd.read_csv(\"modern_vital_signs_raw_1.csv\")\n",
        "mvs2 = pd.read_csv(\"modern_vital_signs_raw_2.csv\")\n",
        "mvs3 = pd.read_csv(\"modern_vital_signs_raw_3.csv\")\n",
        "\n",
        "\n",
        "\n",
        "## reformat / melt \n",
        "# msv1 \n",
        "objectid_cols = [col for col in mvs1.columns if \"OBJECTID\" in col] # remove any columns called OBJECTID\n",
        "mvs1 = mvs1.drop(objectid_cols, axis = 1) \n",
        "# drop geometry as well; it's causing some problems\n",
        "mvs1 = mvs1.drop(['Shape__Area', 'Shape__Length', \"geometry\"], axis = 1)\n",
        "index_cols = [\"CSA2010\"]\n",
        "mvs_df_1 = mvs1.melt(id_vars = index_cols,\n",
        "                     var_name = \"year-indicator\",\n",
        "                     value_name = \"value\")\n",
        "# msv2 \n",
        "objectid_cols = [col for col in mvs2.columns if \"OBJECTID\" in col]\n",
        "mvs2 = mvs2.drop(objectid_cols, axis = 1)\n",
        "mvs2 = mvs2.drop(['Shape__Area', 'Shape__Length', \"geometry\"], axis = 1)\n",
        "mvs_df_2 = mvs2.melt(id_vars = index_cols,\n",
        "                     var_name = \"year-indicator\",\n",
        "                     value_name = \"value\")\n",
        "# msv3\n",
        "objectid_cols = [col for col in mvs3.columns if \"OBJECTID\" in col]\n",
        "mvs3 = mvs3.drop(objectid_cols, axis = 1)\n",
        "mvs3 = mvs3.drop(['Shape__Area', 'Shape__Length', \"geometry\",\"CSA2010_1\"], axis = 1)  # one off issue: drop \"CSA2010_1\" column\n",
        "mvs_df_3 = mvs3.melt(id_vars = index_cols,\n",
        "                     var_name = \"year-indicator\",\n",
        "                     value_name = \"value\")\n",
        "\n",
        "# rename\n",
        "mvs_df_1 = mvs_df_1.rename(columns = {\"CSA2010\":\"CSA\"})\n",
        "mvs_df_2 = mvs_df_2.rename(columns = {\"CSA2010\":\"CSA\"})\n",
        "mvs_df_3 = mvs_df_3.rename(columns = {\"CSA2010\":\"CSA\"})\n",
        "## add column for year, based on indicator/year field \n",
        "mvs_df_1[\"year\"] = ['20' + i[-2:] for i in mvs_df_1[\"year-indicator\"]]\n",
        "mvs_df_2[\"year\"] = ['20' + i[-2:] for i in mvs_df_2[\"year-indicator\"]]\n",
        "mvs_df_3[\"year\"] = ['20' + i[-2:] for i in mvs_df_3[\"year-indicator\"]]\n",
        "## add column for indicator, based on indicator/year field \n",
        "mvs_df_1[\"indicator\"] = [i[:-2] for i in mvs_df_1[\"year-indicator\"]]\n",
        "mvs_df_2[\"indicator\"] = [i[:-2] for i in mvs_df_2[\"year-indicator\"]]\n",
        "mvs_df_3[\"indicator\"] = [i[:-2] for i in mvs_df_3[\"year-indicator\"]]\n",
        "# drop year-indicator field \n",
        "mvs_df_1 = mvs_df_1.drop([\"year-indicator\"], axis = 1)\n",
        "mvs_df_2 = mvs_df_2.drop([\"year-indicator\"], axis = 1)\n",
        "mvs_df_3 = mvs_df_3.drop([\"year-indicator\"], axis = 1)\n",
        "# ended up with duplicates because of NA values. Drop those \n",
        "mvs_df_1.dropna(subset = [\"value\"], inplace = True)\n",
        "mvs_df_2.dropna(subset = [\"value\"], inplace = True)\n",
        "mvs_df_3.dropna(subset = [\"value\"], inplace = True)\n",
        "# it also seems like there are some indicators where the API failed to pull data, resulting in NAs in CSA2010 \n",
        "mvs_df_1.dropna(subset = [\"CSA\"], inplace = True)\n",
        "mvs_df_2.dropna(subset = [\"CSA\"], inplace = True)\n",
        "mvs_df_3.dropna(subset = [\"CSA\"], inplace = True)\n",
        "\n"
      ]
    },
    {
      "cell_type": "code",
      "execution_count": null,
      "id": "81e009b8",
      "metadata": {
        "id": "81e009b8"
      },
      "outputs": [],
      "source": [
        "# UNUSED \n",
        "##### pivot again, so that columns are years (not currently in use)\n",
        "index_cols_pivotlonger = [\"CSA\", \"indicator\"]\n",
        "mvs_pivot_1 = mvs_df_1.pivot(index = index_cols_pivotlonger,columns = \"year\", values = \"value\").reset_index()\n",
        "mvs_pivot_2 = mvs_df_2.pivot(index = index_cols_pivotlonger,columns = \"year\", values = \"value\").reset_index()\n",
        "mvs_pivot_3 = mvs_df_3.pivot(index = index_cols_pivotlonger,columns = \"year\", values = \"value\").reset_index()\n",
        "\n",
        "### small data fix - remove some placeholder rows from mvs3 \n",
        "mvs_df_3 = mvs_df_3.query(\"indicator != 'CSA2010'\")\n",
        "# export, for posterity\n",
        "mvs_pivot_1.to_csv(\"modern_vital_signs_pivot_1.csv\", index = False)\n",
        "mvs_pivot_2.to_csv(\"modern_vital_signs_pivot_2.csv\", index = False)\n",
        "mvs_pivot_3.to_csv(\"modern_vital_signs_pivot_3.csv\", index = False)"
      ]
    },
    {
      "cell_type": "markdown",
      "id": "ef5d00ab",
      "metadata": {
        "id": "ef5d00ab"
      },
      "source": [
        "#### Compile into one dataframe"
      ]
    },
    {
      "cell_type": "code",
      "execution_count": null,
      "id": "a1395226",
      "metadata": {
        "id": "a1395226"
      },
      "outputs": [],
      "source": [
        "### concatenate into one big dataframe of vital signs \n",
        "vs = pd.concat([hvs, mvs_df_1,mvs_df_2,mvs_df_3])"
      ]
    },
    {
      "cell_type": "code",
      "execution_count": null,
      "id": "a3d0db55",
      "metadata": {
        "id": "a3d0db55"
      },
      "outputs": [],
      "source": [
        "### clean some names \n",
        "# remove asterisk from CSA names\n",
        "# correct some spellings \n",
        "# unify some names that may be abbreviated\n",
        "vs[\"CSA\"] = vs.CSA.str.replace(\"*\",\"\", regex = False)\n",
        "vs[\"CSA\"] = vs.CSA.str.replace(\"Edmonson\",\"Edmondson\", regex = False)\n",
        "vs[\"CSA\"] = vs.CSA.str.replace(\"Falstaff\",\"Fallstaff\", regex = False) # really not sure which is right, but BNIA uses Fallstaff in modern communications\n",
        "vs[\"CSA\"] = vs.CSA.str.replace(\"Mt. Washington\",\"Mount Washington\", regex = False)\n",
        "vs[\"CSA\"] = vs.CSA.str.replace(\"Mt. Winans\",\"Mount Winans\", regex = False)\n",
        "# make indicator lowercase (for uniformity)\n",
        "vs[\"indicator\"] = vs.indicator.str.lower()"
      ]
    },
    {
      "cell_type": "markdown",
      "id": "93a14e3a",
      "metadata": {
        "id": "93a14e3a"
      },
      "source": [
        "Things that need to get cleaned up: \n",
        "- anything with a * \n",
        "- Edmonson Village vs Edmondson Village\n",
        "- Glen-Fallstaff vs. Glen-Falstaff\n",
        "- 'Mount Washington/Coldspring','Mt. Washington/Coldspring'\n",
        "- Westport/Mount Winans/Lakeland vs Westport/Mt. Winans/Lakeland\n",
        "\n",
        "Changes in CSA names / boundaries: \n",
        "- Perkins/Middle East vs Oldtown/Middle East\n",
        "- Jonestown/Oldtown vs. Oldtown / Middle East\n",
        "- Washington Village vs. Washington Village/Pigtown\n",
        "- 'Medfield/Hampden/Woodberry', vs 'Medfield/Hampden/Woodberry/Remington'"
      ]
    },
    {
      "cell_type": "code",
      "source": [
        "### one-off issue: hhsize API returns a dataframe that does not include year, so we need to do some correcting \n",
        "# update 1/28/2022: Cheryl @ BNIA confirmed the year is 2010. This should be corrected in future API pulls.\n",
        "# rename the indicator\n",
        "vs[\"indicator\"]  = vs.indicator.replace(\"hhsi\",\"hhsize\")\n",
        "# replace the year value with unknown \n",
        "vs[\"year\"] = vs.year.replace(\"20ze\",\"2010\")"
      ],
      "metadata": {
        "id": "uYjz8HD0OWk2"
      },
      "id": "uYjz8HD0OWk2",
      "execution_count": null,
      "outputs": []
    },
    {
      "cell_type": "code",
      "source": [
        "# add a numeric year field \n",
        "  # ('2006 - 2010' will be NA, which is okay, because this time frame isn't a perfect comparison to other years)\n",
        "vs[\"year_numeric\"] = pd.to_numeric(vs.year, errors = \"coerce\", downcast = \"integer\")\n",
        "# make 'value' numeric\n",
        "vs[\"value\"] = pd.to_numeric(vs.value, errors = \"coerce\")\n"
      ],
      "metadata": {
        "id": "C52f9eOFnLR2"
      },
      "id": "C52f9eOFnLR2",
      "execution_count": null,
      "outputs": []
    },
    {
      "cell_type": "code",
      "source": [
        "# get some info about the final table of vital signs \n",
        "vs.describe(include = \"all\")\n",
        "vs.isna().sum() # how many NA's per column? "
      ],
      "metadata": {
        "id": "TOQw0YVvm3dk",
        "outputId": "c7307863-fb73-4d24-b5a1-392b76de360d",
        "colab": {
          "base_uri": "https://localhost:8080/"
        }
      },
      "id": "TOQw0YVvm3dk",
      "execution_count": null,
      "outputs": [
        {
          "output_type": "execute_result",
          "data": {
            "text/plain": [
              "CSA                 0\n",
              "indicator           0\n",
              "year                0\n",
              "value           43833\n",
              "year_numeric     5916\n",
              "dtype: int64"
            ]
          },
          "metadata": {},
          "execution_count": 61
        }
      ]
    },
    {
      "cell_type": "code",
      "source": [
        "# remove rows where value is NA\n",
        "vs.dropna(subset = [\"value\"], inplace = True)\n",
        "# sometimes we have multiple values for 2010 indicators (from historic and from API)\n",
        "  # round to 4 digits (for uniformity) & remove duplicates \n",
        "vs[\"value\"] = vs.value.round(4)\n",
        "vs = vs.drop_duplicates()"
      ],
      "metadata": {
        "id": "pEiWegYVdlRH"
      },
      "id": "pEiWegYVdlRH",
      "execution_count": null,
      "outputs": []
    },
    {
      "cell_type": "code",
      "source": [
        "vs.head(10)"
      ],
      "metadata": {
        "id": "a6zJun5QeIgz",
        "outputId": "8a20ede5-bc03-4004-b276-1c041be91324",
        "colab": {
          "base_uri": "https://localhost:8080/",
          "height": 363
        }
      },
      "id": "a6zJun5QeIgz",
      "execution_count": null,
      "outputs": [
        {
          "output_type": "execute_result",
          "data": {
            "text/html": [
              "\n",
              "  <div id=\"df-c0f2604d-419b-43f0-a8ba-2db8b1aa8239\">\n",
              "    <div class=\"colab-df-container\">\n",
              "      <div>\n",
              "<style scoped>\n",
              "    .dataframe tbody tr th:only-of-type {\n",
              "        vertical-align: middle;\n",
              "    }\n",
              "\n",
              "    .dataframe tbody tr th {\n",
              "        vertical-align: top;\n",
              "    }\n",
              "\n",
              "    .dataframe thead th {\n",
              "        text-align: right;\n",
              "    }\n",
              "</style>\n",
              "<table border=\"1\" class=\"dataframe\">\n",
              "  <thead>\n",
              "    <tr style=\"text-align: right;\">\n",
              "      <th></th>\n",
              "      <th>CSA</th>\n",
              "      <th>indicator</th>\n",
              "      <th>year</th>\n",
              "      <th>value</th>\n",
              "      <th>year_numeric</th>\n",
              "    </tr>\n",
              "  </thead>\n",
              "  <tbody>\n",
              "    <tr>\n",
              "      <th>0</th>\n",
              "      <td>Allendale/Irvington/S. Hilton</td>\n",
              "      <td>female</td>\n",
              "      <td>2000</td>\n",
              "      <td>10640.0</td>\n",
              "      <td>2000.0</td>\n",
              "    </tr>\n",
              "    <tr>\n",
              "      <th>1</th>\n",
              "      <td>Beechfield/Ten Hills/West Hills</td>\n",
              "      <td>female</td>\n",
              "      <td>2000</td>\n",
              "      <td>7110.0</td>\n",
              "      <td>2000.0</td>\n",
              "    </tr>\n",
              "    <tr>\n",
              "      <th>2</th>\n",
              "      <td>Belair-Edison</td>\n",
              "      <td>female</td>\n",
              "      <td>2000</td>\n",
              "      <td>9516.0</td>\n",
              "      <td>2000.0</td>\n",
              "    </tr>\n",
              "    <tr>\n",
              "      <th>3</th>\n",
              "      <td>Brooklyn/Curtis Bay/Hawkins Point</td>\n",
              "      <td>female</td>\n",
              "      <td>2000</td>\n",
              "      <td>6972.0</td>\n",
              "      <td>2000.0</td>\n",
              "    </tr>\n",
              "    <tr>\n",
              "      <th>4</th>\n",
              "      <td>Canton</td>\n",
              "      <td>female</td>\n",
              "      <td>2000</td>\n",
              "      <td>3546.0</td>\n",
              "      <td>2000.0</td>\n",
              "    </tr>\n",
              "    <tr>\n",
              "      <th>5</th>\n",
              "      <td>Cedonia/Frankford</td>\n",
              "      <td>female</td>\n",
              "      <td>2000</td>\n",
              "      <td>12404.0</td>\n",
              "      <td>2000.0</td>\n",
              "    </tr>\n",
              "    <tr>\n",
              "      <th>6</th>\n",
              "      <td>Cherry Hill</td>\n",
              "      <td>female</td>\n",
              "      <td>2000</td>\n",
              "      <td>4485.0</td>\n",
              "      <td>2000.0</td>\n",
              "    </tr>\n",
              "    <tr>\n",
              "      <th>7</th>\n",
              "      <td>Chinquapin Park/Belvedere</td>\n",
              "      <td>female</td>\n",
              "      <td>2000</td>\n",
              "      <td>4551.0</td>\n",
              "      <td>2000.0</td>\n",
              "    </tr>\n",
              "    <tr>\n",
              "      <th>8</th>\n",
              "      <td>Claremont/Armistead</td>\n",
              "      <td>female</td>\n",
              "      <td>2000</td>\n",
              "      <td>4612.0</td>\n",
              "      <td>2000.0</td>\n",
              "    </tr>\n",
              "    <tr>\n",
              "      <th>9</th>\n",
              "      <td>Clifton-Berea</td>\n",
              "      <td>female</td>\n",
              "      <td>2000</td>\n",
              "      <td>6804.0</td>\n",
              "      <td>2000.0</td>\n",
              "    </tr>\n",
              "  </tbody>\n",
              "</table>\n",
              "</div>\n",
              "      <button class=\"colab-df-convert\" onclick=\"convertToInteractive('df-c0f2604d-419b-43f0-a8ba-2db8b1aa8239')\"\n",
              "              title=\"Convert this dataframe to an interactive table.\"\n",
              "              style=\"display:none;\">\n",
              "        \n",
              "  <svg xmlns=\"http://www.w3.org/2000/svg\" height=\"24px\"viewBox=\"0 0 24 24\"\n",
              "       width=\"24px\">\n",
              "    <path d=\"M0 0h24v24H0V0z\" fill=\"none\"/>\n",
              "    <path d=\"M18.56 5.44l.94 2.06.94-2.06 2.06-.94-2.06-.94-.94-2.06-.94 2.06-2.06.94zm-11 1L8.5 8.5l.94-2.06 2.06-.94-2.06-.94L8.5 2.5l-.94 2.06-2.06.94zm10 10l.94 2.06.94-2.06 2.06-.94-2.06-.94-.94-2.06-.94 2.06-2.06.94z\"/><path d=\"M17.41 7.96l-1.37-1.37c-.4-.4-.92-.59-1.43-.59-.52 0-1.04.2-1.43.59L10.3 9.45l-7.72 7.72c-.78.78-.78 2.05 0 2.83L4 21.41c.39.39.9.59 1.41.59.51 0 1.02-.2 1.41-.59l7.78-7.78 2.81-2.81c.8-.78.8-2.07 0-2.86zM5.41 20L4 18.59l7.72-7.72 1.47 1.35L5.41 20z\"/>\n",
              "  </svg>\n",
              "      </button>\n",
              "      \n",
              "  <style>\n",
              "    .colab-df-container {\n",
              "      display:flex;\n",
              "      flex-wrap:wrap;\n",
              "      gap: 12px;\n",
              "    }\n",
              "\n",
              "    .colab-df-convert {\n",
              "      background-color: #E8F0FE;\n",
              "      border: none;\n",
              "      border-radius: 50%;\n",
              "      cursor: pointer;\n",
              "      display: none;\n",
              "      fill: #1967D2;\n",
              "      height: 32px;\n",
              "      padding: 0 0 0 0;\n",
              "      width: 32px;\n",
              "    }\n",
              "\n",
              "    .colab-df-convert:hover {\n",
              "      background-color: #E2EBFA;\n",
              "      box-shadow: 0px 1px 2px rgba(60, 64, 67, 0.3), 0px 1px 3px 1px rgba(60, 64, 67, 0.15);\n",
              "      fill: #174EA6;\n",
              "    }\n",
              "\n",
              "    [theme=dark] .colab-df-convert {\n",
              "      background-color: #3B4455;\n",
              "      fill: #D2E3FC;\n",
              "    }\n",
              "\n",
              "    [theme=dark] .colab-df-convert:hover {\n",
              "      background-color: #434B5C;\n",
              "      box-shadow: 0px 1px 3px 1px rgba(0, 0, 0, 0.15);\n",
              "      filter: drop-shadow(0px 1px 2px rgba(0, 0, 0, 0.3));\n",
              "      fill: #FFFFFF;\n",
              "    }\n",
              "  </style>\n",
              "\n",
              "      <script>\n",
              "        const buttonEl =\n",
              "          document.querySelector('#df-c0f2604d-419b-43f0-a8ba-2db8b1aa8239 button.colab-df-convert');\n",
              "        buttonEl.style.display =\n",
              "          google.colab.kernel.accessAllowed ? 'block' : 'none';\n",
              "\n",
              "        async function convertToInteractive(key) {\n",
              "          const element = document.querySelector('#df-c0f2604d-419b-43f0-a8ba-2db8b1aa8239');\n",
              "          const dataTable =\n",
              "            await google.colab.kernel.invokeFunction('convertToInteractive',\n",
              "                                                     [key], {});\n",
              "          if (!dataTable) return;\n",
              "\n",
              "          const docLinkHtml = 'Like what you see? Visit the ' +\n",
              "            '<a target=\"_blank\" href=https://colab.research.google.com/notebooks/data_table.ipynb>data table notebook</a>'\n",
              "            + ' to learn more about interactive tables.';\n",
              "          element.innerHTML = '';\n",
              "          dataTable['output_type'] = 'display_data';\n",
              "          await google.colab.output.renderOutput(dataTable, element);\n",
              "          const docLink = document.createElement('div');\n",
              "          docLink.innerHTML = docLinkHtml;\n",
              "          element.appendChild(docLink);\n",
              "        }\n",
              "      </script>\n",
              "    </div>\n",
              "  </div>\n",
              "  "
            ],
            "text/plain": [
              "                                 CSA indicator  year    value  year_numeric\n",
              "0      Allendale/Irvington/S. Hilton    female  2000  10640.0        2000.0\n",
              "1    Beechfield/Ten Hills/West Hills    female  2000   7110.0        2000.0\n",
              "2                      Belair-Edison    female  2000   9516.0        2000.0\n",
              "3  Brooklyn/Curtis Bay/Hawkins Point    female  2000   6972.0        2000.0\n",
              "4                             Canton    female  2000   3546.0        2000.0\n",
              "5                  Cedonia/Frankford    female  2000  12404.0        2000.0\n",
              "6                        Cherry Hill    female  2000   4485.0        2000.0\n",
              "7          Chinquapin Park/Belvedere    female  2000   4551.0        2000.0\n",
              "8                Claremont/Armistead    female  2000   4612.0        2000.0\n",
              "9                      Clifton-Berea    female  2000   6804.0        2000.0"
            ]
          },
          "metadata": {},
          "execution_count": 64
        }
      ]
    },
    {
      "cell_type": "code",
      "execution_count": null,
      "id": "7fc590a2",
      "metadata": {
        "id": "7fc590a2"
      },
      "outputs": [],
      "source": [
        "# export for posterity \n",
        "vs.to_csv(\"full_vital_signs.csv\", index = False)"
      ]
    },
    {
      "cell_type": "code",
      "execution_count": null,
      "id": "6a642209",
      "metadata": {
        "id": "6a642209",
        "outputId": "af93b701-7942-454d-b54d-79ecca760693",
        "colab": {
          "base_uri": "https://localhost:8080/",
          "height": 624
        }
      },
      "outputs": [
        {
          "output_type": "execute_result",
          "data": {
            "text/html": [
              "\n",
              "  <div id=\"df-ad7fd1e3-62e4-423a-ac06-055c902f14cb\">\n",
              "    <div class=\"colab-df-container\">\n",
              "      <div>\n",
              "<style scoped>\n",
              "    .dataframe tbody tr th:only-of-type {\n",
              "        vertical-align: middle;\n",
              "    }\n",
              "\n",
              "    .dataframe tbody tr th {\n",
              "        vertical-align: top;\n",
              "    }\n",
              "\n",
              "    .dataframe thead th {\n",
              "        text-align: right;\n",
              "    }\n",
              "</style>\n",
              "<table border=\"1\" class=\"dataframe\">\n",
              "  <thead>\n",
              "    <tr style=\"text-align: right;\">\n",
              "      <th></th>\n",
              "      <th>indicator</th>\n",
              "      <th>year</th>\n",
              "      <th>indicator_description</th>\n",
              "      <th>category</th>\n",
              "      <th>count_years_available</th>\n",
              "    </tr>\n",
              "  </thead>\n",
              "  <tbody>\n",
              "    <tr>\n",
              "      <th>0</th>\n",
              "      <td>aastud</td>\n",
              "      <td>[2005, 2006, 2007, 2008, 2009, 2010, 2011, 201...</td>\n",
              "      <td>Percent of Students that are African American ...</td>\n",
              "      <td>Education and Youth</td>\n",
              "      <td>15</td>\n",
              "    </tr>\n",
              "    <tr>\n",
              "      <th>1</th>\n",
              "      <td>abse</td>\n",
              "      <td>[2005, 2006, 2007, 2008, 2009, 2010, 2011, 201...</td>\n",
              "      <td>Percent of 1st-5th Grade Students that are Chr...</td>\n",
              "      <td>Education and Youth</td>\n",
              "      <td>14</td>\n",
              "    </tr>\n",
              "    <tr>\n",
              "      <th>2</th>\n",
              "      <td>abshs</td>\n",
              "      <td>[2005, 2006, 2007, 2008, 2009, 2010, 2011, 201...</td>\n",
              "      <td>Percent of 9th-12th Grade Students that are Ch...</td>\n",
              "      <td>Education and Youth</td>\n",
              "      <td>14</td>\n",
              "    </tr>\n",
              "    <tr>\n",
              "      <th>3</th>\n",
              "      <td>absmd</td>\n",
              "      <td>[2005, 2006, 2007, 2008, 2009, 2010, 2011, 201...</td>\n",
              "      <td>Percent of 6th-8th Grade Students that are Chr...</td>\n",
              "      <td>Education and Youth</td>\n",
              "      <td>14</td>\n",
              "    </tr>\n",
              "    <tr>\n",
              "      <th>4</th>\n",
              "      <td>affordm</td>\n",
              "      <td>[2000, 2006 - 2010, 2010, 2011, 2012, 2013, 20...</td>\n",
              "      <td>Affordability Index - Mortgage</td>\n",
              "      <td>Housing and Community Development</td>\n",
              "      <td>12</td>\n",
              "    </tr>\n",
              "    <tr>\n",
              "      <th>...</th>\n",
              "      <td>...</td>\n",
              "      <td>...</td>\n",
              "      <td>...</td>\n",
              "      <td>...</td>\n",
              "      <td>...</td>\n",
              "    </tr>\n",
              "    <tr>\n",
              "      <th>159</th>\n",
              "      <td>viol</td>\n",
              "      <td>[2000, 2001, 2002, 2003, 2004, 2005, 2006, 200...</td>\n",
              "      <td>Violent Crime Rate per 1,000 Residents</td>\n",
              "      <td>Crime and Safety</td>\n",
              "      <td>21</td>\n",
              "    </tr>\n",
              "    <tr>\n",
              "      <th>160</th>\n",
              "      <td>voted</td>\n",
              "      <td>[2010, 2012, 2014, 2016, 2018]</td>\n",
              "      <td>Percent Population (Over the age of 18) Who Vo...</td>\n",
              "      <td>Sustainability</td>\n",
              "      <td>5</td>\n",
              "    </tr>\n",
              "    <tr>\n",
              "      <th>161</th>\n",
              "      <td>walked</td>\n",
              "      <td>[2011, 2012, 2013, 2014, 2015, 2016, 2017, 201...</td>\n",
              "      <td>Percent of Population that Walks to Work</td>\n",
              "      <td>Sustainability</td>\n",
              "      <td>9</td>\n",
              "    </tr>\n",
              "    <tr>\n",
              "      <th>162</th>\n",
              "      <td>wlksc</td>\n",
              "      <td>[2011, 2017]</td>\n",
              "      <td>Walk Score</td>\n",
              "      <td>Sustainability</td>\n",
              "      <td>2</td>\n",
              "    </tr>\n",
              "    <tr>\n",
              "      <th>163</th>\n",
              "      <td>wstud</td>\n",
              "      <td>[2005, 2006, 2007, 2008, 2009, 2010, 2011, 201...</td>\n",
              "      <td>Percent of Students that are White (non-Hispanic)</td>\n",
              "      <td>Education and Youth</td>\n",
              "      <td>15</td>\n",
              "    </tr>\n",
              "  </tbody>\n",
              "</table>\n",
              "<p>164 rows × 5 columns</p>\n",
              "</div>\n",
              "      <button class=\"colab-df-convert\" onclick=\"convertToInteractive('df-ad7fd1e3-62e4-423a-ac06-055c902f14cb')\"\n",
              "              title=\"Convert this dataframe to an interactive table.\"\n",
              "              style=\"display:none;\">\n",
              "        \n",
              "  <svg xmlns=\"http://www.w3.org/2000/svg\" height=\"24px\"viewBox=\"0 0 24 24\"\n",
              "       width=\"24px\">\n",
              "    <path d=\"M0 0h24v24H0V0z\" fill=\"none\"/>\n",
              "    <path d=\"M18.56 5.44l.94 2.06.94-2.06 2.06-.94-2.06-.94-.94-2.06-.94 2.06-2.06.94zm-11 1L8.5 8.5l.94-2.06 2.06-.94-2.06-.94L8.5 2.5l-.94 2.06-2.06.94zm10 10l.94 2.06.94-2.06 2.06-.94-2.06-.94-.94-2.06-.94 2.06-2.06.94z\"/><path d=\"M17.41 7.96l-1.37-1.37c-.4-.4-.92-.59-1.43-.59-.52 0-1.04.2-1.43.59L10.3 9.45l-7.72 7.72c-.78.78-.78 2.05 0 2.83L4 21.41c.39.39.9.59 1.41.59.51 0 1.02-.2 1.41-.59l7.78-7.78 2.81-2.81c.8-.78.8-2.07 0-2.86zM5.41 20L4 18.59l7.72-7.72 1.47 1.35L5.41 20z\"/>\n",
              "  </svg>\n",
              "      </button>\n",
              "      \n",
              "  <style>\n",
              "    .colab-df-container {\n",
              "      display:flex;\n",
              "      flex-wrap:wrap;\n",
              "      gap: 12px;\n",
              "    }\n",
              "\n",
              "    .colab-df-convert {\n",
              "      background-color: #E8F0FE;\n",
              "      border: none;\n",
              "      border-radius: 50%;\n",
              "      cursor: pointer;\n",
              "      display: none;\n",
              "      fill: #1967D2;\n",
              "      height: 32px;\n",
              "      padding: 0 0 0 0;\n",
              "      width: 32px;\n",
              "    }\n",
              "\n",
              "    .colab-df-convert:hover {\n",
              "      background-color: #E2EBFA;\n",
              "      box-shadow: 0px 1px 2px rgba(60, 64, 67, 0.3), 0px 1px 3px 1px rgba(60, 64, 67, 0.15);\n",
              "      fill: #174EA6;\n",
              "    }\n",
              "\n",
              "    [theme=dark] .colab-df-convert {\n",
              "      background-color: #3B4455;\n",
              "      fill: #D2E3FC;\n",
              "    }\n",
              "\n",
              "    [theme=dark] .colab-df-convert:hover {\n",
              "      background-color: #434B5C;\n",
              "      box-shadow: 0px 1px 3px 1px rgba(0, 0, 0, 0.15);\n",
              "      filter: drop-shadow(0px 1px 2px rgba(0, 0, 0, 0.3));\n",
              "      fill: #FFFFFF;\n",
              "    }\n",
              "  </style>\n",
              "\n",
              "      <script>\n",
              "        const buttonEl =\n",
              "          document.querySelector('#df-ad7fd1e3-62e4-423a-ac06-055c902f14cb button.colab-df-convert');\n",
              "        buttonEl.style.display =\n",
              "          google.colab.kernel.accessAllowed ? 'block' : 'none';\n",
              "\n",
              "        async function convertToInteractive(key) {\n",
              "          const element = document.querySelector('#df-ad7fd1e3-62e4-423a-ac06-055c902f14cb');\n",
              "          const dataTable =\n",
              "            await google.colab.kernel.invokeFunction('convertToInteractive',\n",
              "                                                     [key], {});\n",
              "          if (!dataTable) return;\n",
              "\n",
              "          const docLinkHtml = 'Like what you see? Visit the ' +\n",
              "            '<a target=\"_blank\" href=https://colab.research.google.com/notebooks/data_table.ipynb>data table notebook</a>'\n",
              "            + ' to learn more about interactive tables.';\n",
              "          element.innerHTML = '';\n",
              "          dataTable['output_type'] = 'display_data';\n",
              "          await google.colab.output.renderOutput(dataTable, element);\n",
              "          const docLink = document.createElement('div');\n",
              "          docLink.innerHTML = docLinkHtml;\n",
              "          element.appendChild(docLink);\n",
              "        }\n",
              "      </script>\n",
              "    </div>\n",
              "  </div>\n",
              "  "
            ],
            "text/plain": [
              "    indicator  ... count_years_available\n",
              "0      aastud  ...                    15\n",
              "1        abse  ...                    14\n",
              "2       abshs  ...                    14\n",
              "3       absmd  ...                    14\n",
              "4     affordm  ...                    12\n",
              "..        ...  ...                   ...\n",
              "159      viol  ...                    21\n",
              "160     voted  ...                     5\n",
              "161    walked  ...                     9\n",
              "162     wlksc  ...                     2\n",
              "163     wstud  ...                    15\n",
              "\n",
              "[164 rows x 5 columns]"
            ]
          },
          "metadata": {},
          "execution_count": 66
        }
      ],
      "source": [
        "### create an info dataframe of indicator, years available, description, and category \n",
        "# function for a sorted set \n",
        "def sort_set(series):\n",
        "  x = set(series)\n",
        "  return sorted(x)\n",
        "\n",
        "# get dataframe of indicators and years available for each (sorted)\n",
        "info = vs[[\"indicator\",\"year\"]].groupby([\"indicator\"])[\"year\"].apply(sort_set).reset_index()\n",
        "# grab the info from the api DF\n",
        "indicator_desc = api_df.rename(columns = {\"Indicator\":\"indicator_description\",\"shortname_noX\":\"indicator\",\"Section\":\"category\"})[[\"indicator_description\",\"indicator\",\"category\"]]\n",
        "info = info.merge(indicator_desc, how = \"left\")\n",
        "# add column for number of years available \n",
        "info[\"count_years_available\"] = [len(yrs) for yrs in info.year]\n",
        "info"
      ]
    },
    {
      "cell_type": "code",
      "execution_count": null,
      "id": "ae5027ae",
      "metadata": {
        "id": "ae5027ae"
      },
      "outputs": [],
      "source": [
        "# export \n",
        "info.to_csv(\"indicator_info.csv\", index = False)"
      ]
    },
    {
      "cell_type": "code",
      "execution_count": null,
      "id": "37023f9d",
      "metadata": {
        "id": "37023f9d",
        "outputId": "24b89de4-984e-46b2-e3b4-0f4818c67501",
        "colab": {
          "base_uri": "https://localhost:8080/"
        }
      },
      "outputs": [
        {
          "output_type": "execute_result",
          "data": {
            "text/plain": [
              "164"
            ]
          },
          "metadata": {},
          "execution_count": 68
        }
      ],
      "source": [
        "# how many unique indicators did I end up with? \n",
        "len(set(vs.indicator)) # great"
      ]
    },
    {
      "cell_type": "code",
      "execution_count": null,
      "id": "ac573878",
      "metadata": {
        "id": "ac573878",
        "outputId": "652e9de4-7c47-46b6-fab6-8f0a66f06721",
        "colab": {
          "base_uri": "https://localhost:8080/"
        }
      },
      "outputs": [
        {
          "output_type": "execute_result",
          "data": {
            "text/plain": [
              "['aastud',\n",
              " 'abse',\n",
              " 'abshs',\n",
              " 'absmd',\n",
              " 'affordm',\n",
              " 'affordr',\n",
              " 'age0-18_',\n",
              " 'age18_',\n",
              " 'age24_',\n",
              " 'age45-64_',\n",
              " 'age5_',\n",
              " 'age64_',\n",
              " 'age65_',\n",
              " 'arrest',\n",
              " 'artevnt',\n",
              " 'bahigher',\n",
              " 'baltvac',\n",
              " 'banks',\n",
              " 'birthwt',\n",
              " 'biz1_',\n",
              " 'biz2_',\n",
              " 'biz4_',\n",
              " 'bkln',\n",
              " 'business_50-99_emp',\n",
              " 'busload',\n",
              " 'caracc',\n",
              " 'caslt',\n",
              " 'clogged',\n",
              " 'cmos',\n",
              " 'community_dev_corporations',\n",
              " 'community_gardens',\n",
              " 'comp',\n",
              " 'compl',\n",
              " 'comprop',\n",
              " 'constper',\n",
              " 'crehab',\n",
              " 'crime',\n",
              " 'dirtyst',\n",
              " 'dom',\n",
              " 'domvio',\n",
              " 'drop',\n",
              " 'eattend',\n",
              " 'ebll',\n",
              " 'elheat',\n",
              " 'empl',\n",
              " 'fam',\n",
              " 'familiesrelatedkids',\n",
              " 'farms',\n",
              " 'fastfd',\n",
              " 'female',\n",
              " 'femhhs',\n",
              " 'fore',\n",
              " 'gunhom',\n",
              " 'hazardous_waste_sites_count',\n",
              " 'hcvhouse',\n",
              " 'heatgas',\n",
              " 'hfai',\n",
              " 'hh25inc',\n",
              " 'hh40inc',\n",
              " 'hh60inc',\n",
              " 'hh75inc',\n",
              " 'hhchpov',\n",
              " 'hhm75',\n",
              " 'hhpov',\n",
              " 'hhs',\n",
              " 'hhsize',\n",
              " 'historical_buildings',\n",
              " 'hs_degree_only_25plus',\n",
              " 'hsaalg',\n",
              " 'hsabio',\n",
              " 'hsaeng',\n",
              " 'hsagov',\n",
              " 'hsattend',\n",
              " 'hsdipl',\n",
              " 'hstud',\n",
              " 'individuals_below_povline',\n",
              " 'juvarr',\n",
              " 'juvdrug',\n",
              " 'juvviol',\n",
              " 'kra',\n",
              " 'leadtest',\n",
              " 'lesshs',\n",
              " 'libcard',\n",
              " 'lifexp',\n",
              " 'liquor',\n",
              " 'male',\n",
              " 'math3',\n",
              " 'math5',\n",
              " 'math8',\n",
              " 'mattend',\n",
              " 'mhhi',\n",
              " 'mort1_',\n",
              " 'narc',\n",
              " 'neighborhood-associations',\n",
              " 'nilf',\n",
              " 'nohhint',\n",
              " 'non-car_commute',\n",
              " 'novhcl',\n",
              " 'numbus',\n",
              " 'othrcom',\n",
              " 'overd',\n",
              " 'ownroc',\n",
              " 'p2more',\n",
              " 'paa',\n",
              " 'palg1',\n",
              " 'palg2',\n",
              " 'park_enviro_groups',\n",
              " 'pasi',\n",
              " 'pct18-25_registeredvote',\n",
              " 'pct18-25_voted',\n",
              " 'pct_small_business_4yrold',\n",
              " 'phisp',\n",
              " 'phsip',\n",
              " 'pmath3',\n",
              " 'pmath5',\n",
              " 'pmath8',\n",
              " 'pna',\n",
              " 'pother',\n",
              " 'ppac',\n",
              " 'ppacis',\n",
              " 'prbprl',\n",
              " 'pread3',\n",
              " 'pread5',\n",
              " 'pread8',\n",
              " 'prenatal',\n",
              " 'prop',\n",
              " 'publart',\n",
              " 'pubtran',\n",
              " 'pwhite',\n",
              " 'racdiv',\n",
              " 'read3',\n",
              " 'read5',\n",
              " 'read8',\n",
              " 'ready',\n",
              " 'registered-voters_voted',\n",
              " 'registered_voters_18plus',\n",
              " 'regvote',\n",
              " 'reosa',\n",
              " 'resrehab',\n",
              " 'salepr',\n",
              " 'sclemp',\n",
              " 'sclsw',\n",
              " 'shomes',\n",
              " 'shoot',\n",
              " 'smlbus',\n",
              " 'sped',\n",
              " 'susp',\n",
              " 'tanf',\n",
              " 'teenbir',\n",
              " 'termbir',\n",
              " 'totalres',\n",
              " 'totemp',\n",
              " 'tpop',\n",
              " 'trees',\n",
              " 'umbrella_nonprofits',\n",
              " 'unempl',\n",
              " 'unempr',\n",
              " 'vacant',\n",
              " 'vio',\n",
              " 'viol',\n",
              " 'voted',\n",
              " 'walked',\n",
              " 'wlksc',\n",
              " 'wstud']"
            ]
          },
          "metadata": {},
          "execution_count": 69
        }
      ],
      "source": [
        "# check out a list the indicators\n",
        "indicator_list = list(set(vs.indicator))\n",
        "indicator_list.sort()\n",
        "indicator_list"
      ]
    },
    {
      "cell_type": "code",
      "source": [
        "# side note - get list of CSAs to check for duplicates (include which years are listed with which name)\n",
        "csa_by_year = vs[[\"CSA\",\"year\"]].groupby([\"CSA\"])[\"year\"].apply(sort_set).reset_index()\n",
        "# write to csv to examine in Excel \n",
        "csa_by_year.to_csv(\"csa_names.csv\", index = False)"
      ],
      "metadata": {
        "id": "AspaeaZwZQ_b"
      },
      "id": "AspaeaZwZQ_b",
      "execution_count": null,
      "outputs": []
    },
    {
      "cell_type": "markdown",
      "source": [
        "## Load Pre-Processed Data"
      ],
      "metadata": {
        "id": "x_Wifdyg3_JK"
      },
      "id": "x_Wifdyg3_JK"
    },
    {
      "cell_type": "code",
      "source": [
        "# vital signs \n",
        "vs = pd.read_csv(\"full_vital_signs.csv\")\n",
        "# make value numeric (float), make year integer \n",
        "vs.value = pd.to_numeric(vs.value, errors = \"coerce\")\n",
        "vs.head()"
      ],
      "metadata": {
        "id": "s1VAOYmp3-ZT",
        "outputId": "e5fbc2af-3144-479e-f4a7-315c5c156830",
        "colab": {
          "base_uri": "https://localhost:8080/",
          "height": 206
        }
      },
      "id": "s1VAOYmp3-ZT",
      "execution_count": 7,
      "outputs": [
        {
          "output_type": "execute_result",
          "data": {
            "text/html": [
              "\n",
              "  <div id=\"df-23dd67b3-5e45-46f0-a4ab-6d33e9eef672\">\n",
              "    <div class=\"colab-df-container\">\n",
              "      <div>\n",
              "<style scoped>\n",
              "    .dataframe tbody tr th:only-of-type {\n",
              "        vertical-align: middle;\n",
              "    }\n",
              "\n",
              "    .dataframe tbody tr th {\n",
              "        vertical-align: top;\n",
              "    }\n",
              "\n",
              "    .dataframe thead th {\n",
              "        text-align: right;\n",
              "    }\n",
              "</style>\n",
              "<table border=\"1\" class=\"dataframe\">\n",
              "  <thead>\n",
              "    <tr style=\"text-align: right;\">\n",
              "      <th></th>\n",
              "      <th>CSA</th>\n",
              "      <th>indicator</th>\n",
              "      <th>year</th>\n",
              "      <th>value</th>\n",
              "      <th>year_numeric</th>\n",
              "    </tr>\n",
              "  </thead>\n",
              "  <tbody>\n",
              "    <tr>\n",
              "      <th>0</th>\n",
              "      <td>Allendale/Irvington/S. Hilton</td>\n",
              "      <td>female</td>\n",
              "      <td>2000</td>\n",
              "      <td>10640.0</td>\n",
              "      <td>2000.0</td>\n",
              "    </tr>\n",
              "    <tr>\n",
              "      <th>1</th>\n",
              "      <td>Beechfield/Ten Hills/West Hills</td>\n",
              "      <td>female</td>\n",
              "      <td>2000</td>\n",
              "      <td>7110.0</td>\n",
              "      <td>2000.0</td>\n",
              "    </tr>\n",
              "    <tr>\n",
              "      <th>2</th>\n",
              "      <td>Belair-Edison</td>\n",
              "      <td>female</td>\n",
              "      <td>2000</td>\n",
              "      <td>9516.0</td>\n",
              "      <td>2000.0</td>\n",
              "    </tr>\n",
              "    <tr>\n",
              "      <th>3</th>\n",
              "      <td>Brooklyn/Curtis Bay/Hawkins Point</td>\n",
              "      <td>female</td>\n",
              "      <td>2000</td>\n",
              "      <td>6972.0</td>\n",
              "      <td>2000.0</td>\n",
              "    </tr>\n",
              "    <tr>\n",
              "      <th>4</th>\n",
              "      <td>Canton</td>\n",
              "      <td>female</td>\n",
              "      <td>2000</td>\n",
              "      <td>3546.0</td>\n",
              "      <td>2000.0</td>\n",
              "    </tr>\n",
              "  </tbody>\n",
              "</table>\n",
              "</div>\n",
              "      <button class=\"colab-df-convert\" onclick=\"convertToInteractive('df-23dd67b3-5e45-46f0-a4ab-6d33e9eef672')\"\n",
              "              title=\"Convert this dataframe to an interactive table.\"\n",
              "              style=\"display:none;\">\n",
              "        \n",
              "  <svg xmlns=\"http://www.w3.org/2000/svg\" height=\"24px\"viewBox=\"0 0 24 24\"\n",
              "       width=\"24px\">\n",
              "    <path d=\"M0 0h24v24H0V0z\" fill=\"none\"/>\n",
              "    <path d=\"M18.56 5.44l.94 2.06.94-2.06 2.06-.94-2.06-.94-.94-2.06-.94 2.06-2.06.94zm-11 1L8.5 8.5l.94-2.06 2.06-.94-2.06-.94L8.5 2.5l-.94 2.06-2.06.94zm10 10l.94 2.06.94-2.06 2.06-.94-2.06-.94-.94-2.06-.94 2.06-2.06.94z\"/><path d=\"M17.41 7.96l-1.37-1.37c-.4-.4-.92-.59-1.43-.59-.52 0-1.04.2-1.43.59L10.3 9.45l-7.72 7.72c-.78.78-.78 2.05 0 2.83L4 21.41c.39.39.9.59 1.41.59.51 0 1.02-.2 1.41-.59l7.78-7.78 2.81-2.81c.8-.78.8-2.07 0-2.86zM5.41 20L4 18.59l7.72-7.72 1.47 1.35L5.41 20z\"/>\n",
              "  </svg>\n",
              "      </button>\n",
              "      \n",
              "  <style>\n",
              "    .colab-df-container {\n",
              "      display:flex;\n",
              "      flex-wrap:wrap;\n",
              "      gap: 12px;\n",
              "    }\n",
              "\n",
              "    .colab-df-convert {\n",
              "      background-color: #E8F0FE;\n",
              "      border: none;\n",
              "      border-radius: 50%;\n",
              "      cursor: pointer;\n",
              "      display: none;\n",
              "      fill: #1967D2;\n",
              "      height: 32px;\n",
              "      padding: 0 0 0 0;\n",
              "      width: 32px;\n",
              "    }\n",
              "\n",
              "    .colab-df-convert:hover {\n",
              "      background-color: #E2EBFA;\n",
              "      box-shadow: 0px 1px 2px rgba(60, 64, 67, 0.3), 0px 1px 3px 1px rgba(60, 64, 67, 0.15);\n",
              "      fill: #174EA6;\n",
              "    }\n",
              "\n",
              "    [theme=dark] .colab-df-convert {\n",
              "      background-color: #3B4455;\n",
              "      fill: #D2E3FC;\n",
              "    }\n",
              "\n",
              "    [theme=dark] .colab-df-convert:hover {\n",
              "      background-color: #434B5C;\n",
              "      box-shadow: 0px 1px 3px 1px rgba(0, 0, 0, 0.15);\n",
              "      filter: drop-shadow(0px 1px 2px rgba(0, 0, 0, 0.3));\n",
              "      fill: #FFFFFF;\n",
              "    }\n",
              "  </style>\n",
              "\n",
              "      <script>\n",
              "        const buttonEl =\n",
              "          document.querySelector('#df-23dd67b3-5e45-46f0-a4ab-6d33e9eef672 button.colab-df-convert');\n",
              "        buttonEl.style.display =\n",
              "          google.colab.kernel.accessAllowed ? 'block' : 'none';\n",
              "\n",
              "        async function convertToInteractive(key) {\n",
              "          const element = document.querySelector('#df-23dd67b3-5e45-46f0-a4ab-6d33e9eef672');\n",
              "          const dataTable =\n",
              "            await google.colab.kernel.invokeFunction('convertToInteractive',\n",
              "                                                     [key], {});\n",
              "          if (!dataTable) return;\n",
              "\n",
              "          const docLinkHtml = 'Like what you see? Visit the ' +\n",
              "            '<a target=\"_blank\" href=https://colab.research.google.com/notebooks/data_table.ipynb>data table notebook</a>'\n",
              "            + ' to learn more about interactive tables.';\n",
              "          element.innerHTML = '';\n",
              "          dataTable['output_type'] = 'display_data';\n",
              "          await google.colab.output.renderOutput(dataTable, element);\n",
              "          const docLink = document.createElement('div');\n",
              "          docLink.innerHTML = docLinkHtml;\n",
              "          element.appendChild(docLink);\n",
              "        }\n",
              "      </script>\n",
              "    </div>\n",
              "  </div>\n",
              "  "
            ],
            "text/plain": [
              "                                 CSA indicator  year    value  year_numeric\n",
              "0      Allendale/Irvington/S. Hilton    female  2000  10640.0        2000.0\n",
              "1    Beechfield/Ten Hills/West Hills    female  2000   7110.0        2000.0\n",
              "2                      Belair-Edison    female  2000   9516.0        2000.0\n",
              "3  Brooklyn/Curtis Bay/Hawkins Point    female  2000   6972.0        2000.0\n",
              "4                             Canton    female  2000   3546.0        2000.0"
            ]
          },
          "metadata": {},
          "execution_count": 7
        }
      ]
    },
    {
      "cell_type": "code",
      "source": [
        "vs.describe()"
      ],
      "metadata": {
        "id": "sk1Hi8Vr7RF6",
        "outputId": "18b37711-4a85-475d-bbb8-2f2dffe18042",
        "colab": {
          "base_uri": "https://localhost:8080/",
          "height": 300
        }
      },
      "id": "sk1Hi8Vr7RF6",
      "execution_count": 8,
      "outputs": [
        {
          "output_type": "execute_result",
          "data": {
            "text/html": [
              "\n",
              "  <div id=\"df-45c425d6-49dd-4c70-ac4a-9e26186b9275\">\n",
              "    <div class=\"colab-df-container\">\n",
              "      <div>\n",
              "<style scoped>\n",
              "    .dataframe tbody tr th:only-of-type {\n",
              "        vertical-align: middle;\n",
              "    }\n",
              "\n",
              "    .dataframe tbody tr th {\n",
              "        vertical-align: top;\n",
              "    }\n",
              "\n",
              "    .dataframe thead th {\n",
              "        text-align: right;\n",
              "    }\n",
              "</style>\n",
              "<table border=\"1\" class=\"dataframe\">\n",
              "  <thead>\n",
              "    <tr style=\"text-align: right;\">\n",
              "      <th></th>\n",
              "      <th>value</th>\n",
              "      <th>year_numeric</th>\n",
              "    </tr>\n",
              "  </thead>\n",
              "  <tbody>\n",
              "    <tr>\n",
              "      <th>count</th>\n",
              "      <td>77280.000000</td>\n",
              "      <td>76160.000000</td>\n",
              "    </tr>\n",
              "    <tr>\n",
              "      <th>mean</th>\n",
              "      <td>2435.823947</td>\n",
              "      <td>2011.908600</td>\n",
              "    </tr>\n",
              "    <tr>\n",
              "      <th>std</th>\n",
              "      <td>19210.571354</td>\n",
              "      <td>5.241012</td>\n",
              "    </tr>\n",
              "    <tr>\n",
              "      <th>min</th>\n",
              "      <td>0.000000</td>\n",
              "      <td>2000.000000</td>\n",
              "    </tr>\n",
              "    <tr>\n",
              "      <th>25%</th>\n",
              "      <td>7.079900</td>\n",
              "      <td>2009.000000</td>\n",
              "    </tr>\n",
              "    <tr>\n",
              "      <th>50%</th>\n",
              "      <td>28.370400</td>\n",
              "      <td>2012.000000</td>\n",
              "    </tr>\n",
              "    <tr>\n",
              "      <th>75%</th>\n",
              "      <td>71.900050</td>\n",
              "      <td>2016.000000</td>\n",
              "    </tr>\n",
              "    <tr>\n",
              "      <th>max</th>\n",
              "      <td>651154.000000</td>\n",
              "      <td>2020.000000</td>\n",
              "    </tr>\n",
              "  </tbody>\n",
              "</table>\n",
              "</div>\n",
              "      <button class=\"colab-df-convert\" onclick=\"convertToInteractive('df-45c425d6-49dd-4c70-ac4a-9e26186b9275')\"\n",
              "              title=\"Convert this dataframe to an interactive table.\"\n",
              "              style=\"display:none;\">\n",
              "        \n",
              "  <svg xmlns=\"http://www.w3.org/2000/svg\" height=\"24px\"viewBox=\"0 0 24 24\"\n",
              "       width=\"24px\">\n",
              "    <path d=\"M0 0h24v24H0V0z\" fill=\"none\"/>\n",
              "    <path d=\"M18.56 5.44l.94 2.06.94-2.06 2.06-.94-2.06-.94-.94-2.06-.94 2.06-2.06.94zm-11 1L8.5 8.5l.94-2.06 2.06-.94-2.06-.94L8.5 2.5l-.94 2.06-2.06.94zm10 10l.94 2.06.94-2.06 2.06-.94-2.06-.94-.94-2.06-.94 2.06-2.06.94z\"/><path d=\"M17.41 7.96l-1.37-1.37c-.4-.4-.92-.59-1.43-.59-.52 0-1.04.2-1.43.59L10.3 9.45l-7.72 7.72c-.78.78-.78 2.05 0 2.83L4 21.41c.39.39.9.59 1.41.59.51 0 1.02-.2 1.41-.59l7.78-7.78 2.81-2.81c.8-.78.8-2.07 0-2.86zM5.41 20L4 18.59l7.72-7.72 1.47 1.35L5.41 20z\"/>\n",
              "  </svg>\n",
              "      </button>\n",
              "      \n",
              "  <style>\n",
              "    .colab-df-container {\n",
              "      display:flex;\n",
              "      flex-wrap:wrap;\n",
              "      gap: 12px;\n",
              "    }\n",
              "\n",
              "    .colab-df-convert {\n",
              "      background-color: #E8F0FE;\n",
              "      border: none;\n",
              "      border-radius: 50%;\n",
              "      cursor: pointer;\n",
              "      display: none;\n",
              "      fill: #1967D2;\n",
              "      height: 32px;\n",
              "      padding: 0 0 0 0;\n",
              "      width: 32px;\n",
              "    }\n",
              "\n",
              "    .colab-df-convert:hover {\n",
              "      background-color: #E2EBFA;\n",
              "      box-shadow: 0px 1px 2px rgba(60, 64, 67, 0.3), 0px 1px 3px 1px rgba(60, 64, 67, 0.15);\n",
              "      fill: #174EA6;\n",
              "    }\n",
              "\n",
              "    [theme=dark] .colab-df-convert {\n",
              "      background-color: #3B4455;\n",
              "      fill: #D2E3FC;\n",
              "    }\n",
              "\n",
              "    [theme=dark] .colab-df-convert:hover {\n",
              "      background-color: #434B5C;\n",
              "      box-shadow: 0px 1px 3px 1px rgba(0, 0, 0, 0.15);\n",
              "      filter: drop-shadow(0px 1px 2px rgba(0, 0, 0, 0.3));\n",
              "      fill: #FFFFFF;\n",
              "    }\n",
              "  </style>\n",
              "\n",
              "      <script>\n",
              "        const buttonEl =\n",
              "          document.querySelector('#df-45c425d6-49dd-4c70-ac4a-9e26186b9275 button.colab-df-convert');\n",
              "        buttonEl.style.display =\n",
              "          google.colab.kernel.accessAllowed ? 'block' : 'none';\n",
              "\n",
              "        async function convertToInteractive(key) {\n",
              "          const element = document.querySelector('#df-45c425d6-49dd-4c70-ac4a-9e26186b9275');\n",
              "          const dataTable =\n",
              "            await google.colab.kernel.invokeFunction('convertToInteractive',\n",
              "                                                     [key], {});\n",
              "          if (!dataTable) return;\n",
              "\n",
              "          const docLinkHtml = 'Like what you see? Visit the ' +\n",
              "            '<a target=\"_blank\" href=https://colab.research.google.com/notebooks/data_table.ipynb>data table notebook</a>'\n",
              "            + ' to learn more about interactive tables.';\n",
              "          element.innerHTML = '';\n",
              "          dataTable['output_type'] = 'display_data';\n",
              "          await google.colab.output.renderOutput(dataTable, element);\n",
              "          const docLink = document.createElement('div');\n",
              "          docLink.innerHTML = docLinkHtml;\n",
              "          element.appendChild(docLink);\n",
              "        }\n",
              "      </script>\n",
              "    </div>\n",
              "  </div>\n",
              "  "
            ],
            "text/plain": [
              "               value  year_numeric\n",
              "count   77280.000000  76160.000000\n",
              "mean     2435.823947   2011.908600\n",
              "std     19210.571354      5.241012\n",
              "min         0.000000   2000.000000\n",
              "25%         7.079900   2009.000000\n",
              "50%        28.370400   2012.000000\n",
              "75%        71.900050   2016.000000\n",
              "max    651154.000000   2020.000000"
            ]
          },
          "metadata": {},
          "execution_count": 8
        }
      ]
    },
    {
      "cell_type": "code",
      "source": [
        "# api info \n",
        "api_df = pd.read_csv(\"VS-Indicator-APIs_EF.csv\")\n",
        "# set index to shortname, drop = False (still want a shortname column)\n",
        "api_df.set_index(\"ShortName\", inplace=True, drop = False) \n",
        "api_df.head()"
      ],
      "metadata": {
        "id": "ZsfAtJpX4lTD",
        "outputId": "8bb96845-f43b-4527-be49-3f661860c4d3",
        "colab": {
          "base_uri": "https://localhost:8080/",
          "height": 237
        }
      },
      "id": "ZsfAtJpX4lTD",
      "execution_count": 9,
      "outputs": [
        {
          "output_type": "execute_result",
          "data": {
            "text/html": [
              "\n",
              "  <div id=\"df-28f95a43-27d5-47ac-8597-14c3b5a8648c\">\n",
              "    <div class=\"colab-df-container\">\n",
              "      <div>\n",
              "<style scoped>\n",
              "    .dataframe tbody tr th:only-of-type {\n",
              "        vertical-align: middle;\n",
              "    }\n",
              "\n",
              "    .dataframe tbody tr th {\n",
              "        vertical-align: top;\n",
              "    }\n",
              "\n",
              "    .dataframe thead th {\n",
              "        text-align: right;\n",
              "    }\n",
              "</style>\n",
              "<table border=\"1\" class=\"dataframe\">\n",
              "  <thead>\n",
              "    <tr style=\"text-align: right;\">\n",
              "      <th></th>\n",
              "      <th>Indicator Number</th>\n",
              "      <th>Indicator</th>\n",
              "      <th>ShortName</th>\n",
              "      <th>Section</th>\n",
              "      <th>API</th>\n",
              "      <th>pull</th>\n",
              "    </tr>\n",
              "    <tr>\n",
              "      <th>ShortName</th>\n",
              "      <th></th>\n",
              "      <th></th>\n",
              "      <th></th>\n",
              "      <th></th>\n",
              "      <th></th>\n",
              "      <th></th>\n",
              "    </tr>\n",
              "  </thead>\n",
              "  <tbody>\n",
              "    <tr>\n",
              "      <th>tpopXX</th>\n",
              "      <td>1</td>\n",
              "      <td>Total Population</td>\n",
              "      <td>tpopXX</td>\n",
              "      <td>Census Demographics</td>\n",
              "      <td>https://services1.arcgis.com/mVFRs7NF4iFitgbY/...</td>\n",
              "      <td>1</td>\n",
              "    </tr>\n",
              "    <tr>\n",
              "      <th>maleXX</th>\n",
              "      <td>2</td>\n",
              "      <td>Total Male Population</td>\n",
              "      <td>maleXX</td>\n",
              "      <td>Census Demographics</td>\n",
              "      <td>https://services1.arcgis.com/mVFRs7NF4iFitgbY/...</td>\n",
              "      <td>1</td>\n",
              "    </tr>\n",
              "    <tr>\n",
              "      <th>femaleXX</th>\n",
              "      <td>3</td>\n",
              "      <td>Total Female Population</td>\n",
              "      <td>femaleXX</td>\n",
              "      <td>Census Demographics</td>\n",
              "      <td>https://services1.arcgis.com/mVFRs7NF4iFitgbY/...</td>\n",
              "      <td>1</td>\n",
              "    </tr>\n",
              "    <tr>\n",
              "      <th>paaXX</th>\n",
              "      <td>4</td>\n",
              "      <td>Percent of Residents - Black/African-American ...</td>\n",
              "      <td>paaXX</td>\n",
              "      <td>Census Demographics</td>\n",
              "      <td>https://services1.arcgis.com/mVFRs7NF4iFitgbY/...</td>\n",
              "      <td>1</td>\n",
              "    </tr>\n",
              "    <tr>\n",
              "      <th>pwhiteXX</th>\n",
              "      <td>5</td>\n",
              "      <td>Percent of Residents - White/Caucasian (Non-Hi...</td>\n",
              "      <td>pwhiteXX</td>\n",
              "      <td>Census Demographics</td>\n",
              "      <td>https://services1.arcgis.com/mVFRs7NF4iFitgbY/...</td>\n",
              "      <td>1</td>\n",
              "    </tr>\n",
              "  </tbody>\n",
              "</table>\n",
              "</div>\n",
              "      <button class=\"colab-df-convert\" onclick=\"convertToInteractive('df-28f95a43-27d5-47ac-8597-14c3b5a8648c')\"\n",
              "              title=\"Convert this dataframe to an interactive table.\"\n",
              "              style=\"display:none;\">\n",
              "        \n",
              "  <svg xmlns=\"http://www.w3.org/2000/svg\" height=\"24px\"viewBox=\"0 0 24 24\"\n",
              "       width=\"24px\">\n",
              "    <path d=\"M0 0h24v24H0V0z\" fill=\"none\"/>\n",
              "    <path d=\"M18.56 5.44l.94 2.06.94-2.06 2.06-.94-2.06-.94-.94-2.06-.94 2.06-2.06.94zm-11 1L8.5 8.5l.94-2.06 2.06-.94-2.06-.94L8.5 2.5l-.94 2.06-2.06.94zm10 10l.94 2.06.94-2.06 2.06-.94-2.06-.94-.94-2.06-.94 2.06-2.06.94z\"/><path d=\"M17.41 7.96l-1.37-1.37c-.4-.4-.92-.59-1.43-.59-.52 0-1.04.2-1.43.59L10.3 9.45l-7.72 7.72c-.78.78-.78 2.05 0 2.83L4 21.41c.39.39.9.59 1.41.59.51 0 1.02-.2 1.41-.59l7.78-7.78 2.81-2.81c.8-.78.8-2.07 0-2.86zM5.41 20L4 18.59l7.72-7.72 1.47 1.35L5.41 20z\"/>\n",
              "  </svg>\n",
              "      </button>\n",
              "      \n",
              "  <style>\n",
              "    .colab-df-container {\n",
              "      display:flex;\n",
              "      flex-wrap:wrap;\n",
              "      gap: 12px;\n",
              "    }\n",
              "\n",
              "    .colab-df-convert {\n",
              "      background-color: #E8F0FE;\n",
              "      border: none;\n",
              "      border-radius: 50%;\n",
              "      cursor: pointer;\n",
              "      display: none;\n",
              "      fill: #1967D2;\n",
              "      height: 32px;\n",
              "      padding: 0 0 0 0;\n",
              "      width: 32px;\n",
              "    }\n",
              "\n",
              "    .colab-df-convert:hover {\n",
              "      background-color: #E2EBFA;\n",
              "      box-shadow: 0px 1px 2px rgba(60, 64, 67, 0.3), 0px 1px 3px 1px rgba(60, 64, 67, 0.15);\n",
              "      fill: #174EA6;\n",
              "    }\n",
              "\n",
              "    [theme=dark] .colab-df-convert {\n",
              "      background-color: #3B4455;\n",
              "      fill: #D2E3FC;\n",
              "    }\n",
              "\n",
              "    [theme=dark] .colab-df-convert:hover {\n",
              "      background-color: #434B5C;\n",
              "      box-shadow: 0px 1px 3px 1px rgba(0, 0, 0, 0.15);\n",
              "      filter: drop-shadow(0px 1px 2px rgba(0, 0, 0, 0.3));\n",
              "      fill: #FFFFFF;\n",
              "    }\n",
              "  </style>\n",
              "\n",
              "      <script>\n",
              "        const buttonEl =\n",
              "          document.querySelector('#df-28f95a43-27d5-47ac-8597-14c3b5a8648c button.colab-df-convert');\n",
              "        buttonEl.style.display =\n",
              "          google.colab.kernel.accessAllowed ? 'block' : 'none';\n",
              "\n",
              "        async function convertToInteractive(key) {\n",
              "          const element = document.querySelector('#df-28f95a43-27d5-47ac-8597-14c3b5a8648c');\n",
              "          const dataTable =\n",
              "            await google.colab.kernel.invokeFunction('convertToInteractive',\n",
              "                                                     [key], {});\n",
              "          if (!dataTable) return;\n",
              "\n",
              "          const docLinkHtml = 'Like what you see? Visit the ' +\n",
              "            '<a target=\"_blank\" href=https://colab.research.google.com/notebooks/data_table.ipynb>data table notebook</a>'\n",
              "            + ' to learn more about interactive tables.';\n",
              "          element.innerHTML = '';\n",
              "          dataTable['output_type'] = 'display_data';\n",
              "          await google.colab.output.renderOutput(dataTable, element);\n",
              "          const docLink = document.createElement('div');\n",
              "          docLink.innerHTML = docLinkHtml;\n",
              "          element.appendChild(docLink);\n",
              "        }\n",
              "      </script>\n",
              "    </div>\n",
              "  </div>\n",
              "  "
            ],
            "text/plain": [
              "           Indicator Number  ... pull\n",
              "ShortName                    ...     \n",
              "tpopXX                    1  ...    1\n",
              "maleXX                    2  ...    1\n",
              "femaleXX                  3  ...    1\n",
              "paaXX                     4  ...    1\n",
              "pwhiteXX                  5  ...    1\n",
              "\n",
              "[5 rows x 6 columns]"
            ]
          },
          "metadata": {},
          "execution_count": 9
        }
      ]
    },
    {
      "cell_type": "code",
      "source": [
        "# load indicator info \n",
        "info = pd.read_csv(\"indicator_info.csv\")\n",
        "info.head()"
      ],
      "metadata": {
        "colab": {
          "base_uri": "https://localhost:8080/",
          "height": 206
        },
        "id": "yDrp0gkn0OZL",
        "outputId": "4d8e2750-81e5-4839-83c0-9f68025d054c"
      },
      "id": "yDrp0gkn0OZL",
      "execution_count": 10,
      "outputs": [
        {
          "output_type": "execute_result",
          "data": {
            "text/html": [
              "\n",
              "  <div id=\"df-66328625-856a-4ba5-b76a-c4a2125b112a\">\n",
              "    <div class=\"colab-df-container\">\n",
              "      <div>\n",
              "<style scoped>\n",
              "    .dataframe tbody tr th:only-of-type {\n",
              "        vertical-align: middle;\n",
              "    }\n",
              "\n",
              "    .dataframe tbody tr th {\n",
              "        vertical-align: top;\n",
              "    }\n",
              "\n",
              "    .dataframe thead th {\n",
              "        text-align: right;\n",
              "    }\n",
              "</style>\n",
              "<table border=\"1\" class=\"dataframe\">\n",
              "  <thead>\n",
              "    <tr style=\"text-align: right;\">\n",
              "      <th></th>\n",
              "      <th>indicator</th>\n",
              "      <th>year</th>\n",
              "      <th>indicator_description</th>\n",
              "      <th>category</th>\n",
              "      <th>count_years_available</th>\n",
              "    </tr>\n",
              "  </thead>\n",
              "  <tbody>\n",
              "    <tr>\n",
              "      <th>0</th>\n",
              "      <td>aastud</td>\n",
              "      <td>['2000', '2001', '2002', '2003', '2004', '2005...</td>\n",
              "      <td>Percent of Students that are African American ...</td>\n",
              "      <td>Education and Youth</td>\n",
              "      <td>21</td>\n",
              "    </tr>\n",
              "    <tr>\n",
              "      <th>1</th>\n",
              "      <td>abse</td>\n",
              "      <td>['2000', '2001', '2002', '2003', '2004', '2005...</td>\n",
              "      <td>Percent of 1st-5th Grade Students that are Chr...</td>\n",
              "      <td>Education and Youth</td>\n",
              "      <td>20</td>\n",
              "    </tr>\n",
              "    <tr>\n",
              "      <th>2</th>\n",
              "      <td>abshs</td>\n",
              "      <td>['2000', '2001', '2002', '2003', '2004', '2005...</td>\n",
              "      <td>Percent of 9th-12th Grade Students that are Ch...</td>\n",
              "      <td>Education and Youth</td>\n",
              "      <td>20</td>\n",
              "    </tr>\n",
              "    <tr>\n",
              "      <th>3</th>\n",
              "      <td>absmd</td>\n",
              "      <td>['2000', '2001', '2002', '2003', '2004', '2005...</td>\n",
              "      <td>Percent of 6th-8th Grade Students that are Chr...</td>\n",
              "      <td>Education and Youth</td>\n",
              "      <td>20</td>\n",
              "    </tr>\n",
              "    <tr>\n",
              "      <th>4</th>\n",
              "      <td>affordm</td>\n",
              "      <td>['2000', '2001', '2002', '2003', '2004', '2005...</td>\n",
              "      <td>Affordability Index - Mortgage</td>\n",
              "      <td>Housing and Community Development</td>\n",
              "      <td>21</td>\n",
              "    </tr>\n",
              "  </tbody>\n",
              "</table>\n",
              "</div>\n",
              "      <button class=\"colab-df-convert\" onclick=\"convertToInteractive('df-66328625-856a-4ba5-b76a-c4a2125b112a')\"\n",
              "              title=\"Convert this dataframe to an interactive table.\"\n",
              "              style=\"display:none;\">\n",
              "        \n",
              "  <svg xmlns=\"http://www.w3.org/2000/svg\" height=\"24px\"viewBox=\"0 0 24 24\"\n",
              "       width=\"24px\">\n",
              "    <path d=\"M0 0h24v24H0V0z\" fill=\"none\"/>\n",
              "    <path d=\"M18.56 5.44l.94 2.06.94-2.06 2.06-.94-2.06-.94-.94-2.06-.94 2.06-2.06.94zm-11 1L8.5 8.5l.94-2.06 2.06-.94-2.06-.94L8.5 2.5l-.94 2.06-2.06.94zm10 10l.94 2.06.94-2.06 2.06-.94-2.06-.94-.94-2.06-.94 2.06-2.06.94z\"/><path d=\"M17.41 7.96l-1.37-1.37c-.4-.4-.92-.59-1.43-.59-.52 0-1.04.2-1.43.59L10.3 9.45l-7.72 7.72c-.78.78-.78 2.05 0 2.83L4 21.41c.39.39.9.59 1.41.59.51 0 1.02-.2 1.41-.59l7.78-7.78 2.81-2.81c.8-.78.8-2.07 0-2.86zM5.41 20L4 18.59l7.72-7.72 1.47 1.35L5.41 20z\"/>\n",
              "  </svg>\n",
              "      </button>\n",
              "      \n",
              "  <style>\n",
              "    .colab-df-container {\n",
              "      display:flex;\n",
              "      flex-wrap:wrap;\n",
              "      gap: 12px;\n",
              "    }\n",
              "\n",
              "    .colab-df-convert {\n",
              "      background-color: #E8F0FE;\n",
              "      border: none;\n",
              "      border-radius: 50%;\n",
              "      cursor: pointer;\n",
              "      display: none;\n",
              "      fill: #1967D2;\n",
              "      height: 32px;\n",
              "      padding: 0 0 0 0;\n",
              "      width: 32px;\n",
              "    }\n",
              "\n",
              "    .colab-df-convert:hover {\n",
              "      background-color: #E2EBFA;\n",
              "      box-shadow: 0px 1px 2px rgba(60, 64, 67, 0.3), 0px 1px 3px 1px rgba(60, 64, 67, 0.15);\n",
              "      fill: #174EA6;\n",
              "    }\n",
              "\n",
              "    [theme=dark] .colab-df-convert {\n",
              "      background-color: #3B4455;\n",
              "      fill: #D2E3FC;\n",
              "    }\n",
              "\n",
              "    [theme=dark] .colab-df-convert:hover {\n",
              "      background-color: #434B5C;\n",
              "      box-shadow: 0px 1px 3px 1px rgba(0, 0, 0, 0.15);\n",
              "      filter: drop-shadow(0px 1px 2px rgba(0, 0, 0, 0.3));\n",
              "      fill: #FFFFFF;\n",
              "    }\n",
              "  </style>\n",
              "\n",
              "      <script>\n",
              "        const buttonEl =\n",
              "          document.querySelector('#df-66328625-856a-4ba5-b76a-c4a2125b112a button.colab-df-convert');\n",
              "        buttonEl.style.display =\n",
              "          google.colab.kernel.accessAllowed ? 'block' : 'none';\n",
              "\n",
              "        async function convertToInteractive(key) {\n",
              "          const element = document.querySelector('#df-66328625-856a-4ba5-b76a-c4a2125b112a');\n",
              "          const dataTable =\n",
              "            await google.colab.kernel.invokeFunction('convertToInteractive',\n",
              "                                                     [key], {});\n",
              "          if (!dataTable) return;\n",
              "\n",
              "          const docLinkHtml = 'Like what you see? Visit the ' +\n",
              "            '<a target=\"_blank\" href=https://colab.research.google.com/notebooks/data_table.ipynb>data table notebook</a>'\n",
              "            + ' to learn more about interactive tables.';\n",
              "          element.innerHTML = '';\n",
              "          dataTable['output_type'] = 'display_data';\n",
              "          await google.colab.output.renderOutput(dataTable, element);\n",
              "          const docLink = document.createElement('div');\n",
              "          docLink.innerHTML = docLinkHtml;\n",
              "          element.appendChild(docLink);\n",
              "        }\n",
              "      </script>\n",
              "    </div>\n",
              "  </div>\n",
              "  "
            ],
            "text/plain": [
              "  indicator  ... count_years_available\n",
              "0    aastud  ...                    21\n",
              "1      abse  ...                    20\n",
              "2     abshs  ...                    20\n",
              "3     absmd  ...                    20\n",
              "4   affordm  ...                    21\n",
              "\n",
              "[5 rows x 5 columns]"
            ]
          },
          "metadata": {},
          "execution_count": 10
        }
      ]
    },
    {
      "cell_type": "markdown",
      "source": [
        "### Grabbing Geometry"
      ],
      "metadata": {
        "id": "P3oqtO5uYAMt"
      },
      "id": "P3oqtO5uYAMt"
    },
    {
      "cell_type": "code",
      "execution_count": 11,
      "id": "b682742c",
      "metadata": {
        "id": "b682742c",
        "outputId": "9762acd1-4df4-4235-a750-a8cd6bdc4f90",
        "colab": {
          "base_uri": "https://localhost:8080/",
          "height": 380
        }
      },
      "outputs": [
        {
          "output_type": "stream",
          "name": "stdout",
          "text": [
            "https://services1.arcgis.com/mVFRs7NF4iFitgbY/arcgis/rest/services/Hhsize/FeatureServer/0/query?where=1%3D1&outFields=*&outSR=4326&f=json\n"
          ]
        },
        {
          "output_type": "execute_result",
          "data": {
            "text/html": [
              "\n",
              "  <div id=\"df-6534f33b-3bd9-4e36-8504-73ed19460851\">\n",
              "    <div class=\"colab-df-container\">\n",
              "      <div>\n",
              "<style scoped>\n",
              "    .dataframe tbody tr th:only-of-type {\n",
              "        vertical-align: middle;\n",
              "    }\n",
              "\n",
              "    .dataframe tbody tr th {\n",
              "        vertical-align: top;\n",
              "    }\n",
              "\n",
              "    .dataframe thead th {\n",
              "        text-align: right;\n",
              "    }\n",
              "</style>\n",
              "<table border=\"1\" class=\"dataframe\">\n",
              "  <thead>\n",
              "    <tr style=\"text-align: right;\">\n",
              "      <th></th>\n",
              "      <th>OBJECTID</th>\n",
              "      <th>CSA2010</th>\n",
              "      <th>hhsize10</th>\n",
              "      <th>Shape__Area</th>\n",
              "      <th>Shape__Length</th>\n",
              "      <th>geometry</th>\n",
              "    </tr>\n",
              "  </thead>\n",
              "  <tbody>\n",
              "    <tr>\n",
              "      <th>0</th>\n",
              "      <td>1</td>\n",
              "      <td>Allendale/Irvington/S. Hilton</td>\n",
              "      <td>2.64</td>\n",
              "      <td>6.377046e+07</td>\n",
              "      <td>38770.165571</td>\n",
              "      <td>POLYGON ((-76.65726 39.27600, -76.65726 39.276...</td>\n",
              "    </tr>\n",
              "    <tr>\n",
              "      <th>1</th>\n",
              "      <td>2</td>\n",
              "      <td>Beechfield/Ten Hills/West Hills</td>\n",
              "      <td>2.4</td>\n",
              "      <td>4.788253e+07</td>\n",
              "      <td>37524.950533</td>\n",
              "      <td>POLYGON ((-76.69479 39.30201, -76.69465 39.301...</td>\n",
              "    </tr>\n",
              "    <tr>\n",
              "      <th>2</th>\n",
              "      <td>3</td>\n",
              "      <td>Belair-Edison</td>\n",
              "      <td>2.9</td>\n",
              "      <td>4.495003e+07</td>\n",
              "      <td>31307.314843</td>\n",
              "      <td>POLYGON ((-76.56761 39.32636, -76.56746 39.326...</td>\n",
              "    </tr>\n",
              "    <tr>\n",
              "      <th>3</th>\n",
              "      <td>4</td>\n",
              "      <td>Brooklyn/Curtis Bay/Hawkins Point</td>\n",
              "      <td>2.61</td>\n",
              "      <td>1.760777e+08</td>\n",
              "      <td>150987.703639</td>\n",
              "      <td>MULTIPOLYGON (((-76.58867 39.21283, -76.58824 ...</td>\n",
              "    </tr>\n",
              "    <tr>\n",
              "      <th>4</th>\n",
              "      <td>5</td>\n",
              "      <td>Canton</td>\n",
              "      <td>1.86</td>\n",
              "      <td>1.540854e+07</td>\n",
              "      <td>23338.611948</td>\n",
              "      <td>POLYGON ((-76.57140 39.28441, -76.57138 39.284...</td>\n",
              "    </tr>\n",
              "    <tr>\n",
              "      <th>5</th>\n",
              "      <td>6</td>\n",
              "      <td>Cedonia/Frankford</td>\n",
              "      <td>2.54</td>\n",
              "      <td>7.154134e+07</td>\n",
              "      <td>39962.549835</td>\n",
              "      <td>POLYGON ((-76.52972 39.33113, -76.53005 39.331...</td>\n",
              "    </tr>\n",
              "    <tr>\n",
              "      <th>6</th>\n",
              "      <td>7</td>\n",
              "      <td>Cherry Hill</td>\n",
              "      <td>2.57</td>\n",
              "      <td>2.914418e+07</td>\n",
              "      <td>22305.302067</td>\n",
              "      <td>POLYGON ((-76.61525 39.24102, -76.61530 39.241...</td>\n",
              "    </tr>\n",
              "    <tr>\n",
              "      <th>7</th>\n",
              "      <td>8</td>\n",
              "      <td>Chinquapin Park/Belvedere</td>\n",
              "      <td>2.26</td>\n",
              "      <td>2.102259e+07</td>\n",
              "      <td>21705.411630</td>\n",
              "      <td>POLYGON ((-76.59491 39.35406, -76.59507 39.354...</td>\n",
              "    </tr>\n",
              "    <tr>\n",
              "      <th>8</th>\n",
              "      <td>9</td>\n",
              "      <td>Claremont/Armistead</td>\n",
              "      <td>2.41</td>\n",
              "      <td>6.124377e+07</td>\n",
              "      <td>40104.415980</td>\n",
              "      <td>POLYGON ((-76.52975 39.31020, -76.52990 39.310...</td>\n",
              "    </tr>\n",
              "    <tr>\n",
              "      <th>9</th>\n",
              "      <td>10</td>\n",
              "      <td>Clifton-Berea</td>\n",
              "      <td>2.83</td>\n",
              "      <td>2.328523e+07</td>\n",
              "      <td>24022.764621</td>\n",
              "      <td>POLYGON ((-76.58449 39.31491, -76.58249 39.314...</td>\n",
              "    </tr>\n",
              "  </tbody>\n",
              "</table>\n",
              "</div>\n",
              "      <button class=\"colab-df-convert\" onclick=\"convertToInteractive('df-6534f33b-3bd9-4e36-8504-73ed19460851')\"\n",
              "              title=\"Convert this dataframe to an interactive table.\"\n",
              "              style=\"display:none;\">\n",
              "        \n",
              "  <svg xmlns=\"http://www.w3.org/2000/svg\" height=\"24px\"viewBox=\"0 0 24 24\"\n",
              "       width=\"24px\">\n",
              "    <path d=\"M0 0h24v24H0V0z\" fill=\"none\"/>\n",
              "    <path d=\"M18.56 5.44l.94 2.06.94-2.06 2.06-.94-2.06-.94-.94-2.06-.94 2.06-2.06.94zm-11 1L8.5 8.5l.94-2.06 2.06-.94-2.06-.94L8.5 2.5l-.94 2.06-2.06.94zm10 10l.94 2.06.94-2.06 2.06-.94-2.06-.94-.94-2.06-.94 2.06-2.06.94z\"/><path d=\"M17.41 7.96l-1.37-1.37c-.4-.4-.92-.59-1.43-.59-.52 0-1.04.2-1.43.59L10.3 9.45l-7.72 7.72c-.78.78-.78 2.05 0 2.83L4 21.41c.39.39.9.59 1.41.59.51 0 1.02-.2 1.41-.59l7.78-7.78 2.81-2.81c.8-.78.8-2.07 0-2.86zM5.41 20L4 18.59l7.72-7.72 1.47 1.35L5.41 20z\"/>\n",
              "  </svg>\n",
              "      </button>\n",
              "      \n",
              "  <style>\n",
              "    .colab-df-container {\n",
              "      display:flex;\n",
              "      flex-wrap:wrap;\n",
              "      gap: 12px;\n",
              "    }\n",
              "\n",
              "    .colab-df-convert {\n",
              "      background-color: #E8F0FE;\n",
              "      border: none;\n",
              "      border-radius: 50%;\n",
              "      cursor: pointer;\n",
              "      display: none;\n",
              "      fill: #1967D2;\n",
              "      height: 32px;\n",
              "      padding: 0 0 0 0;\n",
              "      width: 32px;\n",
              "    }\n",
              "\n",
              "    .colab-df-convert:hover {\n",
              "      background-color: #E2EBFA;\n",
              "      box-shadow: 0px 1px 2px rgba(60, 64, 67, 0.3), 0px 1px 3px 1px rgba(60, 64, 67, 0.15);\n",
              "      fill: #174EA6;\n",
              "    }\n",
              "\n",
              "    [theme=dark] .colab-df-convert {\n",
              "      background-color: #3B4455;\n",
              "      fill: #D2E3FC;\n",
              "    }\n",
              "\n",
              "    [theme=dark] .colab-df-convert:hover {\n",
              "      background-color: #434B5C;\n",
              "      box-shadow: 0px 1px 3px 1px rgba(0, 0, 0, 0.15);\n",
              "      filter: drop-shadow(0px 1px 2px rgba(0, 0, 0, 0.3));\n",
              "      fill: #FFFFFF;\n",
              "    }\n",
              "  </style>\n",
              "\n",
              "      <script>\n",
              "        const buttonEl =\n",
              "          document.querySelector('#df-6534f33b-3bd9-4e36-8504-73ed19460851 button.colab-df-convert');\n",
              "        buttonEl.style.display =\n",
              "          google.colab.kernel.accessAllowed ? 'block' : 'none';\n",
              "\n",
              "        async function convertToInteractive(key) {\n",
              "          const element = document.querySelector('#df-6534f33b-3bd9-4e36-8504-73ed19460851');\n",
              "          const dataTable =\n",
              "            await google.colab.kernel.invokeFunction('convertToInteractive',\n",
              "                                                     [key], {});\n",
              "          if (!dataTable) return;\n",
              "\n",
              "          const docLinkHtml = 'Like what you see? Visit the ' +\n",
              "            '<a target=\"_blank\" href=https://colab.research.google.com/notebooks/data_table.ipynb>data table notebook</a>'\n",
              "            + ' to learn more about interactive tables.';\n",
              "          element.innerHTML = '';\n",
              "          dataTable['output_type'] = 'display_data';\n",
              "          await google.colab.output.renderOutput(dataTable, element);\n",
              "          const docLink = document.createElement('div');\n",
              "          docLink.innerHTML = docLinkHtml;\n",
              "          element.appendChild(docLink);\n",
              "        }\n",
              "      </script>\n",
              "    </div>\n",
              "  </div>\n",
              "  "
            ],
            "text/plain": [
              "   OBJECTID  ...                                           geometry\n",
              "0         1  ...  POLYGON ((-76.65726 39.27600, -76.65726 39.276...\n",
              "1         2  ...  POLYGON ((-76.69479 39.30201, -76.69465 39.301...\n",
              "2         3  ...  POLYGON ((-76.56761 39.32636, -76.56746 39.326...\n",
              "3         4  ...  MULTIPOLYGON (((-76.58867 39.21283, -76.58824 ...\n",
              "4         5  ...  POLYGON ((-76.57140 39.28441, -76.57138 39.284...\n",
              "5         6  ...  POLYGON ((-76.52972 39.33113, -76.53005 39.331...\n",
              "6         7  ...  POLYGON ((-76.61525 39.24102, -76.61530 39.241...\n",
              "7         8  ...  POLYGON ((-76.59491 39.35406, -76.59507 39.354...\n",
              "8         9  ...  POLYGON ((-76.52975 39.31020, -76.52990 39.310...\n",
              "9        10  ...  POLYGON ((-76.58449 39.31491, -76.58249 39.314...\n",
              "\n",
              "[10 rows x 6 columns]"
            ]
          },
          "metadata": {},
          "execution_count": 11
        }
      ],
      "source": [
        "### pull a geodataframe using Colin's functions \n",
        "\n",
        "# functions\n",
        "def getGDFfromURL(url, layer=0):\n",
        "    #GDF stands for GeoDataFrame; this is the innermost function called by getGDF\n",
        "    tail = \"/\"+str(layer)+\"/query?where=1%3D1&outFields=*&outSR=4326&f=json\" #worked this out\n",
        "    url+=tail\n",
        "    print(url)\n",
        "    gdf = gpd.read_file(url) #GeoPandas has a built in function to read APIs given right URL\n",
        "    return gdf\n",
        "\n",
        "def getGDF(shortname, level=0):\n",
        "    #This is outermost function called by user; it calls getGDFfromURL\n",
        "    url = api_df.loc[shortname, \"API\"]\n",
        "    return getGDFfromURL(url, level)\n",
        "\n",
        "# using HH size as our sample GDF (since I had questions about this indicator anyway)\n",
        "hhsizeXX = getGDF(\"hhsizeXX\")\n",
        "hhsizeXX.head(10) # note - looks like BNIA has corrected the issue with hhsize "
      ]
    },
    {
      "cell_type": "code",
      "execution_count": 12,
      "id": "a6aaed4c",
      "metadata": {
        "id": "a6aaed4c",
        "outputId": "45a67ba1-3317-4196-97ab-03ab82b254f0",
        "colab": {
          "base_uri": "https://localhost:8080/",
          "height": 206
        }
      },
      "outputs": [
        {
          "output_type": "execute_result",
          "data": {
            "text/html": [
              "\n",
              "  <div id=\"df-1ca04b75-d220-4e27-a406-82d9ccfca3b0\">\n",
              "    <div class=\"colab-df-container\">\n",
              "      <div>\n",
              "<style scoped>\n",
              "    .dataframe tbody tr th:only-of-type {\n",
              "        vertical-align: middle;\n",
              "    }\n",
              "\n",
              "    .dataframe tbody tr th {\n",
              "        vertical-align: top;\n",
              "    }\n",
              "\n",
              "    .dataframe thead th {\n",
              "        text-align: right;\n",
              "    }\n",
              "</style>\n",
              "<table border=\"1\" class=\"dataframe\">\n",
              "  <thead>\n",
              "    <tr style=\"text-align: right;\">\n",
              "      <th></th>\n",
              "      <th>CSA</th>\n",
              "      <th>Shape__Area</th>\n",
              "      <th>Shape__Length</th>\n",
              "      <th>geometry</th>\n",
              "    </tr>\n",
              "  </thead>\n",
              "  <tbody>\n",
              "    <tr>\n",
              "      <th>0</th>\n",
              "      <td>Allendale/Irvington/S. Hilton</td>\n",
              "      <td>6.377046e+07</td>\n",
              "      <td>38770.165571</td>\n",
              "      <td>POLYGON ((-76.65726 39.27600, -76.65726 39.276...</td>\n",
              "    </tr>\n",
              "    <tr>\n",
              "      <th>1</th>\n",
              "      <td>Beechfield/Ten Hills/West Hills</td>\n",
              "      <td>4.788253e+07</td>\n",
              "      <td>37524.950533</td>\n",
              "      <td>POLYGON ((-76.69479 39.30201, -76.69465 39.301...</td>\n",
              "    </tr>\n",
              "    <tr>\n",
              "      <th>2</th>\n",
              "      <td>Belair-Edison</td>\n",
              "      <td>4.495003e+07</td>\n",
              "      <td>31307.314843</td>\n",
              "      <td>POLYGON ((-76.56761 39.32636, -76.56746 39.326...</td>\n",
              "    </tr>\n",
              "    <tr>\n",
              "      <th>3</th>\n",
              "      <td>Brooklyn/Curtis Bay/Hawkins Point</td>\n",
              "      <td>1.760777e+08</td>\n",
              "      <td>150987.703639</td>\n",
              "      <td>MULTIPOLYGON (((-76.58867 39.21283, -76.58824 ...</td>\n",
              "    </tr>\n",
              "    <tr>\n",
              "      <th>4</th>\n",
              "      <td>Canton</td>\n",
              "      <td>1.540854e+07</td>\n",
              "      <td>23338.611948</td>\n",
              "      <td>POLYGON ((-76.57140 39.28441, -76.57138 39.284...</td>\n",
              "    </tr>\n",
              "  </tbody>\n",
              "</table>\n",
              "</div>\n",
              "      <button class=\"colab-df-convert\" onclick=\"convertToInteractive('df-1ca04b75-d220-4e27-a406-82d9ccfca3b0')\"\n",
              "              title=\"Convert this dataframe to an interactive table.\"\n",
              "              style=\"display:none;\">\n",
              "        \n",
              "  <svg xmlns=\"http://www.w3.org/2000/svg\" height=\"24px\"viewBox=\"0 0 24 24\"\n",
              "       width=\"24px\">\n",
              "    <path d=\"M0 0h24v24H0V0z\" fill=\"none\"/>\n",
              "    <path d=\"M18.56 5.44l.94 2.06.94-2.06 2.06-.94-2.06-.94-.94-2.06-.94 2.06-2.06.94zm-11 1L8.5 8.5l.94-2.06 2.06-.94-2.06-.94L8.5 2.5l-.94 2.06-2.06.94zm10 10l.94 2.06.94-2.06 2.06-.94-2.06-.94-.94-2.06-.94 2.06-2.06.94z\"/><path d=\"M17.41 7.96l-1.37-1.37c-.4-.4-.92-.59-1.43-.59-.52 0-1.04.2-1.43.59L10.3 9.45l-7.72 7.72c-.78.78-.78 2.05 0 2.83L4 21.41c.39.39.9.59 1.41.59.51 0 1.02-.2 1.41-.59l7.78-7.78 2.81-2.81c.8-.78.8-2.07 0-2.86zM5.41 20L4 18.59l7.72-7.72 1.47 1.35L5.41 20z\"/>\n",
              "  </svg>\n",
              "      </button>\n",
              "      \n",
              "  <style>\n",
              "    .colab-df-container {\n",
              "      display:flex;\n",
              "      flex-wrap:wrap;\n",
              "      gap: 12px;\n",
              "    }\n",
              "\n",
              "    .colab-df-convert {\n",
              "      background-color: #E8F0FE;\n",
              "      border: none;\n",
              "      border-radius: 50%;\n",
              "      cursor: pointer;\n",
              "      display: none;\n",
              "      fill: #1967D2;\n",
              "      height: 32px;\n",
              "      padding: 0 0 0 0;\n",
              "      width: 32px;\n",
              "    }\n",
              "\n",
              "    .colab-df-convert:hover {\n",
              "      background-color: #E2EBFA;\n",
              "      box-shadow: 0px 1px 2px rgba(60, 64, 67, 0.3), 0px 1px 3px 1px rgba(60, 64, 67, 0.15);\n",
              "      fill: #174EA6;\n",
              "    }\n",
              "\n",
              "    [theme=dark] .colab-df-convert {\n",
              "      background-color: #3B4455;\n",
              "      fill: #D2E3FC;\n",
              "    }\n",
              "\n",
              "    [theme=dark] .colab-df-convert:hover {\n",
              "      background-color: #434B5C;\n",
              "      box-shadow: 0px 1px 3px 1px rgba(0, 0, 0, 0.15);\n",
              "      filter: drop-shadow(0px 1px 2px rgba(0, 0, 0, 0.3));\n",
              "      fill: #FFFFFF;\n",
              "    }\n",
              "  </style>\n",
              "\n",
              "      <script>\n",
              "        const buttonEl =\n",
              "          document.querySelector('#df-1ca04b75-d220-4e27-a406-82d9ccfca3b0 button.colab-df-convert');\n",
              "        buttonEl.style.display =\n",
              "          google.colab.kernel.accessAllowed ? 'block' : 'none';\n",
              "\n",
              "        async function convertToInteractive(key) {\n",
              "          const element = document.querySelector('#df-1ca04b75-d220-4e27-a406-82d9ccfca3b0');\n",
              "          const dataTable =\n",
              "            await google.colab.kernel.invokeFunction('convertToInteractive',\n",
              "                                                     [key], {});\n",
              "          if (!dataTable) return;\n",
              "\n",
              "          const docLinkHtml = 'Like what you see? Visit the ' +\n",
              "            '<a target=\"_blank\" href=https://colab.research.google.com/notebooks/data_table.ipynb>data table notebook</a>'\n",
              "            + ' to learn more about interactive tables.';\n",
              "          element.innerHTML = '';\n",
              "          dataTable['output_type'] = 'display_data';\n",
              "          await google.colab.output.renderOutput(dataTable, element);\n",
              "          const docLink = document.createElement('div');\n",
              "          docLink.innerHTML = docLinkHtml;\n",
              "          element.appendChild(docLink);\n",
              "        }\n",
              "      </script>\n",
              "    </div>\n",
              "  </div>\n",
              "  "
            ],
            "text/plain": [
              "                                 CSA  ...                                           geometry\n",
              "0      Allendale/Irvington/S. Hilton  ...  POLYGON ((-76.65726 39.27600, -76.65726 39.276...\n",
              "1    Beechfield/Ten Hills/West Hills  ...  POLYGON ((-76.69479 39.30201, -76.69465 39.301...\n",
              "2                      Belair-Edison  ...  POLYGON ((-76.56761 39.32636, -76.56746 39.326...\n",
              "3  Brooklyn/Curtis Bay/Hawkins Point  ...  MULTIPOLYGON (((-76.58867 39.21283, -76.58824 ...\n",
              "4                             Canton  ...  POLYGON ((-76.57140 39.28441, -76.57138 39.284...\n",
              "\n",
              "[5 rows x 4 columns]"
            ]
          },
          "metadata": {},
          "execution_count": 12
        }
      ],
      "source": [
        "### get a dataframe of neighborhoods and geometries \n",
        "# select and copy relevant columns \n",
        "geos = hhsizeXX[['CSA2010','Shape__Area', 'Shape__Length','geometry']].copy()\n",
        "\n",
        "# correct CSA names to align with vs dataframe\n",
        "geos = geos.rename(columns = {\"CSA2010\":\"CSA\"})\n",
        "geos[\"CSA\"] = geos.CSA.str.replace(\"*\",\"\", regex = False)\n",
        "geos[\"CSA\"] = geos.CSA.str.replace(\"Edmonson\",\"Edmondson\", regex = False)\n",
        "geos[\"CSA\"] = geos.CSA.str.replace(\"Falstaff\",\"Fallstaff\", regex = False) # really not sure which is right, but BNIA uses Fallstaff in modern communications\n",
        "geos[\"CSA\"] = geos.CSA.str.replace(\"Mt. Washington\",\"Mount Washington\", regex = False)\n",
        "geos[\"CSA\"] = geos.CSA.str.replace(\"Mt. Winans\",\"Mount Winans\", regex = False)\n",
        "geos.head()"
      ]
    },
    {
      "cell_type": "code",
      "source": [
        "# add geometry to vital sign data\n",
        "vsg = vs.merge(geos, how = \"left\")\n",
        "# add indicator description, where available \n",
        "vsg = vsg.merge(info[[\"indicator\", \"indicator_description\"]], how = \"left\")\n",
        "# turn into a geodataframe\n",
        "vsg = gpd.GeoDataFrame(vsg)\n",
        "vsg.head()"
      ],
      "metadata": {
        "id": "z5b3JnUFaAaN",
        "outputId": "eefcae1f-bd75-4dd2-a8ff-b1306b35fdfd",
        "colab": {
          "base_uri": "https://localhost:8080/",
          "height": 337
        }
      },
      "id": "z5b3JnUFaAaN",
      "execution_count": 13,
      "outputs": [
        {
          "output_type": "execute_result",
          "data": {
            "text/html": [
              "\n",
              "  <div id=\"df-cc142f5c-3d02-4897-9640-7e0794b461c6\">\n",
              "    <div class=\"colab-df-container\">\n",
              "      <div>\n",
              "<style scoped>\n",
              "    .dataframe tbody tr th:only-of-type {\n",
              "        vertical-align: middle;\n",
              "    }\n",
              "\n",
              "    .dataframe tbody tr th {\n",
              "        vertical-align: top;\n",
              "    }\n",
              "\n",
              "    .dataframe thead th {\n",
              "        text-align: right;\n",
              "    }\n",
              "</style>\n",
              "<table border=\"1\" class=\"dataframe\">\n",
              "  <thead>\n",
              "    <tr style=\"text-align: right;\">\n",
              "      <th></th>\n",
              "      <th>CSA</th>\n",
              "      <th>indicator</th>\n",
              "      <th>year</th>\n",
              "      <th>value</th>\n",
              "      <th>year_numeric</th>\n",
              "      <th>Shape__Area</th>\n",
              "      <th>Shape__Length</th>\n",
              "      <th>geometry</th>\n",
              "      <th>indicator_description</th>\n",
              "    </tr>\n",
              "  </thead>\n",
              "  <tbody>\n",
              "    <tr>\n",
              "      <th>0</th>\n",
              "      <td>Allendale/Irvington/S. Hilton</td>\n",
              "      <td>female</td>\n",
              "      <td>2000</td>\n",
              "      <td>10640.0</td>\n",
              "      <td>2000.0</td>\n",
              "      <td>6.377046e+07</td>\n",
              "      <td>38770.165571</td>\n",
              "      <td>POLYGON ((-76.65726 39.27600, -76.65726 39.276...</td>\n",
              "      <td>Total Female Population</td>\n",
              "    </tr>\n",
              "    <tr>\n",
              "      <th>1</th>\n",
              "      <td>Beechfield/Ten Hills/West Hills</td>\n",
              "      <td>female</td>\n",
              "      <td>2000</td>\n",
              "      <td>7110.0</td>\n",
              "      <td>2000.0</td>\n",
              "      <td>4.788253e+07</td>\n",
              "      <td>37524.950533</td>\n",
              "      <td>POLYGON ((-76.69479 39.30201, -76.69465 39.301...</td>\n",
              "      <td>Total Female Population</td>\n",
              "    </tr>\n",
              "    <tr>\n",
              "      <th>2</th>\n",
              "      <td>Belair-Edison</td>\n",
              "      <td>female</td>\n",
              "      <td>2000</td>\n",
              "      <td>9516.0</td>\n",
              "      <td>2000.0</td>\n",
              "      <td>4.495003e+07</td>\n",
              "      <td>31307.314843</td>\n",
              "      <td>POLYGON ((-76.56761 39.32636, -76.56746 39.326...</td>\n",
              "      <td>Total Female Population</td>\n",
              "    </tr>\n",
              "    <tr>\n",
              "      <th>3</th>\n",
              "      <td>Brooklyn/Curtis Bay/Hawkins Point</td>\n",
              "      <td>female</td>\n",
              "      <td>2000</td>\n",
              "      <td>6972.0</td>\n",
              "      <td>2000.0</td>\n",
              "      <td>1.760777e+08</td>\n",
              "      <td>150987.703639</td>\n",
              "      <td>MULTIPOLYGON (((-76.58867 39.21283, -76.58824 ...</td>\n",
              "      <td>Total Female Population</td>\n",
              "    </tr>\n",
              "    <tr>\n",
              "      <th>4</th>\n",
              "      <td>Canton</td>\n",
              "      <td>female</td>\n",
              "      <td>2000</td>\n",
              "      <td>3546.0</td>\n",
              "      <td>2000.0</td>\n",
              "      <td>1.540854e+07</td>\n",
              "      <td>23338.611948</td>\n",
              "      <td>POLYGON ((-76.57140 39.28441, -76.57138 39.284...</td>\n",
              "      <td>Total Female Population</td>\n",
              "    </tr>\n",
              "  </tbody>\n",
              "</table>\n",
              "</div>\n",
              "      <button class=\"colab-df-convert\" onclick=\"convertToInteractive('df-cc142f5c-3d02-4897-9640-7e0794b461c6')\"\n",
              "              title=\"Convert this dataframe to an interactive table.\"\n",
              "              style=\"display:none;\">\n",
              "        \n",
              "  <svg xmlns=\"http://www.w3.org/2000/svg\" height=\"24px\"viewBox=\"0 0 24 24\"\n",
              "       width=\"24px\">\n",
              "    <path d=\"M0 0h24v24H0V0z\" fill=\"none\"/>\n",
              "    <path d=\"M18.56 5.44l.94 2.06.94-2.06 2.06-.94-2.06-.94-.94-2.06-.94 2.06-2.06.94zm-11 1L8.5 8.5l.94-2.06 2.06-.94-2.06-.94L8.5 2.5l-.94 2.06-2.06.94zm10 10l.94 2.06.94-2.06 2.06-.94-2.06-.94-.94-2.06-.94 2.06-2.06.94z\"/><path d=\"M17.41 7.96l-1.37-1.37c-.4-.4-.92-.59-1.43-.59-.52 0-1.04.2-1.43.59L10.3 9.45l-7.72 7.72c-.78.78-.78 2.05 0 2.83L4 21.41c.39.39.9.59 1.41.59.51 0 1.02-.2 1.41-.59l7.78-7.78 2.81-2.81c.8-.78.8-2.07 0-2.86zM5.41 20L4 18.59l7.72-7.72 1.47 1.35L5.41 20z\"/>\n",
              "  </svg>\n",
              "      </button>\n",
              "      \n",
              "  <style>\n",
              "    .colab-df-container {\n",
              "      display:flex;\n",
              "      flex-wrap:wrap;\n",
              "      gap: 12px;\n",
              "    }\n",
              "\n",
              "    .colab-df-convert {\n",
              "      background-color: #E8F0FE;\n",
              "      border: none;\n",
              "      border-radius: 50%;\n",
              "      cursor: pointer;\n",
              "      display: none;\n",
              "      fill: #1967D2;\n",
              "      height: 32px;\n",
              "      padding: 0 0 0 0;\n",
              "      width: 32px;\n",
              "    }\n",
              "\n",
              "    .colab-df-convert:hover {\n",
              "      background-color: #E2EBFA;\n",
              "      box-shadow: 0px 1px 2px rgba(60, 64, 67, 0.3), 0px 1px 3px 1px rgba(60, 64, 67, 0.15);\n",
              "      fill: #174EA6;\n",
              "    }\n",
              "\n",
              "    [theme=dark] .colab-df-convert {\n",
              "      background-color: #3B4455;\n",
              "      fill: #D2E3FC;\n",
              "    }\n",
              "\n",
              "    [theme=dark] .colab-df-convert:hover {\n",
              "      background-color: #434B5C;\n",
              "      box-shadow: 0px 1px 3px 1px rgba(0, 0, 0, 0.15);\n",
              "      filter: drop-shadow(0px 1px 2px rgba(0, 0, 0, 0.3));\n",
              "      fill: #FFFFFF;\n",
              "    }\n",
              "  </style>\n",
              "\n",
              "      <script>\n",
              "        const buttonEl =\n",
              "          document.querySelector('#df-cc142f5c-3d02-4897-9640-7e0794b461c6 button.colab-df-convert');\n",
              "        buttonEl.style.display =\n",
              "          google.colab.kernel.accessAllowed ? 'block' : 'none';\n",
              "\n",
              "        async function convertToInteractive(key) {\n",
              "          const element = document.querySelector('#df-cc142f5c-3d02-4897-9640-7e0794b461c6');\n",
              "          const dataTable =\n",
              "            await google.colab.kernel.invokeFunction('convertToInteractive',\n",
              "                                                     [key], {});\n",
              "          if (!dataTable) return;\n",
              "\n",
              "          const docLinkHtml = 'Like what you see? Visit the ' +\n",
              "            '<a target=\"_blank\" href=https://colab.research.google.com/notebooks/data_table.ipynb>data table notebook</a>'\n",
              "            + ' to learn more about interactive tables.';\n",
              "          element.innerHTML = '';\n",
              "          dataTable['output_type'] = 'display_data';\n",
              "          await google.colab.output.renderOutput(dataTable, element);\n",
              "          const docLink = document.createElement('div');\n",
              "          docLink.innerHTML = docLinkHtml;\n",
              "          element.appendChild(docLink);\n",
              "        }\n",
              "      </script>\n",
              "    </div>\n",
              "  </div>\n",
              "  "
            ],
            "text/plain": [
              "                                 CSA  ...    indicator_description\n",
              "0      Allendale/Irvington/S. Hilton  ...  Total Female Population\n",
              "1    Beechfield/Ten Hills/West Hills  ...  Total Female Population\n",
              "2                      Belair-Edison  ...  Total Female Population\n",
              "3  Brooklyn/Curtis Bay/Hawkins Point  ...  Total Female Population\n",
              "4                             Canton  ...  Total Female Population\n",
              "\n",
              "[5 rows x 9 columns]"
            ]
          },
          "metadata": {},
          "execution_count": 13
        }
      ]
    },
    {
      "cell_type": "markdown",
      "source": [
        "## Visualize"
      ],
      "metadata": {
        "id": "dzgKICKHvNiV"
      },
      "id": "dzgKICKHvNiV"
    },
    {
      "cell_type": "markdown",
      "source": [
        "### Playing around"
      ],
      "metadata": {
        "id": "gaftM-0mAPXW"
      },
      "id": "gaftM-0mAPXW"
    },
    {
      "cell_type": "code",
      "source": [
        "## copying over Colin's function for a simple geopandas plot \n",
        "# UNUSED \n",
        "def plotStd(shortname, year=19, figsize=(5,5), legend=True, cmap=\"Greys\"):\n",
        "    #Will generate a choropleth using built in GeoPandas plotting \n",
        "    #Get the GDF and then chose the column to plot\n",
        "    gdf = getGDF(shortname)\n",
        "    targetCol = shortname[:-2]+str(year)\n",
        "    gdf.plot(targetCol,figsize=figsize, legend=legend, cmap=cmap)"
      ],
      "metadata": {
        "id": "B5pxzfryvPUn"
      },
      "id": "B5pxzfryvPUn",
      "execution_count": null,
      "outputs": []
    },
    {
      "cell_type": "code",
      "source": [
        "# one indicator in one year \n",
        "z = vsg[(vsg.indicator == \"aastud\") & (vsg.year == \"2020\")]\n",
        "z.plot(\"value\", legend = True)"
      ],
      "metadata": {
        "id": "SzWrXHZ0vdmB",
        "outputId": "8071f2d0-fccf-4ce4-d315-b57d3f1e4720",
        "colab": {
          "base_uri": "https://localhost:8080/",
          "height": 282
        }
      },
      "id": "SzWrXHZ0vdmB",
      "execution_count": null,
      "outputs": [
        {
          "output_type": "execute_result",
          "data": {
            "text/plain": [
              "<matplotlib.axes._subplots.AxesSubplot at 0x7fee9f1b1990>"
            ]
          },
          "metadata": {},
          "execution_count": 18
        },
        {
          "output_type": "display_data",
          "data": {
            "image/png": "[encoded data removed]",
            "text/plain": [
              "<Figure size 432x288 with 2 Axes>"
            ]
          },
          "metadata": {
            "needs_background": "light"
          }
        }
      ]
    },
    {
      "cell_type": "code",
      "source": [
        "vsg.CSA[0]"
      ],
      "metadata": {
        "colab": {
          "base_uri": "https://localhost:8080/",
          "height": 35
        },
        "id": "nPAZosUL_g41",
        "outputId": "653bebbf-d233-456b-e6e5-2c0d1b2abb8a"
      },
      "id": "nPAZosUL_g41",
      "execution_count": null,
      "outputs": [
        {
          "output_type": "execute_result",
          "data": {
            "application/vnd.google.colaboratory.intrinsic+json": {
              "type": "string"
            },
            "text/plain": [
              "'Allendale/Irvington/S. Hilton'"
            ]
          },
          "metadata": {},
          "execution_count": 32
        }
      ]
    },
    {
      "cell_type": "code",
      "source": [
        "# what would this look like for a single CSA? \n",
        "ax = vsg[(vsg.indicator == \"aastud\") & (vsg.year == \"2020\")].head(1) # first CSA \n",
        "ax.plot(\"value\", legend = True)\n",
        "\n",
        "plt.title(f\"AASTUD, 2020, {vsg.CSA[0]}\")\n",
        "plt.show()"
      ],
      "metadata": {
        "id": "LKHSjTEww8Ri",
        "outputId": "dd4ecdcb-c5c2-434d-abde-b4ca26d4a939",
        "colab": {
          "base_uri": "https://localhost:8080/",
          "height": 254
        }
      },
      "id": "LKHSjTEww8Ri",
      "execution_count": null,
      "outputs": [
        {
          "output_type": "display_data",
          "data": {
            "image/png": "[encoded data removed]",
            "text/plain": [
              "<Figure size 432x288 with 2 Axes>"
            ]
          },
          "metadata": {
            "needs_background": "light"
          }
        }
      ]
    },
    {
      "cell_type": "code",
      "source": [
        "# let's look at a single CSA, for a single indicator and several static plots over the years \n",
        "\n",
        "## (MANUAL TEST)\n",
        "\n",
        "# choosing a stable CSA, looking at life expectancy \n",
        "canton_lifexp = vsg[(vsg.CSA == \"Canton\") & (vsg.indicator == \"lifexp\")]\n",
        "canton_lifexp.shape # 8 years of data \n",
        "\n",
        "## plot \n",
        "# subplots with 2 rows, 4 columns \n",
        "fig, ax = plt.subplots(2, 4)\n",
        "# set up one plot \n",
        "df1 = canton_lifexp[canton_lifexp.year == \"2011\"]\n",
        "df1.plot(\"value\", ax = ax[0,0])\n",
        "\n",
        "ax[0,0].set_axis_off()\n",
        "ax[0,0].set_title(\"2011\")\n",
        "\n",
        "fig.suptitle(\"Canton, Avg Life Exp\")\n",
        "fig.show()\n",
        "\n",
        "#ax[0,0] = canton_lifexp.plot(\"value\")"
      ],
      "metadata": {
        "colab": {
          "base_uri": "https://localhost:8080/",
          "height": 294
        },
        "id": "JeLFQeYQBCAd",
        "outputId": "3fe80e61-4b51-4e72-caf9-8351667bdc9e"
      },
      "id": "JeLFQeYQBCAd",
      "execution_count": null,
      "outputs": [
        {
          "output_type": "display_data",
          "data": {
            "image/png": "[encoded data removed]",
            "text/plain": [
              "<Figure size 432x288 with 8 Axes>"
            ]
          },
          "metadata": {
            "needs_background": "light"
          }
        }
      ]
    },
    {
      "cell_type": "code",
      "source": [
        "## programmatically populate the graphs\n",
        "\n",
        "# choosing a stable CSA, looking at life expectancy \n",
        "canton_lifexp = vsg[(vsg.CSA == \"Canton\") & (vsg.indicator == \"lifexp\")]\n",
        "# get a list of years \n",
        "yrs = [y for y in canton_lifexp.year]\n",
        "\n",
        "# set up the figure \n",
        "fig, ax = plt.subplots(2, 4, sharex = True, sharey = True)\n",
        "fig.suptitle(\"Canton, Avg Life Exp\")\n",
        "# set up min and max values to anchor the choropleth, so legend is consistent\n",
        "anchor_min = canton_lifexp.value.min()\n",
        "anchor_max = canton_lifexp.value.max()\n",
        "\n",
        "\n",
        "# loop through each year to create plot\n",
        "c = 0  # set first column index\n",
        "for y in yrs:\n",
        "  # what row, first or second? \n",
        "  if yrs.index(y) <= 3:\n",
        "    r = 0\n",
        "  else: \n",
        "    r = 1\n",
        "  # change col index, if we've moved to the second row \n",
        "  if yrs.index(y) == 4:\n",
        "    c -= 4\n",
        "  # grab that year's data \n",
        "  mapdat = canton_lifexp[canton_lifexp.year == y]\n",
        "  # plot \n",
        "  mapdat.plot(\"value\", ax = ax[r, c], vmin = anchor_min, vmax = anchor_max)\n",
        "  ax[r,c].set_axis_off()\n",
        "  ax[r,c].set_title(y)\n",
        "  # move to the next column \n",
        "  c += 1 \n",
        "\n",
        "patch_col = ax[0,0].collections[0]\n",
        "fig.colorbar(patch_col, ax = ax, shrink = 0.8)\n",
        "# fig.colorbar(patch_col, ax = ax, shrink = 0.8, orientation = \"horizontal\") # could change the legend orientation\n",
        "fig.show()"
      ],
      "metadata": {
        "colab": {
          "base_uri": "https://localhost:8080/",
          "height": 264
        },
        "id": "0k385We5FWb7",
        "outputId": "f64f634b-2620-47ba-8f5c-ab241159ee0d"
      },
      "id": "0k385We5FWb7",
      "execution_count": null,
      "outputs": [
        {
          "output_type": "display_data",
          "data": {
            "image/png": "[encoded data removed]",
            "text/plain": [
              "<Figure size 432x288 with 9 Axes>"
            ]
          },
          "metadata": {
            "needs_background": "light"
          }
        }
      ]
    },
    {
      "cell_type": "markdown",
      "source": [
        "### Function 1: Subset a dataframe\n",
        " "
      ],
      "metadata": {
        "id": "04sIZ-ufLyD2"
      },
      "id": "04sIZ-ufLyD2"
    },
    {
      "cell_type": "code",
      "source": [
        "### function to subset a dataframe \n",
        "# written with vital signs in mind, but flexible to use for other datasets \n",
        "def subset_dataframe(dataframe, columns, subset_vals,\n",
        "                     condition_parameters = [\" == \"]): \n",
        "  '''\n",
        "  Returns a subsetted dataframe\n",
        "  *** \n",
        "  dataframe: a dataframe object (pandas or geopandas)\n",
        "  columns: a list of columns (as strings) by which you'd like to subset the data \n",
        "  subset_val: a list of values by which to subset the data. The order must correspond to the order of the columns. \n",
        "  condition_parameters: a list of strings indicating the query relationship. MUST BE A LIST, even if it only contains one value. \n",
        "    Default will look for an exact match (==) for each column/subset value\n",
        "    You may provide a list of parameters equal to the number of columns by which you're subsetting, \n",
        "    or you can provide a single parameter to apply to each column. \n",
        "    If using greater than or less than, the corresponding value must be numeric (both in the dataset and in the subset_vals list)\n",
        "    example 1: condition_parameters = [\"==\",\">\", \"==\"] will query for an exact match for the first and third columns provided, and a greater than match for the second column. \n",
        "    example 2: condition_parameters = [\">=\"] will query for a 'greater-than or equal to' match for every column\n",
        "\n",
        "  The list of columns and the list of subset values must be the same length \n",
        "\n",
        "  The function works by constructing a string of filter conditions, and feeding it into panda's query function\n",
        "  '''\n",
        "  # create a list of condition parameters, if a single parameter (or no parameter) is provided\n",
        "    # default is ' == '\n",
        "  if len(condition_parameters) == 1: \n",
        "    condition_parameters = condition_parameters * len(columns)\n",
        "  # empty string to hold the conditions\n",
        "  condition = ''\n",
        "  # loop to add conditions\n",
        "  for i in range(0,len(columns)):\n",
        "    if type(subset_vals[i]) == int or type(subset_vals[i])  == float:\n",
        "      subset_val_string = str(subset_vals[i])\n",
        "    elif type(subset_vals[i]) == list:   # if provided a list of exact values to filter for (such as multiple CSAs)\n",
        "      subset_val_string = str(subset_vals[i])\n",
        "    else: \n",
        "      subset_val_string = \"'\" + subset_vals[i] + \"'\" # add single quotes if it's not a numeric variable \n",
        "    condition = condition + \" & \" + columns[i] + condition_parameters[i] + subset_val_string\n",
        "  # remove the first 3 characters in the condition (space & space)\n",
        "  condition = condition[3:]\n",
        "  #return condition # use this line for testing\n",
        "  return vsg.query(condition)\n",
        "\n"
      ],
      "metadata": {
        "id": "dDmufCEHpKl8"
      },
      "id": "dDmufCEHpKl8",
      "execution_count": 14,
      "outputs": []
    },
    {
      "cell_type": "markdown",
      "source": [
        "##### testing the subset function"
      ],
      "metadata": {
        "id": "KATmBguXzYoG"
      },
      "id": "KATmBguXzYoG"
    },
    {
      "cell_type": "code",
      "source": [
        "# test a few conditions\n",
        "subset_dataframe(vsg, [\"CSA\",\"indicator\",\"year\"], [\"Belair-Edison\", \"female\", \"2000\"])"
      ],
      "metadata": {
        "colab": {
          "base_uri": "https://localhost:8080/",
          "height": 80
        },
        "id": "bctmf8b8sxJY",
        "outputId": "f782be6b-6f05-409b-9f90-0e5ad448c12f"
      },
      "id": "bctmf8b8sxJY",
      "execution_count": 15,
      "outputs": [
        {
          "output_type": "execute_result",
          "data": {
            "text/html": [
              "\n",
              "  <div id=\"df-02c25925-cbd3-4aef-aaaf-c122f9a9e0e6\">\n",
              "    <div class=\"colab-df-container\">\n",
              "      <div>\n",
              "<style scoped>\n",
              "    .dataframe tbody tr th:only-of-type {\n",
              "        vertical-align: middle;\n",
              "    }\n",
              "\n",
              "    .dataframe tbody tr th {\n",
              "        vertical-align: top;\n",
              "    }\n",
              "\n",
              "    .dataframe thead th {\n",
              "        text-align: right;\n",
              "    }\n",
              "</style>\n",
              "<table border=\"1\" class=\"dataframe\">\n",
              "  <thead>\n",
              "    <tr style=\"text-align: right;\">\n",
              "      <th></th>\n",
              "      <th>CSA</th>\n",
              "      <th>indicator</th>\n",
              "      <th>year</th>\n",
              "      <th>value</th>\n",
              "      <th>year_numeric</th>\n",
              "      <th>Shape__Area</th>\n",
              "      <th>Shape__Length</th>\n",
              "      <th>geometry</th>\n",
              "      <th>indicator_description</th>\n",
              "    </tr>\n",
              "  </thead>\n",
              "  <tbody>\n",
              "    <tr>\n",
              "      <th>2</th>\n",
              "      <td>Belair-Edison</td>\n",
              "      <td>female</td>\n",
              "      <td>2000</td>\n",
              "      <td>9516.0</td>\n",
              "      <td>2000.0</td>\n",
              "      <td>4.495003e+07</td>\n",
              "      <td>31307.314843</td>\n",
              "      <td>POLYGON ((-76.56761 39.32636, -76.56746 39.326...</td>\n",
              "      <td>Total Female Population</td>\n",
              "    </tr>\n",
              "  </tbody>\n",
              "</table>\n",
              "</div>\n",
              "      <button class=\"colab-df-convert\" onclick=\"convertToInteractive('df-02c25925-cbd3-4aef-aaaf-c122f9a9e0e6')\"\n",
              "              title=\"Convert this dataframe to an interactive table.\"\n",
              "              style=\"display:none;\">\n",
              "        \n",
              "  <svg xmlns=\"http://www.w3.org/2000/svg\" height=\"24px\"viewBox=\"0 0 24 24\"\n",
              "       width=\"24px\">\n",
              "    <path d=\"M0 0h24v24H0V0z\" fill=\"none\"/>\n",
              "    <path d=\"M18.56 5.44l.94 2.06.94-2.06 2.06-.94-2.06-.94-.94-2.06-.94 2.06-2.06.94zm-11 1L8.5 8.5l.94-2.06 2.06-.94-2.06-.94L8.5 2.5l-.94 2.06-2.06.94zm10 10l.94 2.06.94-2.06 2.06-.94-2.06-.94-.94-2.06-.94 2.06-2.06.94z\"/><path d=\"M17.41 7.96l-1.37-1.37c-.4-.4-.92-.59-1.43-.59-.52 0-1.04.2-1.43.59L10.3 9.45l-7.72 7.72c-.78.78-.78 2.05 0 2.83L4 21.41c.39.39.9.59 1.41.59.51 0 1.02-.2 1.41-.59l7.78-7.78 2.81-2.81c.8-.78.8-2.07 0-2.86zM5.41 20L4 18.59l7.72-7.72 1.47 1.35L5.41 20z\"/>\n",
              "  </svg>\n",
              "      </button>\n",
              "      \n",
              "  <style>\n",
              "    .colab-df-container {\n",
              "      display:flex;\n",
              "      flex-wrap:wrap;\n",
              "      gap: 12px;\n",
              "    }\n",
              "\n",
              "    .colab-df-convert {\n",
              "      background-color: #E8F0FE;\n",
              "      border: none;\n",
              "      border-radius: 50%;\n",
              "      cursor: pointer;\n",
              "      display: none;\n",
              "      fill: #1967D2;\n",
              "      height: 32px;\n",
              "      padding: 0 0 0 0;\n",
              "      width: 32px;\n",
              "    }\n",
              "\n",
              "    .colab-df-convert:hover {\n",
              "      background-color: #E2EBFA;\n",
              "      box-shadow: 0px 1px 2px rgba(60, 64, 67, 0.3), 0px 1px 3px 1px rgba(60, 64, 67, 0.15);\n",
              "      fill: #174EA6;\n",
              "    }\n",
              "\n",
              "    [theme=dark] .colab-df-convert {\n",
              "      background-color: #3B4455;\n",
              "      fill: #D2E3FC;\n",
              "    }\n",
              "\n",
              "    [theme=dark] .colab-df-convert:hover {\n",
              "      background-color: #434B5C;\n",
              "      box-shadow: 0px 1px 3px 1px rgba(0, 0, 0, 0.15);\n",
              "      filter: drop-shadow(0px 1px 2px rgba(0, 0, 0, 0.3));\n",
              "      fill: #FFFFFF;\n",
              "    }\n",
              "  </style>\n",
              "\n",
              "      <script>\n",
              "        const buttonEl =\n",
              "          document.querySelector('#df-02c25925-cbd3-4aef-aaaf-c122f9a9e0e6 button.colab-df-convert');\n",
              "        buttonEl.style.display =\n",
              "          google.colab.kernel.accessAllowed ? 'block' : 'none';\n",
              "\n",
              "        async function convertToInteractive(key) {\n",
              "          const element = document.querySelector('#df-02c25925-cbd3-4aef-aaaf-c122f9a9e0e6');\n",
              "          const dataTable =\n",
              "            await google.colab.kernel.invokeFunction('convertToInteractive',\n",
              "                                                     [key], {});\n",
              "          if (!dataTable) return;\n",
              "\n",
              "          const docLinkHtml = 'Like what you see? Visit the ' +\n",
              "            '<a target=\"_blank\" href=https://colab.research.google.com/notebooks/data_table.ipynb>data table notebook</a>'\n",
              "            + ' to learn more about interactive tables.';\n",
              "          element.innerHTML = '';\n",
              "          dataTable['output_type'] = 'display_data';\n",
              "          await google.colab.output.renderOutput(dataTable, element);\n",
              "          const docLink = document.createElement('div');\n",
              "          docLink.innerHTML = docLinkHtml;\n",
              "          element.appendChild(docLink);\n",
              "        }\n",
              "      </script>\n",
              "    </div>\n",
              "  </div>\n",
              "  "
            ],
            "text/plain": [
              "             CSA  ...    indicator_description\n",
              "2  Belair-Edison  ...  Total Female Population\n",
              "\n",
              "[1 rows x 9 columns]"
            ]
          },
          "metadata": {},
          "execution_count": 15
        }
      ]
    },
    {
      "cell_type": "code",
      "source": [
        "# test how it does with numeric data \n",
        "subset_dataframe(vsg, [\"CSA\",\"indicator\",\"year_numeric\"], [\"Belair-Edison\", \"female\", 2000])"
      ],
      "metadata": {
        "colab": {
          "base_uri": "https://localhost:8080/",
          "height": 80
        },
        "id": "WPWHzRXawjFg",
        "outputId": "b241e9fd-4191-4bbf-aaa4-687c43275877"
      },
      "id": "WPWHzRXawjFg",
      "execution_count": 16,
      "outputs": [
        {
          "output_type": "execute_result",
          "data": {
            "text/html": [
              "\n",
              "  <div id=\"df-3df38152-929c-42d5-8af4-71bb619288ba\">\n",
              "    <div class=\"colab-df-container\">\n",
              "      <div>\n",
              "<style scoped>\n",
              "    .dataframe tbody tr th:only-of-type {\n",
              "        vertical-align: middle;\n",
              "    }\n",
              "\n",
              "    .dataframe tbody tr th {\n",
              "        vertical-align: top;\n",
              "    }\n",
              "\n",
              "    .dataframe thead th {\n",
              "        text-align: right;\n",
              "    }\n",
              "</style>\n",
              "<table border=\"1\" class=\"dataframe\">\n",
              "  <thead>\n",
              "    <tr style=\"text-align: right;\">\n",
              "      <th></th>\n",
              "      <th>CSA</th>\n",
              "      <th>indicator</th>\n",
              "      <th>year</th>\n",
              "      <th>value</th>\n",
              "      <th>year_numeric</th>\n",
              "      <th>Shape__Area</th>\n",
              "      <th>Shape__Length</th>\n",
              "      <th>geometry</th>\n",
              "      <th>indicator_description</th>\n",
              "    </tr>\n",
              "  </thead>\n",
              "  <tbody>\n",
              "    <tr>\n",
              "      <th>2</th>\n",
              "      <td>Belair-Edison</td>\n",
              "      <td>female</td>\n",
              "      <td>2000</td>\n",
              "      <td>9516.0</td>\n",
              "      <td>2000.0</td>\n",
              "      <td>4.495003e+07</td>\n",
              "      <td>31307.314843</td>\n",
              "      <td>POLYGON ((-76.56761 39.32636, -76.56746 39.326...</td>\n",
              "      <td>Total Female Population</td>\n",
              "    </tr>\n",
              "  </tbody>\n",
              "</table>\n",
              "</div>\n",
              "      <button class=\"colab-df-convert\" onclick=\"convertToInteractive('df-3df38152-929c-42d5-8af4-71bb619288ba')\"\n",
              "              title=\"Convert this dataframe to an interactive table.\"\n",
              "              style=\"display:none;\">\n",
              "        \n",
              "  <svg xmlns=\"http://www.w3.org/2000/svg\" height=\"24px\"viewBox=\"0 0 24 24\"\n",
              "       width=\"24px\">\n",
              "    <path d=\"M0 0h24v24H0V0z\" fill=\"none\"/>\n",
              "    <path d=\"M18.56 5.44l.94 2.06.94-2.06 2.06-.94-2.06-.94-.94-2.06-.94 2.06-2.06.94zm-11 1L8.5 8.5l.94-2.06 2.06-.94-2.06-.94L8.5 2.5l-.94 2.06-2.06.94zm10 10l.94 2.06.94-2.06 2.06-.94-2.06-.94-.94-2.06-.94 2.06-2.06.94z\"/><path d=\"M17.41 7.96l-1.37-1.37c-.4-.4-.92-.59-1.43-.59-.52 0-1.04.2-1.43.59L10.3 9.45l-7.72 7.72c-.78.78-.78 2.05 0 2.83L4 21.41c.39.39.9.59 1.41.59.51 0 1.02-.2 1.41-.59l7.78-7.78 2.81-2.81c.8-.78.8-2.07 0-2.86zM5.41 20L4 18.59l7.72-7.72 1.47 1.35L5.41 20z\"/>\n",
              "  </svg>\n",
              "      </button>\n",
              "      \n",
              "  <style>\n",
              "    .colab-df-container {\n",
              "      display:flex;\n",
              "      flex-wrap:wrap;\n",
              "      gap: 12px;\n",
              "    }\n",
              "\n",
              "    .colab-df-convert {\n",
              "      background-color: #E8F0FE;\n",
              "      border: none;\n",
              "      border-radius: 50%;\n",
              "      cursor: pointer;\n",
              "      display: none;\n",
              "      fill: #1967D2;\n",
              "      height: 32px;\n",
              "      padding: 0 0 0 0;\n",
              "      width: 32px;\n",
              "    }\n",
              "\n",
              "    .colab-df-convert:hover {\n",
              "      background-color: #E2EBFA;\n",
              "      box-shadow: 0px 1px 2px rgba(60, 64, 67, 0.3), 0px 1px 3px 1px rgba(60, 64, 67, 0.15);\n",
              "      fill: #174EA6;\n",
              "    }\n",
              "\n",
              "    [theme=dark] .colab-df-convert {\n",
              "      background-color: #3B4455;\n",
              "      fill: #D2E3FC;\n",
              "    }\n",
              "\n",
              "    [theme=dark] .colab-df-convert:hover {\n",
              "      background-color: #434B5C;\n",
              "      box-shadow: 0px 1px 3px 1px rgba(0, 0, 0, 0.15);\n",
              "      filter: drop-shadow(0px 1px 2px rgba(0, 0, 0, 0.3));\n",
              "      fill: #FFFFFF;\n",
              "    }\n",
              "  </style>\n",
              "\n",
              "      <script>\n",
              "        const buttonEl =\n",
              "          document.querySelector('#df-3df38152-929c-42d5-8af4-71bb619288ba button.colab-df-convert');\n",
              "        buttonEl.style.display =\n",
              "          google.colab.kernel.accessAllowed ? 'block' : 'none';\n",
              "\n",
              "        async function convertToInteractive(key) {\n",
              "          const element = document.querySelector('#df-3df38152-929c-42d5-8af4-71bb619288ba');\n",
              "          const dataTable =\n",
              "            await google.colab.kernel.invokeFunction('convertToInteractive',\n",
              "                                                     [key], {});\n",
              "          if (!dataTable) return;\n",
              "\n",
              "          const docLinkHtml = 'Like what you see? Visit the ' +\n",
              "            '<a target=\"_blank\" href=https://colab.research.google.com/notebooks/data_table.ipynb>data table notebook</a>'\n",
              "            + ' to learn more about interactive tables.';\n",
              "          element.innerHTML = '';\n",
              "          dataTable['output_type'] = 'display_data';\n",
              "          await google.colab.output.renderOutput(dataTable, element);\n",
              "          const docLink = document.createElement('div');\n",
              "          docLink.innerHTML = docLinkHtml;\n",
              "          element.appendChild(docLink);\n",
              "        }\n",
              "      </script>\n",
              "    </div>\n",
              "  </div>\n",
              "  "
            ],
            "text/plain": [
              "             CSA  ...    indicator_description\n",
              "2  Belair-Edison  ...  Total Female Population\n",
              "\n",
              "[1 rows x 9 columns]"
            ]
          },
          "metadata": {},
          "execution_count": 16
        }
      ]
    },
    {
      "cell_type": "code",
      "source": [
        "# test with specified condition parameters\n",
        "subset_dataframe(vsg, [\"CSA\",\"indicator\",\"year_numeric\"], [\"Belair-Edison\", \"aastud\", 2008], condition_parameters = [\"==\",\"==\", \">=\"])"
      ],
      "metadata": {
        "colab": {
          "base_uri": "https://localhost:8080/",
          "height": 678
        },
        "id": "GVSDg9jWv9CD",
        "outputId": "7ae9efac-330e-4664-c74d-c54c36efa7d0"
      },
      "id": "GVSDg9jWv9CD",
      "execution_count": 17,
      "outputs": [
        {
          "output_type": "execute_result",
          "data": {
            "text/html": [
              "\n",
              "  <div id=\"df-26781a47-c2fd-4788-bade-78baf29ec4f6\">\n",
              "    <div class=\"colab-df-container\">\n",
              "      <div>\n",
              "<style scoped>\n",
              "    .dataframe tbody tr th:only-of-type {\n",
              "        vertical-align: middle;\n",
              "    }\n",
              "\n",
              "    .dataframe tbody tr th {\n",
              "        vertical-align: top;\n",
              "    }\n",
              "\n",
              "    .dataframe thead th {\n",
              "        text-align: right;\n",
              "    }\n",
              "</style>\n",
              "<table border=\"1\" class=\"dataframe\">\n",
              "  <thead>\n",
              "    <tr style=\"text-align: right;\">\n",
              "      <th></th>\n",
              "      <th>CSA</th>\n",
              "      <th>indicator</th>\n",
              "      <th>year</th>\n",
              "      <th>value</th>\n",
              "      <th>year_numeric</th>\n",
              "      <th>Shape__Area</th>\n",
              "      <th>Shape__Length</th>\n",
              "      <th>geometry</th>\n",
              "      <th>indicator_description</th>\n",
              "    </tr>\n",
              "  </thead>\n",
              "  <tbody>\n",
              "    <tr>\n",
              "      <th>15849</th>\n",
              "      <td>Belair-Edison</td>\n",
              "      <td>aastud</td>\n",
              "      <td>2008</td>\n",
              "      <td>98.1372</td>\n",
              "      <td>2008.0</td>\n",
              "      <td>4.495003e+07</td>\n",
              "      <td>31307.314843</td>\n",
              "      <td>POLYGON ((-76.56761 39.32636, -76.56746 39.326...</td>\n",
              "      <td>Percent of Students that are African American ...</td>\n",
              "    </tr>\n",
              "    <tr>\n",
              "      <th>19097</th>\n",
              "      <td>Belair-Edison</td>\n",
              "      <td>aastud</td>\n",
              "      <td>2009</td>\n",
              "      <td>98.0939</td>\n",
              "      <td>2009.0</td>\n",
              "      <td>4.495003e+07</td>\n",
              "      <td>31307.314843</td>\n",
              "      <td>POLYGON ((-76.56761 39.32636, -76.56746 39.326...</td>\n",
              "      <td>Percent of Students that are African American ...</td>\n",
              "    </tr>\n",
              "    <tr>\n",
              "      <th>23241</th>\n",
              "      <td>Belair-Edison</td>\n",
              "      <td>aastud</td>\n",
              "      <td>2010</td>\n",
              "      <td>96.9159</td>\n",
              "      <td>2010.0</td>\n",
              "      <td>4.495003e+07</td>\n",
              "      <td>31307.314843</td>\n",
              "      <td>POLYGON ((-76.56761 39.32636, -76.56746 39.326...</td>\n",
              "      <td>Percent of Students that are African American ...</td>\n",
              "    </tr>\n",
              "    <tr>\n",
              "      <th>49042</th>\n",
              "      <td>Belair-Edison</td>\n",
              "      <td>aastud</td>\n",
              "      <td>2011</td>\n",
              "      <td>97.0100</td>\n",
              "      <td>2011.0</td>\n",
              "      <td>4.495003e+07</td>\n",
              "      <td>31307.314843</td>\n",
              "      <td>POLYGON ((-76.56761 39.32636, -76.56746 39.326...</td>\n",
              "      <td>Percent of Students that are African American ...</td>\n",
              "    </tr>\n",
              "    <tr>\n",
              "      <th>49097</th>\n",
              "      <td>Belair-Edison</td>\n",
              "      <td>aastud</td>\n",
              "      <td>2012</td>\n",
              "      <td>96.6700</td>\n",
              "      <td>2012.0</td>\n",
              "      <td>4.495003e+07</td>\n",
              "      <td>31307.314843</td>\n",
              "      <td>POLYGON ((-76.56761 39.32636, -76.56746 39.326...</td>\n",
              "      <td>Percent of Students that are African American ...</td>\n",
              "    </tr>\n",
              "    <tr>\n",
              "      <th>49152</th>\n",
              "      <td>Belair-Edison</td>\n",
              "      <td>aastud</td>\n",
              "      <td>2013</td>\n",
              "      <td>96.1300</td>\n",
              "      <td>2013.0</td>\n",
              "      <td>4.495003e+07</td>\n",
              "      <td>31307.314843</td>\n",
              "      <td>POLYGON ((-76.56761 39.32636, -76.56746 39.326...</td>\n",
              "      <td>Percent of Students that are African American ...</td>\n",
              "    </tr>\n",
              "    <tr>\n",
              "      <th>49207</th>\n",
              "      <td>Belair-Edison</td>\n",
              "      <td>aastud</td>\n",
              "      <td>2014</td>\n",
              "      <td>96.7100</td>\n",
              "      <td>2014.0</td>\n",
              "      <td>4.495003e+07</td>\n",
              "      <td>31307.314843</td>\n",
              "      <td>POLYGON ((-76.56761 39.32636, -76.56746 39.326...</td>\n",
              "      <td>Percent of Students that are African American ...</td>\n",
              "    </tr>\n",
              "    <tr>\n",
              "      <th>49262</th>\n",
              "      <td>Belair-Edison</td>\n",
              "      <td>aastud</td>\n",
              "      <td>2015</td>\n",
              "      <td>96.2900</td>\n",
              "      <td>2015.0</td>\n",
              "      <td>4.495003e+07</td>\n",
              "      <td>31307.314843</td>\n",
              "      <td>POLYGON ((-76.56761 39.32636, -76.56746 39.326...</td>\n",
              "      <td>Percent of Students that are African American ...</td>\n",
              "    </tr>\n",
              "    <tr>\n",
              "      <th>49317</th>\n",
              "      <td>Belair-Edison</td>\n",
              "      <td>aastud</td>\n",
              "      <td>2016</td>\n",
              "      <td>95.5200</td>\n",
              "      <td>2016.0</td>\n",
              "      <td>4.495003e+07</td>\n",
              "      <td>31307.314843</td>\n",
              "      <td>POLYGON ((-76.56761 39.32636, -76.56746 39.326...</td>\n",
              "      <td>Percent of Students that are African American ...</td>\n",
              "    </tr>\n",
              "    <tr>\n",
              "      <th>49372</th>\n",
              "      <td>Belair-Edison</td>\n",
              "      <td>aastud</td>\n",
              "      <td>2017</td>\n",
              "      <td>94.7755</td>\n",
              "      <td>2017.0</td>\n",
              "      <td>4.495003e+07</td>\n",
              "      <td>31307.314843</td>\n",
              "      <td>POLYGON ((-76.56761 39.32636, -76.56746 39.326...</td>\n",
              "      <td>Percent of Students that are African American ...</td>\n",
              "    </tr>\n",
              "    <tr>\n",
              "      <th>49427</th>\n",
              "      <td>Belair-Edison</td>\n",
              "      <td>aastud</td>\n",
              "      <td>2019</td>\n",
              "      <td>94.3079</td>\n",
              "      <td>2019.0</td>\n",
              "      <td>4.495003e+07</td>\n",
              "      <td>31307.314843</td>\n",
              "      <td>POLYGON ((-76.56761 39.32636, -76.56746 39.326...</td>\n",
              "      <td>Percent of Students that are African American ...</td>\n",
              "    </tr>\n",
              "    <tr>\n",
              "      <th>49482</th>\n",
              "      <td>Belair-Edison</td>\n",
              "      <td>aastud</td>\n",
              "      <td>2020</td>\n",
              "      <td>94.6856</td>\n",
              "      <td>2020.0</td>\n",
              "      <td>4.495003e+07</td>\n",
              "      <td>31307.314843</td>\n",
              "      <td>POLYGON ((-76.56761 39.32636, -76.56746 39.326...</td>\n",
              "      <td>Percent of Students that are African American ...</td>\n",
              "    </tr>\n",
              "  </tbody>\n",
              "</table>\n",
              "</div>\n",
              "      <button class=\"colab-df-convert\" onclick=\"convertToInteractive('df-26781a47-c2fd-4788-bade-78baf29ec4f6')\"\n",
              "              title=\"Convert this dataframe to an interactive table.\"\n",
              "              style=\"display:none;\">\n",
              "        \n",
              "  <svg xmlns=\"http://www.w3.org/2000/svg\" height=\"24px\"viewBox=\"0 0 24 24\"\n",
              "       width=\"24px\">\n",
              "    <path d=\"M0 0h24v24H0V0z\" fill=\"none\"/>\n",
              "    <path d=\"M18.56 5.44l.94 2.06.94-2.06 2.06-.94-2.06-.94-.94-2.06-.94 2.06-2.06.94zm-11 1L8.5 8.5l.94-2.06 2.06-.94-2.06-.94L8.5 2.5l-.94 2.06-2.06.94zm10 10l.94 2.06.94-2.06 2.06-.94-2.06-.94-.94-2.06-.94 2.06-2.06.94z\"/><path d=\"M17.41 7.96l-1.37-1.37c-.4-.4-.92-.59-1.43-.59-.52 0-1.04.2-1.43.59L10.3 9.45l-7.72 7.72c-.78.78-.78 2.05 0 2.83L4 21.41c.39.39.9.59 1.41.59.51 0 1.02-.2 1.41-.59l7.78-7.78 2.81-2.81c.8-.78.8-2.07 0-2.86zM5.41 20L4 18.59l7.72-7.72 1.47 1.35L5.41 20z\"/>\n",
              "  </svg>\n",
              "      </button>\n",
              "      \n",
              "  <style>\n",
              "    .colab-df-container {\n",
              "      display:flex;\n",
              "      flex-wrap:wrap;\n",
              "      gap: 12px;\n",
              "    }\n",
              "\n",
              "    .colab-df-convert {\n",
              "      background-color: #E8F0FE;\n",
              "      border: none;\n",
              "      border-radius: 50%;\n",
              "      cursor: pointer;\n",
              "      display: none;\n",
              "      fill: #1967D2;\n",
              "      height: 32px;\n",
              "      padding: 0 0 0 0;\n",
              "      width: 32px;\n",
              "    }\n",
              "\n",
              "    .colab-df-convert:hover {\n",
              "      background-color: #E2EBFA;\n",
              "      box-shadow: 0px 1px 2px rgba(60, 64, 67, 0.3), 0px 1px 3px 1px rgba(60, 64, 67, 0.15);\n",
              "      fill: #174EA6;\n",
              "    }\n",
              "\n",
              "    [theme=dark] .colab-df-convert {\n",
              "      background-color: #3B4455;\n",
              "      fill: #D2E3FC;\n",
              "    }\n",
              "\n",
              "    [theme=dark] .colab-df-convert:hover {\n",
              "      background-color: #434B5C;\n",
              "      box-shadow: 0px 1px 3px 1px rgba(0, 0, 0, 0.15);\n",
              "      filter: drop-shadow(0px 1px 2px rgba(0, 0, 0, 0.3));\n",
              "      fill: #FFFFFF;\n",
              "    }\n",
              "  </style>\n",
              "\n",
              "      <script>\n",
              "        const buttonEl =\n",
              "          document.querySelector('#df-26781a47-c2fd-4788-bade-78baf29ec4f6 button.colab-df-convert');\n",
              "        buttonEl.style.display =\n",
              "          google.colab.kernel.accessAllowed ? 'block' : 'none';\n",
              "\n",
              "        async function convertToInteractive(key) {\n",
              "          const element = document.querySelector('#df-26781a47-c2fd-4788-bade-78baf29ec4f6');\n",
              "          const dataTable =\n",
              "            await google.colab.kernel.invokeFunction('convertToInteractive',\n",
              "                                                     [key], {});\n",
              "          if (!dataTable) return;\n",
              "\n",
              "          const docLinkHtml = 'Like what you see? Visit the ' +\n",
              "            '<a target=\"_blank\" href=https://colab.research.google.com/notebooks/data_table.ipynb>data table notebook</a>'\n",
              "            + ' to learn more about interactive tables.';\n",
              "          element.innerHTML = '';\n",
              "          dataTable['output_type'] = 'display_data';\n",
              "          await google.colab.output.renderOutput(dataTable, element);\n",
              "          const docLink = document.createElement('div');\n",
              "          docLink.innerHTML = docLinkHtml;\n",
              "          element.appendChild(docLink);\n",
              "        }\n",
              "      </script>\n",
              "    </div>\n",
              "  </div>\n",
              "  "
            ],
            "text/plain": [
              "                 CSA  ...                              indicator_description\n",
              "15849  Belair-Edison  ...  Percent of Students that are African American ...\n",
              "19097  Belair-Edison  ...  Percent of Students that are African American ...\n",
              "23241  Belair-Edison  ...  Percent of Students that are African American ...\n",
              "49042  Belair-Edison  ...  Percent of Students that are African American ...\n",
              "49097  Belair-Edison  ...  Percent of Students that are African American ...\n",
              "49152  Belair-Edison  ...  Percent of Students that are African American ...\n",
              "49207  Belair-Edison  ...  Percent of Students that are African American ...\n",
              "49262  Belair-Edison  ...  Percent of Students that are African American ...\n",
              "49317  Belair-Edison  ...  Percent of Students that are African American ...\n",
              "49372  Belair-Edison  ...  Percent of Students that are African American ...\n",
              "49427  Belair-Edison  ...  Percent of Students that are African American ...\n",
              "49482  Belair-Edison  ...  Percent of Students that are African American ...\n",
              "\n",
              "[12 rows x 9 columns]"
            ]
          },
          "metadata": {},
          "execution_count": 17
        }
      ]
    },
    {
      "cell_type": "markdown",
      "source": [
        "### Function 2: Determine ideal subplot dimensions"
      ],
      "metadata": {
        "id": "qggO2s64znQ0"
      },
      "id": "qggO2s64znQ0"
    },
    {
      "cell_type": "code",
      "source": [
        "#### function to define right number of rows and columns based on the number of datapoints available \n",
        "\n",
        "def subplot_dims(data_len):\n",
        "  '''\n",
        "  Given the length of data, returns the best option for dimensions (rows, columns)\n",
        "  '''\n",
        "  # if you have 5 or fewer plots, make it one row \n",
        "  if data_len <= 5:\n",
        "    return 1, data_len\n",
        "  ## determine best dimensions (try 4, then 5, then 3)\n",
        "  if data_len%4 == 0: \n",
        "    return int(data_len/4), 4\n",
        "  elif data_len%5 == 0:\n",
        "    return int(data_len/5), 5\n",
        "  elif data_len%3 == 0:\n",
        "    return int(data_len/3), 3\n",
        "  # but if none of that worked, choose the option with the lowest remained\n",
        "  else: \n",
        "    # choose the number of columns with max remainder (we want the fewest empty graphs)\n",
        "    remainders = [data_len%n for n in range(3, 7)] # allow up to 6 columns, with a minimum of 3 columns\n",
        "    cols = int(remainders.index(max(remainders)) + 3) # index starts at 0, so we need to add three to get the desired number of columns\n",
        "    rows = int(math.ceil(data_len / cols)) # round up to get the number of rows \n",
        "    return rows, cols "
      ],
      "metadata": {
        "id": "rKsEuWHiL97d"
      },
      "id": "rKsEuWHiL97d",
      "execution_count": 18,
      "outputs": []
    },
    {
      "cell_type": "markdown",
      "source": [
        "### Function 3: Static plots of a CSA/indicator over time"
      ],
      "metadata": {
        "id": "Q8NgbTC6zuhW"
      },
      "id": "Q8NgbTC6zuhW"
    },
    {
      "cell_type": "markdown",
      "source": [
        "##### Original Version"
      ],
      "metadata": {
        "id": "LirJlieWz4PY"
      },
      "id": "LirJlieWz4PY"
    },
    {
      "cell_type": "code",
      "source": [
        "# original (old)\n",
        "#### function to plot a single neighborhood for a single indicator over time (static plots)\n",
        "\n",
        "def plot_neighborhood_static(data, csa, indicator, figsize = (4,5)):\n",
        "  '''\n",
        "  Returns a figure with several subplots, showing how an indicator has changed in a given neighborhood over time \n",
        "  ***\n",
        "  data: a geodataframe \n",
        "  csa: string, the CSA name as it appears in the data \n",
        "  indicator: string, the indicator shortname as it appears in the data \n",
        "  (add variables for colormap, indicator description, figure size, etc)\n",
        "  '''\n",
        "  # subset to the data of interest\n",
        "  csa_dat = data[(data.CSA == csa) & (data.indicator == indicator)]\n",
        "  # get a list of years available, and make sure it's sorted\n",
        "  yrs = [y for y in csa_dat.year]\n",
        "  yrs.sort()\n",
        "  # figure out the dimensions of the figure subplots based on the number of years available\n",
        "  rows, cols = subplot_dims(len(yrs))\n",
        "\n",
        "  # set up the figure \n",
        "  fig, ax = plt.subplots(rows, cols, sharex = True, sharey = True, figsize = figsize)\n",
        "  figure_title = csa + \", \" + indicator\n",
        "  fig.suptitle(figure_title)\n",
        "  # set up min and max values to anchor the choropleth, so legend is consistent\n",
        "  anchor_min = csa_dat.value.min()\n",
        "  anchor_max = csa_dat.value.max()\n",
        "\n",
        "  # loop to create plot \n",
        "  # set starting year index (which year to grab from the list of years)\n",
        "  yr_i = 0\n",
        "  # go row by row \n",
        "  for r in range(0, rows): # r is the row index (0 base)\n",
        "    # column by column\n",
        "    for c in range(0, cols):\n",
        "      # get data \n",
        "      mapdat = csa_dat[csa_dat.year == yrs[yr_i]]\n",
        "      # plot \n",
        "      mapdat.plot(\"value\", ax = ax[r,c], vmin = anchor_min, vmax = anchor_max)\n",
        "      ax[r,c].set_axis_off()\n",
        "      ax[r,c].set_title(yrs[yr_i]) # title is year \n",
        "      # move to the next year (by increasing the year index by 1)\n",
        "      yr_i += 1\n",
        "      \n",
        "\n",
        "  ## overall figure aesthetics \n",
        "  # set legend\n",
        "  patch_col = ax[0,0].collections[0]\n",
        "  fig.colorbar(patch_col, ax = ax, shrink = 0.8)\n",
        "\n",
        "  return fig.show()\n",
        "\n",
        "\n"
      ],
      "metadata": {
        "id": "3HrMXIxgSR46"
      },
      "id": "3HrMXIxgSR46",
      "execution_count": null,
      "outputs": []
    },
    {
      "cell_type": "code",
      "source": [
        "plot_neighborhood_static(vsg, \"Canton\", \"lifexp\", figsize = (6,4))"
      ],
      "metadata": {
        "colab": {
          "base_uri": "https://localhost:8080/",
          "height": 264
        },
        "id": "9UN3d6zhY4JH",
        "outputId": "35d1e5dc-621b-4e18-d989-230d9b963aa8"
      },
      "id": "9UN3d6zhY4JH",
      "execution_count": null,
      "outputs": [
        {
          "output_type": "display_data",
          "data": {
            "image/png": "[encoded data removed]",
            "text/plain": [
              "<Figure size 432x288 with 9 Axes>"
            ]
          },
          "metadata": {
            "needs_background": "light"
          }
        }
      ]
    },
    {
      "cell_type": "code",
      "source": [
        "plot_neighborhood_static(vsg, \"Upton/Druid Heights\", \"shomes\", figsize = (6, 8))"
      ],
      "metadata": {
        "colab": {
          "base_uri": "https://localhost:8080/",
          "height": 513
        },
        "id": "PO9o0ChrVtGT",
        "outputId": "a3a21d6b-bf0e-406d-9fe1-7af506c2e159"
      },
      "id": "PO9o0ChrVtGT",
      "execution_count": null,
      "outputs": [
        {
          "output_type": "display_data",
          "data": {
            "image/png": "[encoded data removed]",
            "text/plain": [
              "<Figure size 432x576 with 21 Axes>"
            ]
          },
          "metadata": {
            "needs_background": "light"
          }
        }
      ]
    },
    {
      "cell_type": "markdown",
      "source": [
        "##### Updated version: takes an already-subsetted dataframe, more formatting options, more error handling"
      ],
      "metadata": {
        "id": "5NFg1V8N2RpS"
      },
      "id": "5NFg1V8N2RpS"
    },
    {
      "cell_type": "code",
      "source": [
        "#### function to plot a single neighborhood for a single indicator over time (static plots)\n",
        "# updated to use the subet_dataframe function \n",
        "### EVEN MORE ERROR HANDLING \n",
        "\n",
        "def plot_neighborhood_static(dat, figsize = (4,5), title_font_size = 14, cmap = None, \n",
        "                             legend_orientation = \"vertical\",\n",
        "                             manual_title_adjustment = 0.0):\n",
        "  '''\n",
        "  Returns a figure with several subplots, showing how an indicator has changed in a given neighborhood over time \n",
        "  ***\n",
        "  dat: a geodataframe, subsetted to the desired neighborhood, indicator, and year(s)\n",
        "    (theoretically this function works with multiple neighborhoods, but title assumes it's only 1) \n",
        "  figsize: size of overall figure \n",
        "  title_font_size: how large the font should be (fontsize)\n",
        "  cmap: color map for choropleth (set to default of None)\n",
        "  legend_orientation: 'vertical' or 'horizontal'\n",
        "  manual_title_adjustment: a float, representing how much to adjust the title. Can be negative or positive. \n",
        "  '''\n",
        "\n",
        "  # get a list of years available, and make sure it's sorted\n",
        "  yrs = [y for y in set(dat.year)]\n",
        "  yrs.sort()\n",
        "  # get the name of the csa(s), the indicator, and the indicator_description\n",
        "  csa_s = [csa for csa in set(dat.CSA)]\n",
        "  indicator = dat.indicator.iloc[0]\n",
        "  ind_desc = dat.indicator_description.iloc[0]\n",
        "  # figure out the dimensions of the figure subplots based on the number of years available\n",
        "  rows, cols = subplot_dims(len(yrs))\n",
        "\n",
        "  # set up the figure \n",
        "  fig, ax = plt.subplots(rows, cols, sharex = True, sharey = True, figsize = figsize)\n",
        "  csa_title = \", \\n\".join(csa_s)\n",
        "  figure_title = csa_title + \"\\n\" + ind_desc\n",
        "  # how much we offset the title depends on how many lines the title takes up, plus any manual adjustments\n",
        "  title_position = 1 + (0.025 * csa_title.count(\"\\n\")) + manual_title_adjustment \n",
        "  fig.suptitle(figure_title, fontsize = title_font_size, y = title_position)\n",
        "  # set up min and max values to anchor the choropleth, so legend is consistent\n",
        "  anchor_min = dat.value.min()\n",
        "  anchor_max = dat.value.max()\n",
        "\n",
        "  # loop to create plot \n",
        "  # set starting year index (which year to grab from the list of years)\n",
        "  yr_i = 0\n",
        "  # go row by row \n",
        "  for r in range(0, rows): # r is the row index (0 base)\n",
        "    # column by column\n",
        "    for c in range(0, cols):\n",
        "      # leave blank if we ran out of data\n",
        "      if yr_i >= len(yrs):\n",
        "        ax[r, c].axis('off')\n",
        "      else:\n",
        "        # get data \n",
        "        mapdat = dat[dat.year == yrs[yr_i]]\n",
        "        # plot (with some error handling, if there's only 1 row)\n",
        "        if rows == 1:\n",
        "          mapdat.plot(\"value\", ax = ax[c], vmin = anchor_min, vmax = anchor_max, cmap = cmap)\n",
        "          ax[c].set_axis_off()\n",
        "          ax[c].set_title(yrs[yr_i]) # title is year \n",
        "        else: \n",
        "          mapdat.plot(\"value\", ax = ax[r,c], vmin = anchor_min, vmax = anchor_max, cmap = cmap)\n",
        "          ax[r,c].set_axis_off()\n",
        "          ax[r,c].set_title(yrs[yr_i]) # title is year \n",
        "        # move to the next year (by increasing the year index by 1)\n",
        "        yr_i += 1\n",
        "      \n",
        "\n",
        "  ## overall figure aesthetics \n",
        "  # set legend\n",
        "  if rows == 1: \n",
        "    patch_col = ax[0].collections[0]\n",
        "  else: \n",
        "    patch_col = ax[0,0].collections[0]\n",
        "  fig.colorbar(patch_col, ax = ax, shrink = 0.8, orientation = legend_orientation)\n",
        "\n",
        "  return fig.show()"
      ],
      "metadata": {
        "id": "yc7F0XEzYdlV"
      },
      "id": "yc7F0XEzYdlV",
      "execution_count": 95,
      "outputs": []
    },
    {
      "cell_type": "code",
      "source": [
        "# test: Canton, aastud\n",
        "ex1 = subset_dataframe(vsg, [\"CSA\", \"indicator\"], [\"Canton\",\"aastud\"])\n",
        "plot_neighborhood_static(ex1)"
      ],
      "metadata": {
        "colab": {
          "base_uri": "https://localhost:8080/",
          "height": 325
        },
        "id": "xKQvIdvb3k3K",
        "outputId": "c37fb820-3eef-468c-96db-608b29f81830"
      },
      "id": "xKQvIdvb3k3K",
      "execution_count": 92,
      "outputs": [
        {
          "output_type": "display_data",
          "data": {
            "image/png": "[encoded data removed]",
            "text/plain": [
              "<Figure size 288x360 with 16 Axes>"
            ]
          },
          "metadata": {
            "needs_background": "light"
          }
        }
      ]
    },
    {
      "cell_type": "code",
      "source": [
        "# same data, but subset to 2010 onwards, and change the figure size \n",
        "ex2 = subset_dataframe(vsg, [\"CSA\", \"indicator\",\"year_numeric\"], [\"Canton\",\"aastud\",2010],\n",
        "                       condition_parameters = [\"==\",\"==\",\">=\"])\n",
        "plot_neighborhood_static(ex2, figsize = (8, 5))"
      ],
      "metadata": {
        "colab": {
          "base_uri": "https://localhost:8080/",
          "height": 323
        },
        "id": "qI0q43pL2OCf",
        "outputId": "c99a52f4-e125-477d-a611-15f2fd7f0d92"
      },
      "id": "qI0q43pL2OCf",
      "execution_count": 93,
      "outputs": [
        {
          "output_type": "display_data",
          "data": {
            "image/png": "[encoded data removed]",
            "text/plain": [
              "<Figure size 576x360 with 11 Axes>"
            ]
          },
          "metadata": {
            "needs_background": "light"
          }
        }
      ]
    },
    {
      "cell_type": "code",
      "source": [
        "# testing with an indicator with only a few years of data \n",
        "ex3 = subset_dataframe(vsg, [\"CSA\",\"indicator\"], [\"Southwest Baltimore\", \"arrest\"])\n",
        "plot_neighborhood_static(ex3, figsize = (6,3))"
      ],
      "metadata": {
        "colab": {
          "base_uri": "https://localhost:8080/",
          "height": 204
        },
        "id": "t6CrMSQr6lwb",
        "outputId": "5c90bc16-8536-4a15-da20-c6fe779a685e"
      },
      "id": "t6CrMSQr6lwb",
      "execution_count": 94,
      "outputs": [
        {
          "output_type": "display_data",
          "data": {
            "image/png": "[encoded data removed]",
            "text/plain": [
              "<Figure size 432x216 with 4 Axes>"
            ]
          },
          "metadata": {
            "needs_background": "light"
          }
        }
      ]
    },
    {
      "cell_type": "code",
      "source": [
        "# same plot, but change the color scale \n",
        "plot_neighborhood_static(ex3, figsize = (6,3), cmap = \"jet\")"
      ],
      "metadata": {
        "colab": {
          "base_uri": "https://localhost:8080/",
          "height": 200
        },
        "id": "RYf1hDrR969I",
        "outputId": "447d5d57-97e4-4fd0-8233-9a27b173c66a"
      },
      "id": "RYf1hDrR969I",
      "execution_count": 75,
      "outputs": [
        {
          "output_type": "display_data",
          "data": {
            "image/png": "[encoded data removed]",
            "text/plain": [
              "<Figure size 432x216 with 4 Axes>"
            ]
          },
          "metadata": {
            "needs_background": "light"
          }
        }
      ]
    },
    {
      "cell_type": "code",
      "source": [
        "# change color again \n",
        "plot_neighborhood_static(ex3, figsize = (6,3), cmap = \"Blues\")"
      ],
      "metadata": {
        "colab": {
          "base_uri": "https://localhost:8080/",
          "height": 200
        },
        "id": "7SBNLj3p-QX3",
        "outputId": "473e0569-f4d7-4460-f434-3dc233f15473"
      },
      "id": "7SBNLj3p-QX3",
      "execution_count": 76,
      "outputs": [
        {
          "output_type": "display_data",
          "data": {
            "image/png": "[encoded data removed]",
            "text/plain": [
              "<Figure size 432x216 with 4 Axes>"
            ]
          },
          "metadata": {
            "needs_background": "light"
          }
        }
      ]
    },
    {
      "cell_type": "code",
      "source": [
        "# change legend orientation \n",
        "plot_neighborhood_static(ex3, figsize = (6,3), cmap = \"Blues\",\n",
        "                         legend_orientation = \"horizontal\")"
      ],
      "metadata": {
        "colab": {
          "base_uri": "https://localhost:8080/",
          "height": 222
        },
        "id": "uK1mFXBU-wT0",
        "outputId": "8b0bf06f-788c-45d6-ec3d-7f9b967803ae"
      },
      "id": "uK1mFXBU-wT0",
      "execution_count": 77,
      "outputs": [
        {
          "output_type": "display_data",
          "data": {
            "image/png": "[encoded data removed]",
            "text/plain": [
              "<Figure size 432x216 with 4 Axes>"
            ]
          },
          "metadata": {
            "needs_background": "light"
          }
        }
      ]
    },
    {
      "cell_type": "code",
      "source": [
        "# will this work on multiple neighborhoods? \n",
        "csas = ['Beechfield/Ten Hills/West Hills','Allendale/Irvington/S. Hilton','Edmondson Village'] # according to BNIA map, these are next to each other \n",
        "ex4 = subset_dataframe(vsg, [\"CSA\", \"indicator\",\"year_numeric\"], [csas,\"paa\",2010],[\"==\",\"==\",\">=\"])\n",
        "plot_neighborhood_static(ex4, figsize = (8,5.5), legend_orientation = \"horizontal\", cmap = \"summer\", manual_title_adjustment= 0.03)\n",
        "# just need to change the title (fixed)"
      ],
      "metadata": {
        "id": "XOgfwSdyToYY",
        "outputId": "2981e446-1d44-4ca5-806f-bce2e234a89c",
        "colab": {
          "base_uri": "https://localhost:8080/",
          "height": 399
        }
      },
      "id": "XOgfwSdyToYY",
      "execution_count": 97,
      "outputs": [
        {
          "output_type": "display_data",
          "data": {
            "image/png": "[encoded data removed]",
            "text/plain": [
              "<Figure size 576x396 with 9 Axes>"
            ]
          },
          "metadata": {
            "needs_background": "light"
          }
        }
      ]
    },
    {
      "cell_type": "code",
      "source": [
        "# same graph, but cut off 2010\n",
        "ex5 = subset_dataframe(vsg, [\"CSA\", \"indicator\",\"year_numeric\"], [csas,\"paa\",2015],[\"==\",\"==\",\">=\"])\n",
        "plot_neighborhood_static(ex5, figsize = (8,5), legend_orientation = \"horizontal\", cmap = \"summer\", manual_title_adjustment= 0.1)"
      ],
      "metadata": {
        "id": "MpSPvZ0mpYRE",
        "outputId": "82fc5eb4-b3a5-4322-ed43-80ba8c7398cc",
        "colab": {
          "base_uri": "https://localhost:8080/",
          "height": 394
        }
      },
      "id": "MpSPvZ0mpYRE",
      "execution_count": 122,
      "outputs": [
        {
          "output_type": "display_data",
          "data": {
            "image/png": "[encoded data removed]",
            "text/plain": [
              "<Figure size 576x360 with 7 Axes>"
            ]
          },
          "metadata": {
            "needs_background": "light"
          }
        }
      ]
    },
    {
      "cell_type": "markdown",
      "source": [
        "### Function 4: Line plot comparing specific neighborhoods over time "
      ],
      "metadata": {
        "id": "4zjkDeeA_iAn"
      },
      "id": "4zjkDeeA_iAn"
    },
    {
      "cell_type": "markdown",
      "source": [
        "##### quick test"
      ],
      "metadata": {
        "id": "ZY-eA_uag556"
      },
      "id": "ZY-eA_uag556"
    },
    {
      "cell_type": "code",
      "source": [
        "#### testing out a single plot like this \n",
        "\n",
        "# let's look at household income for a few different neighborhoods \n",
        "csas = ['Beechfield/Ten Hills/West Hills','Allendale/Irvington/S. Hilton','Edmondson Village'] # according to BNIA map, these are next to each other \n",
        "linpltdat = subset_dataframe(vsg, columns = [\"CSA\",\"indicator\"], subset_vals = [csas,\"gunhom\"])\n",
        "linpltdat.head()\n",
        "\n",
        "### plot \n",
        "for csa in csas:\n",
        "  lindat = linpltdat[linpltdat.CSA == csa] \n",
        "  plt.plot(lindat.year_numeric, lindat.value, label = csa)\n",
        "plt.legend()\n",
        "plt.title(\"Gun Homicides per 1,000 Residents\")\n",
        "xticks = list(set(linpltdat.year_numeric))\n",
        "plt.xticks(xticks)\n",
        "plt.show()\n"
      ],
      "metadata": {
        "id": "sj7JB5qb_gyU",
        "outputId": "fcb4c775-a0c6-457c-a200-ed442e8a5416",
        "colab": {
          "base_uri": "https://localhost:8080/",
          "height": 336
        }
      },
      "id": "sj7JB5qb_gyU",
      "execution_count": null,
      "outputs": [
        {
          "output_type": "display_data",
          "data": {
            "image/png": "[encoded data removed]",
            "text/plain": [
              "<Figure size 360x360 with 1 Axes>"
            ]
          },
          "metadata": {
            "needs_background": "light"
          }
        }
      ]
    },
    {
      "cell_type": "markdown",
      "source": [
        "##### function + testing"
      ],
      "metadata": {
        "id": "DUwqvzgKg-9z"
      },
      "id": "DUwqvzgKg-9z"
    },
    {
      "cell_type": "code",
      "source": [
        "### make it a function \n",
        "def selected_line_plot(csas, indicator, color_list = None, figsize = (5,5),\n",
        "                       legend_loc = \"best\", \n",
        "                       year_before = 2050,\n",
        "                       year_after = 1900):\n",
        "  # get data \n",
        "  linpltdat = subset_dataframe(vsg, columns = [\"CSA\",\"indicator\"], subset_vals = [csas,indicator])\n",
        "  linpltdat = linpltdat[linpltdat.year_numeric.notna()]\n",
        "  linpltdat = linpltdat[(linpltdat.year_numeric >= year_after) & (linpltdat.year_numeric <= year_before)]\n",
        "  # grab indicator description \n",
        "  ind_desc = linpltdat.indicator_description.iloc[0]\n",
        "  # plot (no specified colors)\n",
        "  if color_list == None:\n",
        "    for csa in csas:\n",
        "      lindat = linpltdat[linpltdat.CSA == csa] \n",
        "      plt.plot(lindat.year_numeric, lindat.value, label = csa)\n",
        "  # plot (specified colors [must be same length as number of CSAs])\n",
        "  else: \n",
        "    for i in range(0, len(csas)):\n",
        "      lindat = linpltdat[linpltdat.CSA == csas[i]]\n",
        "      plt.plot(lindat.year_numeric, lindat.value, label = csas[i], color = color_list[i])\n",
        "\n",
        "  # aesthetics \n",
        "  plt.legend(loc = legend_loc)\n",
        "  plt.title(ind_desc)\n",
        "  xticks = list(set(linpltdat.year_numeric))\n",
        "  plt.xticks(xticks)\n",
        "  plt.rcParams[\"figure.figsize\"] = figsize\n",
        "  plt.show()\n",
        "\n"
      ],
      "metadata": {
        "id": "cF19xD7GDUCn"
      },
      "id": "cF19xD7GDUCn",
      "execution_count": 98,
      "outputs": []
    },
    {
      "cell_type": "code",
      "source": [
        "# test \n",
        "csas = ['Beechfield/Ten Hills/West Hills','Allendale/Irvington/S. Hilton','Edmondson Village'] # according to BNIA map, these are next to each other \n",
        "selected_line_plot(csas, \"gunhom\", legend_loc = \"upper right\")"
      ],
      "metadata": {
        "id": "kVsgUDzpFS1H",
        "outputId": "8bd4ef5f-2e0f-4b9b-c740-8f919ec06cda",
        "colab": {
          "base_uri": "https://localhost:8080/",
          "height": 281
        }
      },
      "id": "kVsgUDzpFS1H",
      "execution_count": 99,
      "outputs": [
        {
          "output_type": "display_data",
          "data": {
            "image/png": "[encoded data removed]",
            "text/plain": [
              "<Figure size 432x288 with 1 Axes>"
            ]
          },
          "metadata": {
            "needs_background": "light"
          }
        }
      ]
    },
    {
      "cell_type": "code",
      "source": [
        "# test, change colors \n",
        "selected_line_plot(csas, \"gunhom\", color_list = [\"teal\",\"yellowgreen\",\"cornflowerblue\"])"
      ],
      "metadata": {
        "id": "ZbdKBqnoGiZM",
        "outputId": "4d2bd10b-139e-46bc-e113-0e0383590213",
        "colab": {
          "base_uri": "https://localhost:8080/",
          "height": 336
        }
      },
      "id": "ZbdKBqnoGiZM",
      "execution_count": null,
      "outputs": [
        {
          "output_type": "display_data",
          "data": {
            "image/png": "[encoded data removed]",
            "text/plain": [
              "<Figure size 360x360 with 1 Axes>"
            ]
          },
          "metadata": {
            "needs_background": "light"
          }
        }
      ]
    },
    {
      "cell_type": "code",
      "source": [
        "# test, change CSAs and indicator \n",
        "selected_line_plot(['Harford/Echodale','Hamilton','Lauraville'],\"unempl\") # something strange\n",
        "# this looks messed up because we're missing data between 2000 and 2010"
      ],
      "metadata": {
        "id": "7BAtksEtHC-o",
        "outputId": "d69f69bc-9c54-40f0-92e0-85e07b6977c5",
        "colab": {
          "base_uri": "https://localhost:8080/",
          "height": 336
        }
      },
      "id": "7BAtksEtHC-o",
      "execution_count": 100,
      "outputs": [
        {
          "output_type": "display_data",
          "data": {
            "image/png": "[encoded data removed]",
            "text/plain": [
              "<Figure size 360x360 with 1 Axes>"
            ]
          },
          "metadata": {
            "needs_background": "light"
          }
        }
      ]
    },
    {
      "cell_type": "code",
      "source": [
        "# fixed issue of missing data by giving more flexibility to filter by year \n",
        "selected_line_plot(['Harford/Echodale','Hamilton','Lauraville'],\"unempl\", year_after = 2010)"
      ],
      "metadata": {
        "id": "4M709vhxKMsa",
        "outputId": "8298ca4e-86e7-4dfe-d51f-70391fa8ae0a",
        "colab": {
          "base_uri": "https://localhost:8080/",
          "height": 336
        }
      },
      "id": "4M709vhxKMsa",
      "execution_count": 101,
      "outputs": [
        {
          "output_type": "display_data",
          "data": {
            "image/png": "[encoded data removed]",
            "text/plain": [
              "<Figure size 360x360 with 1 Axes>"
            ]
          },
          "metadata": {
            "needs_background": "light"
          }
        }
      ]
    },
    {
      "cell_type": "markdown",
      "source": [
        "### Function 5: Line plot comparing one neighborhood to all others over time "
      ],
      "metadata": {
        "id": "Q07FxtMd_0kO"
      },
      "id": "Q07FxtMd_0kO"
    },
    {
      "cell_type": "code",
      "source": [
        "#### same line plot idea, but now compare 1 highlighted csa to all others \n",
        "\n",
        "def highlight_line_plot(indicator,csa_of_interest, year_before = 2050, year_after = 1990,\n",
        "                        figsize = (5,5), highlight_color = \"orange\",\n",
        "                        legend_loc = \"best\", \n",
        "                        alpha = 0.25):\n",
        "  '''\n",
        "  Function to create a line plot with one highlighted line of interest \n",
        "  ***\n",
        "  indicator: the shortname of the indicator of interest\n",
        "  csa_of_interest: the CSA to be highlighted \n",
        "  year_before: filter to all years less than or equal to this year  (2050 as a placeholder)\n",
        "  year_after: filter to all years greater than or equal to this year (1990 as a placeholder)\n",
        "  figsize: dimensions of the figure \n",
        "  highlight_color: color of the line of interest \n",
        "  legened_loc: location of the legend \n",
        "  alpha: transparency level of the grey lines (default is 0.25)\n",
        "  '''\n",
        "  linpltdat = subset_dataframe(vsg, columns = [\"indicator\"], subset_vals = [indicator])\n",
        "  # filter out NA values, filter to desired time frame \n",
        "  linpltdat = linpltdat[linpltdat.year_numeric.notna()]\n",
        "  linpltdat = linpltdat[(linpltdat.year_numeric >= year_after) & (linpltdat.year_numeric <= year_before)]\n",
        "  # grab indicator description \n",
        "  ind_desc = linpltdat.indicator_description.iloc[0]\n",
        "\n",
        "  # plot line of interest\n",
        "  csadat = linpltdat[linpltdat.CSA == csa_of_interest]\n",
        "  plt.plot(csadat.year_numeric, csadat.value, label = csa_of_interest, color = highlight_color,\n",
        "           linewidth = 2)\n",
        "\n",
        "  ## plot all other lines\n",
        "  # get list of all other CSAs\n",
        "  other_csas = set(linpltdat.CSA)\n",
        "  other_csas.remove(csa_of_interest)\n",
        "  # loop through other csas\n",
        "  for csa in other_csas: \n",
        "    lindat = linpltdat[linpltdat.CSA == csa] \n",
        "    plt.plot(lindat.year_numeric, lindat.value, label = None, \n",
        "             color = \"grey\", alpha = alpha, linewidth = 1) # grey out aesthetics\n",
        "\n",
        "  # aesthetics \n",
        "  plt.legend(loc = legend_loc)\n",
        "  title_text = ind_desc + \"\\n\" + csa_of_interest + \" vs. other CSAs\"\n",
        "  plt.title(title_text)\n",
        "  xticks = list(set(linpltdat.year_numeric))\n",
        "  plt.xticks(xticks)\n",
        "  plt.rcParams[\"figure.figsize\"] = figsize\n",
        "  plt.show()\n",
        "  "
      ],
      "metadata": {
        "id": "lpsP_DvlKXQl"
      },
      "id": "lpsP_DvlKXQl",
      "execution_count": 108,
      "outputs": []
    },
    {
      "cell_type": "code",
      "source": [
        "# simple example (only 2 years of data for this indicator)\n",
        "highlight_line_plot(\"hhsize\", \"Canton\")"
      ],
      "metadata": {
        "id": "xeppWD6XMMzs",
        "outputId": "bd12c046-08d3-4fc7-d5ef-05353e9a739f",
        "colab": {
          "base_uri": "https://localhost:8080/",
          "height": 351
        }
      },
      "id": "xeppWD6XMMzs",
      "execution_count": 109,
      "outputs": [
        {
          "output_type": "display_data",
          "data": {
            "image/png": "[encoded data removed]",
            "text/plain": [
              "<Figure size 360x360 with 1 Axes>"
            ]
          },
          "metadata": {
            "needs_background": "light"
          }
        }
      ]
    },
    {
      "cell_type": "code",
      "source": [
        "# another issue of missing years \n",
        "highlight_line_plot(\"paa\",\"Fells Point\")"
      ],
      "metadata": {
        "id": "zA6W1e6aMiqm",
        "outputId": "e65cf226-a040-468c-ff04-3645728c33cd",
        "colab": {
          "base_uri": "https://localhost:8080/",
          "height": 351
        }
      },
      "id": "zA6W1e6aMiqm",
      "execution_count": 110,
      "outputs": [
        {
          "output_type": "display_data",
          "data": {
            "image/png": "[encoded data removed]",
            "text/plain": [
              "<Figure size 360x360 with 1 Axes>"
            ]
          },
          "metadata": {
            "needs_background": "light"
          }
        }
      ]
    },
    {
      "cell_type": "code",
      "source": [
        "highlight_line_plot(\"paa\",\"Fells Point\", year_after = 2015,\n",
        "                    figsize = (8, 4), legend_loc = \"upper right\")"
      ],
      "metadata": {
        "id": "uEnzyubuMcRx",
        "outputId": "3e65d9bf-0f57-4c06-8a41-42d46c14c791",
        "colab": {
          "base_uri": "https://localhost:8080/",
          "height": 296
        }
      },
      "id": "uEnzyubuMcRx",
      "execution_count": 113,
      "outputs": [
        {
          "output_type": "display_data",
          "data": {
            "image/png": "[encoded data removed]",
            "text/plain": [
              "<Figure size 576x288 with 1 Axes>"
            ]
          },
          "metadata": {
            "needs_background": "light"
          }
        }
      ]
    },
    {
      "cell_type": "code",
      "source": [
        "highlight_line_plot(\"phisp\",\"Oldtown/Middle East\",year_after = 2015,\n",
        "                    figsize = (8, 4), legend_loc = \"upper right\")"
      ],
      "metadata": {
        "id": "C91fX6QWNnWn",
        "outputId": "8ef8287d-9024-4b64-8ba2-fc141ab1559f",
        "colab": {
          "base_uri": "https://localhost:8080/",
          "height": 296
        }
      },
      "id": "C91fX6QWNnWn",
      "execution_count": 112,
      "outputs": [
        {
          "output_type": "display_data",
          "data": {
            "image/png": "[encoded data removed]",
            "text/plain": [
              "<Figure size 576x288 with 1 Axes>"
            ]
          },
          "metadata": {
            "needs_background": "light"
          }
        }
      ]
    },
    {
      "cell_type": "code",
      "source": [
        "highlight_line_plot(\"phisp\",\"Hamilton\", year_after = 2010)"
      ],
      "metadata": {
        "id": "oWZIwTo1N8Y9",
        "outputId": "add765ee-eeb0-4de7-e2ca-74072cb8f980",
        "colab": {
          "base_uri": "https://localhost:8080/",
          "height": 351
        }
      },
      "id": "oWZIwTo1N8Y9",
      "execution_count": 116,
      "outputs": [
        {
          "output_type": "display_data",
          "data": {
            "image/png": "[encoded data removed]",
            "text/plain": [
              "<Figure size 360x360 with 1 Axes>"
            ]
          },
          "metadata": {
            "needs_background": "light"
          }
        }
      ]
    },
    {
      "cell_type": "markdown",
      "source": [
        "### Animate over time (abandoned for now, taking too long for not great results)"
      ],
      "metadata": {
        "id": "fXO9ncFH0c0S"
      },
      "id": "fXO9ncFH0c0S"
    },
    {
      "cell_type": "code",
      "source": [
        "# sample data (one indicator, one neighborhood)\n",
        "x = vsg[(vsg.indicator == \"aastud\") & (vsg.CSA == \"Canton\")].copy()\n",
        "# remove NA values \n",
        "x.dropna(subset = [\"value\"], inplace = True)\n",
        "x.shape # there are 15 years of data \n",
        "x"
      ],
      "metadata": {
        "id": "uYkdjubea5fz"
      },
      "id": "uYkdjubea5fz",
      "execution_count": null,
      "outputs": []
    },
    {
      "cell_type": "code",
      "source": [
        "### attempt 1 \n",
        "\n",
        "# loop over years \n",
        "yr_list = [y for y in x.year]\n",
        "# set min and max for legend\n",
        "vmin = x.value.min()\n",
        "vmax = x.value.max()\n",
        "# loop\n",
        "for yr in yr_list: \n",
        "  mapdata = x[x.year == yr]\n",
        "  fig = mapdata.plot(\"value\", legend = True,\n",
        "                     norm=plt.Normalize(vmin=vmin, vmax=vmax))\n",
        "  ax.cla()\n",
        "# this displays simple graphs "
      ],
      "metadata": {
        "id": "fgJspqRSa5nm"
      },
      "id": "fgJspqRSa5nm",
      "execution_count": null,
      "outputs": []
    },
    {
      "cell_type": "code",
      "source": [
        "g = mapdata.plot(\"value\", legend = True,\n",
        "                     norm=plt.Normalize(vmin=vmin, vmax=vmax))"
      ],
      "metadata": {
        "id": "B7UbmTu_l34a"
      },
      "id": "B7UbmTu_l34a",
      "execution_count": null,
      "outputs": []
    },
    {
      "cell_type": "code",
      "source": [
        "# attempt 2 (based on https://stackoverflow.com/questions/65533180/how-do-i-fill-an-animated-shape-with-matplotlib)\n",
        "from matplotlib.animation import FuncAnimation\n",
        "\n",
        "fig, ax = plt.subplots()\n",
        "\n",
        "# init function \n",
        "def init():\n",
        "  ax.axis('placeholder')\n",
        "  return x.plot(\"value\")\n",
        "\n",
        "# animation function \n",
        "def update(frame):\n",
        "  mapdata = x[x.year == yr]\n",
        "  return mapdata.plot(\"value\")\n",
        "\n",
        "ani = FuncAnimation(fig, update, frames = yr_list, init_func = init)\n",
        "plt.show()"
      ],
      "metadata": {
        "id": "JrGxiZDEa5Wv"
      },
      "id": "JrGxiZDEa5Wv",
      "execution_count": null,
      "outputs": []
    },
    {
      "cell_type": "code",
      "source": [
        "# attempt 3 - saving a gif \n",
        "# combo of:\n",
        "  # https://towardsdatascience.com/how-to-make-a-gif-map-using-python-geopandas-and-matplotlib-cd8827cefbc8\n",
        "  # https://stackoverflow.com/questions/753190/programmatically-generate-video-or-animated-gif-in-python\n",
        "\n",
        "# folder of gifs \n",
        "yr_list = [y for y in x.year]\n",
        "# set min and max for legend\n",
        "vmin = x.value.min()\n",
        "vmax = x.value.max()\n",
        "# loop\n",
        "for yr in yr_list: \n",
        "  mapdata = x[x.year == yr]\n",
        "  fig = mapdata.plot(\"value\", legend = True,\n",
        "                     norm=plt.Normalize(vmin=vmin, vmax=vmax))\n",
        "  fig.axis('off')\n",
        "  fig.set_title(\"Test - Animation of Baltimore Neighborhood\")\n",
        "  filepath = \"gif_test/test1_\" + str(yr) + '.jpg'\n",
        "  chart = fig.get_figure()\n",
        "  chart.savefig(filepath, dpi = 300)"
      ],
      "metadata": {
        "id": "pvI13zQnnG7L"
      },
      "id": "pvI13zQnnG7L",
      "execution_count": null,
      "outputs": []
    },
    {
      "cell_type": "code",
      "source": [
        "# attempt 3 continued, merge into a gif\n",
        "import imageio\n",
        "\n",
        "filenames = os.listdir(\"gif_test\")\n",
        "filenames.sort()\n",
        "full_filenames = ['gif_test/' + f for f in filenames]\n",
        "\n",
        "\n",
        "images = []\n",
        "for filename in full_filenames: \n",
        "  images.append(imageio.imread(filename))\n",
        "imageio.mimsave('test_gif_output.gif', images)\n",
        "# this worked! the gif is silly right now, but it worked "
      ],
      "metadata": {
        "id": "eiPG6TJPpNIu"
      },
      "id": "eiPG6TJPpNIu",
      "execution_count": null,
      "outputs": []
    },
    {
      "cell_type": "code",
      "source": [
        "# attempt 4 (kinda going back to attempt 1)\n",
        "vmin = x.value.min()\n",
        "vmax = x.value.max()\n",
        "neighborhood = x.CSA.iloc[0]\n",
        "indicator = x.indicator.iloc[0]\n",
        "# yr = \"2005\"\n",
        "\n",
        "fig, ax = plt.subplots()\n",
        "#fig.set_dpi(100)\n",
        "\n",
        "title_txt = neighborhood + \", \" + indicator + \" (\" + yr + \")\"\n",
        "plt.title(title_txt)\n",
        "\n",
        "def init():\n",
        "  yr = yr_list[0]\n",
        "  ax = x[x.year == yr].plot(\"value\", legend = True,\n",
        "                               norm=plt.Normalize(vmin=vmin, vmax=vmax))\n",
        "  ax.axis('off')\n",
        "  return ax\n",
        "\n",
        "def animate(i):\n",
        "  yr = yr_list[i]\n",
        "  ax = x[x.year == yr].plot(\"value\", legend = True,\n",
        "                               norm=plt.Normalize(vmin=vmin, vmax=vmax),\n",
        "                            axis = ax)\n",
        "  return ax \n",
        "\n",
        "anim = FuncAnimation(fig, animate, \n",
        "                     init_func = init, \n",
        "                     frames = range(0, len(yr_list)))\n",
        "\n"
      ],
      "metadata": {
        "id": "EOiEOGJZnG2l"
      },
      "id": "EOiEOGJZnG2l",
      "execution_count": null,
      "outputs": []
    },
    {
      "cell_type": "code",
      "source": [
        ""
      ],
      "metadata": {
        "id": "XNTyS6uDnGx1"
      },
      "id": "XNTyS6uDnGx1",
      "execution_count": null,
      "outputs": []
    },
    {
      "cell_type": "code",
      "source": [
        ""
      ],
      "metadata": {
        "id": "ILtzJ8eEnGsf"
      },
      "id": "ILtzJ8eEnGsf",
      "execution_count": null,
      "outputs": []
    },
    {
      "cell_type": "code",
      "source": [
        ""
      ],
      "metadata": {
        "id": "MeCxOd6QnGEI"
      },
      "id": "MeCxOd6QnGEI",
      "execution_count": null,
      "outputs": []
    },
    {
      "cell_type": "code",
      "source": [
        ""
      ],
      "metadata": {
        "id": "Tyk489HIa5Nt"
      },
      "id": "Tyk489HIa5Nt",
      "execution_count": null,
      "outputs": []
    },
    {
      "cell_type": "code",
      "source": [
        ""
      ],
      "metadata": {
        "id": "uhS8nxe6a4nN"
      },
      "id": "uhS8nxe6a4nN",
      "execution_count": null,
      "outputs": []
    },
    {
      "cell_type": "code",
      "source": [
        "# install and load plotly \n",
        "!pip install plotly\n",
        "import plotly.express as px"
      ],
      "metadata": {
        "id": "KYBHMPmW0feD"
      },
      "id": "KYBHMPmW0feD",
      "execution_count": null,
      "outputs": []
    },
    {
      "cell_type": "code",
      "source": [
        "# the plotly functions we want reply on mapbox, which requires a mapbox token (free)\n",
        "# sign up to get a token here: https://docs.mapbox.com/accounts/guides/tokens/#default-public-access-token\n",
        "px.set_mapbox_access_token(\"pk.eyJ1IjoiZWpmNzgiLCJhIjoiY2t5eXBwaGdqMHVqdzJ2bzI2ajR1ZWZvaCJ9.NRT799fGBw6Bhf8M-AgEGg\")"
      ],
      "metadata": {
        "id": "wailkR6b2teU"
      },
      "id": "wailkR6b2teU",
      "execution_count": null,
      "outputs": []
    },
    {
      "cell_type": "code",
      "source": [
        "vsg"
      ],
      "metadata": {
        "id": "vB1UYg4x1RPb"
      },
      "id": "vB1UYg4x1RPb",
      "execution_count": null,
      "outputs": []
    },
    {
      "cell_type": "code",
      "source": [
        "### trying out a plot from the following: https://towardsdatascience.com/simple-plotly-tutorials-868bd0890b8b\n",
        "## isolating the data to use (single CSA and indicator)\n",
        "x = vsg[(vsg.indicator == \"aastud\") & (vsg.CSA == \"Canton\")]\n",
        "x.shape \n",
        "\n",
        "# set up plotly/geopandas figure \n",
        "fig = px.choropleth_mapbox(x, \n",
        "                           geojson = x.geometry,\n",
        "                           locations = 'CSA',\n",
        "                           color = 'value', \n",
        "                           animation_frame = 'year_numeric')\n",
        "fig.show()\n"
      ],
      "metadata": {
        "id": "eWPv0dUO0eka"
      },
      "id": "eWPv0dUO0eka",
      "execution_count": null,
      "outputs": []
    },
    {
      "cell_type": "code",
      "source": [
        "# things are wonky, I think because of the format of the geometry \n",
        "# from this answer: https://stackoverflow.com/questions/65507374/plotting-a-geopandas-dataframe-using-plotly\n",
        "\n",
        "import pyproj\n",
        "x2 = x.copy()\n",
        "x2.to_crs(pyproj.CRS.from_epsg(4326), inplace = True)"
      ],
      "metadata": {
        "id": "PfSsyCTr5MVD"
      },
      "id": "PfSsyCTr5MVD",
      "execution_count": null,
      "outputs": []
    },
    {
      "cell_type": "code",
      "source": [
        "fig = px.choropleth_mapbox(x2, \n",
        "                           geojson = x2.CSA,\n",
        "                           locations = 'CSA',\n",
        "                           color = 'value', \n",
        "                           animation_frame = 'year_numeric')\n",
        "fig.show()"
      ],
      "metadata": {
        "id": "TPgvpq4n1dYy"
      },
      "id": "TPgvpq4n1dYy",
      "execution_count": null,
      "outputs": []
    },
    {
      "cell_type": "code",
      "source": [
        "# the issue is that the geometry is not in the required format \n",
        "# convert geopandas shapely polygon to geojson: https://stackoverflow.com/questions/51486454/convert-geopandas-shapely-polygon-to-geojson\n",
        "# gjson = gpd.GeoSeries([vsg.geometry]).to_json() #nope, this will run through all availbale ram "
      ],
      "metadata": {
        "id": "rVK_n0N85iT_"
      },
      "id": "rVK_n0N85iT_",
      "execution_count": null,
      "outputs": []
    },
    {
      "cell_type": "code",
      "source": [
        "\n",
        "shapely.geometry.mapping(vsg.geometry)"
      ],
      "metadata": {
        "id": "VwrA3khJ8U-k"
      },
      "id": "VwrA3khJ8U-k",
      "execution_count": null,
      "outputs": []
    },
    {
      "cell_type": "code",
      "source": [
        ""
      ],
      "metadata": {
        "id": "rAL14W4lyt06"
      },
      "id": "rAL14W4lyt06",
      "execution_count": null,
      "outputs": []
    }
  ],
  "metadata": {
    "kernelspec": {
      "display_name": "Python 3 (ipykernel)",
      "language": "python",
      "name": "python3"
    },
    "language_info": {
      "codemirror_mode": {
        "name": "ipython",
        "version": 3
      },
      "file_extension": ".py",
      "mimetype": "text/x-python",
      "name": "python",
      "nbconvert_exporter": "python",
      "pygments_lexer": "ipython3",
      "version": "3.9.7"
    },
    "colab": {
      "name": "Vital Signs Analysis.ipynb",
      "provenance": [],
      "include_colab_link": true
    }
  },
  "nbformat": 4,
  "nbformat_minor": 5
}