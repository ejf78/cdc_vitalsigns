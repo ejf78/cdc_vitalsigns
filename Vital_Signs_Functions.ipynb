{
  "nbformat": 4,
  "nbformat_minor": 0,
  "metadata": {
    "colab": {
      "name": "Vital_Signs_Functions.ipynb",
      "provenance": [],
      "authorship_tag": "ABX9TyPVmK0hKtPFg89vGTcbE1VT",
      "include_colab_link": true
    },
    "kernelspec": {
      "name": "python3",
      "display_name": "Python 3"
    },
    "language_info": {
      "name": "python"
    }
  },
  "cells": [
    {
      "cell_type": "markdown",
      "metadata": {
        "id": "view-in-github",
        "colab_type": "text"
      },
      "source": [
        "<a href=\"https://colab.research.google.com/github/ejf78/cdc_vitalsigns/blob/master/Vital_Signs_Functions.ipynb\" target=\"_parent\"><img src=\"https://colab.research.google.com/assets/colab-badge.svg\" alt=\"Open In Colab\"/></a>"
      ]
    },
    {
      "cell_type": "markdown",
      "source": [
        "# About This Notebook\n",
        "\n",
        "This notebook contains functions for wrangling and visualizing BNIA's Baltimore vital sign indicators. The data has already been preprocessed to a standardized format. For more information, visit BNIA's [vital signs page](https://bniajfi.org/vital_signs/). "
      ],
      "metadata": {
        "id": "4eL7LIrXFgd5"
      }
    },
    {
      "cell_type": "markdown",
      "source": [
        "## Set Up"
      ],
      "metadata": {
        "id": "SiX39A3nHPmQ"
      }
    },
    {
      "cell_type": "code",
      "execution_count": 13,
      "metadata": {
        "colab": {
          "base_uri": "https://localhost:8080/"
        },
        "id": "yyejFoNGA1su",
        "outputId": "1e6f8f7e-64fc-4cbe-8a4c-4daf1d098bc7"
      },
      "outputs": [
        {
          "output_type": "stream",
          "name": "stdout",
          "text": [
            "Cloning into 'cdc_vitalsigns'...\n",
            "remote: Enumerating objects: 117, done.\u001b[K\n",
            "remote: Counting objects: 100% (117/117), done.\u001b[K\n",
            "remote: Compressing objects: 100% (101/101), done.\u001b[K\n",
            "remote: Total 117 (delta 51), reused 60 (delta 16), pack-reused 0\u001b[K\n",
            "Receiving objects: 100% (117/117), 50.71 MiB | 15.07 MiB/s, done.\n",
            "Resolving deltas: 100% (51/51), done.\n",
            "Checking out files: 100% (39/39), done.\n"
          ]
        }
      ],
      "source": [
        "# clone the github respository, so that we have all the necessary files \n",
        "!git clone https://github.com/ejf78/cdc_vitalsigns.git"
      ]
    },
    {
      "cell_type": "code",
      "source": [
        "# install geopandas in google colab \n",
        "!pip install geopandas"
      ],
      "metadata": {
        "colab": {
          "base_uri": "https://localhost:8080/"
        },
        "id": "EPPNtNKqHTe9",
        "outputId": "bed832a3-d3c4-4650-e182-affdaaad5453"
      },
      "execution_count": 8,
      "outputs": [
        {
          "output_type": "stream",
          "name": "stdout",
          "text": [
            "Requirement already satisfied: geopandas in /usr/local/lib/python3.7/dist-packages (0.10.2)\n",
            "Requirement already satisfied: pyproj>=2.2.0 in /usr/local/lib/python3.7/dist-packages (from geopandas) (3.2.1)\n",
            "Requirement already satisfied: fiona>=1.8 in /usr/local/lib/python3.7/dist-packages (from geopandas) (1.8.20)\n",
            "Requirement already satisfied: shapely>=1.6 in /usr/local/lib/python3.7/dist-packages (from geopandas) (1.8.0)\n",
            "Requirement already satisfied: pandas>=0.25.0 in /usr/local/lib/python3.7/dist-packages (from geopandas) (1.3.5)\n",
            "Requirement already satisfied: attrs>=17 in /usr/local/lib/python3.7/dist-packages (from fiona>=1.8->geopandas) (21.4.0)\n",
            "Requirement already satisfied: setuptools in /usr/local/lib/python3.7/dist-packages (from fiona>=1.8->geopandas) (57.4.0)\n",
            "Requirement already satisfied: munch in /usr/local/lib/python3.7/dist-packages (from fiona>=1.8->geopandas) (2.5.0)\n",
            "Requirement already satisfied: cligj>=0.5 in /usr/local/lib/python3.7/dist-packages (from fiona>=1.8->geopandas) (0.7.2)\n",
            "Requirement already satisfied: click-plugins>=1.0 in /usr/local/lib/python3.7/dist-packages (from fiona>=1.8->geopandas) (1.1.1)\n",
            "Requirement already satisfied: click>=4.0 in /usr/local/lib/python3.7/dist-packages (from fiona>=1.8->geopandas) (7.1.2)\n",
            "Requirement already satisfied: six>=1.7 in /usr/local/lib/python3.7/dist-packages (from fiona>=1.8->geopandas) (1.15.0)\n",
            "Requirement already satisfied: certifi in /usr/local/lib/python3.7/dist-packages (from fiona>=1.8->geopandas) (2021.10.8)\n",
            "Requirement already satisfied: numpy>=1.17.3 in /usr/local/lib/python3.7/dist-packages (from pandas>=0.25.0->geopandas) (1.19.5)\n",
            "Requirement already satisfied: python-dateutil>=2.7.3 in /usr/local/lib/python3.7/dist-packages (from pandas>=0.25.0->geopandas) (2.8.2)\n",
            "Requirement already satisfied: pytz>=2017.3 in /usr/local/lib/python3.7/dist-packages (from pandas>=0.25.0->geopandas) (2018.9)\n"
          ]
        }
      ]
    },
    {
      "cell_type": "code",
      "source": [
        "# load packages\n",
        "import pandas as pd\n",
        "import numpy as np\n",
        "import os # for navigating directories\n",
        "#import requests # for API pull \n",
        "import geopandas as gpd\n",
        "#from geopandas import GeoDataFrame\n",
        "import matplotlib.pyplot as plt\n",
        "import math # for ceil function (round up)\n",
        "import imageio # for animation \n",
        "from IPython.display import Image # for displaying gifs\n"
      ],
      "metadata": {
        "id": "cg7g_mRpHVW8"
      },
      "execution_count": 9,
      "outputs": []
    },
    {
      "cell_type": "code",
      "source": [
        "# navigate into the directory\n",
        "os.chdir(\"cdc_vitalsigns\")"
      ],
      "metadata": {
        "id": "agwEpnbmHidM"
      },
      "execution_count": 14,
      "outputs": []
    },
    {
      "cell_type": "code",
      "source": [
        "## read vital signs data \n",
        "# vital signs (with geometry)\n",
        "vs = pd.read_csv(\"full_vital_signs.csv\")\n",
        "# indicator info \n",
        "info = pd.read_csv(\"indicator_info.csv\")"
      ],
      "metadata": {
        "id": "5bK5Aut9Hnav"
      },
      "execution_count": 21,
      "outputs": []
    },
    {
      "cell_type": "code",
      "source": [
        "## read geometry data (for mapping in geopandas)\n",
        "# read geojson (test)\n",
        "csa_geo = gpd.read_file(\"csa_geometry.geojson\")[[\"CSA2010\", \"geometry\"]]\n",
        "# correct CSA names to align with vs dataframe\n",
        "csa_geo = csa_geo.rename(columns = {\"CSA2010\":\"CSA\"})\n",
        "# read geojson for Baltimore City \n",
        "baltimore_geo = gpd.read_file(\"example_vs.geojson\")[[\"City\", \"geometry\"]]\n",
        "baltimore_geo = baltimore_geo.rename(columns = {\"City\":\"CSA\"})\n",
        "# combine into one geometry dataframe \n",
        "geo = csa_geo.append(baltimore_geo)"
      ],
      "metadata": {
        "id": "OxRxIs4lKefB"
      },
      "execution_count": 43,
      "outputs": []
    },
    {
      "cell_type": "code",
      "source": [
        "## combine data\n",
        "# add geometry to vital sign data\n",
        "vsg = vs.merge(geo, how = \"left\")\n",
        "# add indicator description, where available \n",
        "vsg = vsg.merge(info[[\"indicator\", \"indicator_description\"]], how = \"left\")\n",
        "# turn into a geodataframe\n",
        "vsg = gpd.GeoDataFrame(vsg)\n",
        "vsg.head()"
      ],
      "metadata": {
        "id": "DTfHibYKLp1Y",
        "outputId": "73e8a6a6-81e4-420b-959d-e6dac1d96be8",
        "colab": {
          "base_uri": "https://localhost:8080/",
          "height": 206
        }
      },
      "execution_count": 50,
      "outputs": [
        {
          "output_type": "execute_result",
          "data": {
            "text/html": [
              "\n",
              "  <div id=\"df-b95c3dcb-bef4-4610-9cce-38e659218cc1\">\n",
              "    <div class=\"colab-df-container\">\n",
              "      <div>\n",
              "<style scoped>\n",
              "    .dataframe tbody tr th:only-of-type {\n",
              "        vertical-align: middle;\n",
              "    }\n",
              "\n",
              "    .dataframe tbody tr th {\n",
              "        vertical-align: top;\n",
              "    }\n",
              "\n",
              "    .dataframe thead th {\n",
              "        text-align: right;\n",
              "    }\n",
              "</style>\n",
              "<table border=\"1\" class=\"dataframe\">\n",
              "  <thead>\n",
              "    <tr style=\"text-align: right;\">\n",
              "      <th></th>\n",
              "      <th>CSA</th>\n",
              "      <th>indicator</th>\n",
              "      <th>year</th>\n",
              "      <th>value</th>\n",
              "      <th>year_numeric</th>\n",
              "      <th>geometry</th>\n",
              "      <th>indicator_description</th>\n",
              "    </tr>\n",
              "  </thead>\n",
              "  <tbody>\n",
              "    <tr>\n",
              "      <th>0</th>\n",
              "      <td>Allendale/Irvington/S. Hilton</td>\n",
              "      <td>female</td>\n",
              "      <td>2000</td>\n",
              "      <td>10640.0</td>\n",
              "      <td>2000.0</td>\n",
              "      <td>POLYGON ((-76.65726 39.27600, -76.65726 39.276...</td>\n",
              "      <td>Total Female Population</td>\n",
              "    </tr>\n",
              "    <tr>\n",
              "      <th>1</th>\n",
              "      <td>Beechfield/Ten Hills/West Hills</td>\n",
              "      <td>female</td>\n",
              "      <td>2000</td>\n",
              "      <td>7110.0</td>\n",
              "      <td>2000.0</td>\n",
              "      <td>POLYGON ((-76.69479 39.30201, -76.69465 39.301...</td>\n",
              "      <td>Total Female Population</td>\n",
              "    </tr>\n",
              "    <tr>\n",
              "      <th>2</th>\n",
              "      <td>Belair-Edison</td>\n",
              "      <td>female</td>\n",
              "      <td>2000</td>\n",
              "      <td>9516.0</td>\n",
              "      <td>2000.0</td>\n",
              "      <td>POLYGON ((-76.56761 39.32636, -76.56746 39.326...</td>\n",
              "      <td>Total Female Population</td>\n",
              "    </tr>\n",
              "    <tr>\n",
              "      <th>3</th>\n",
              "      <td>Brooklyn/Curtis Bay/Hawkins Point</td>\n",
              "      <td>female</td>\n",
              "      <td>2000</td>\n",
              "      <td>6972.0</td>\n",
              "      <td>2000.0</td>\n",
              "      <td>MULTIPOLYGON (((-76.58867 39.21283, -76.58824 ...</td>\n",
              "      <td>Total Female Population</td>\n",
              "    </tr>\n",
              "    <tr>\n",
              "      <th>4</th>\n",
              "      <td>Canton</td>\n",
              "      <td>female</td>\n",
              "      <td>2000</td>\n",
              "      <td>3546.0</td>\n",
              "      <td>2000.0</td>\n",
              "      <td>POLYGON ((-76.57140 39.28441, -76.57138 39.284...</td>\n",
              "      <td>Total Female Population</td>\n",
              "    </tr>\n",
              "  </tbody>\n",
              "</table>\n",
              "</div>\n",
              "      <button class=\"colab-df-convert\" onclick=\"convertToInteractive('df-b95c3dcb-bef4-4610-9cce-38e659218cc1')\"\n",
              "              title=\"Convert this dataframe to an interactive table.\"\n",
              "              style=\"display:none;\">\n",
              "        \n",
              "  <svg xmlns=\"http://www.w3.org/2000/svg\" height=\"24px\"viewBox=\"0 0 24 24\"\n",
              "       width=\"24px\">\n",
              "    <path d=\"M0 0h24v24H0V0z\" fill=\"none\"/>\n",
              "    <path d=\"M18.56 5.44l.94 2.06.94-2.06 2.06-.94-2.06-.94-.94-2.06-.94 2.06-2.06.94zm-11 1L8.5 8.5l.94-2.06 2.06-.94-2.06-.94L8.5 2.5l-.94 2.06-2.06.94zm10 10l.94 2.06.94-2.06 2.06-.94-2.06-.94-.94-2.06-.94 2.06-2.06.94z\"/><path d=\"M17.41 7.96l-1.37-1.37c-.4-.4-.92-.59-1.43-.59-.52 0-1.04.2-1.43.59L10.3 9.45l-7.72 7.72c-.78.78-.78 2.05 0 2.83L4 21.41c.39.39.9.59 1.41.59.51 0 1.02-.2 1.41-.59l7.78-7.78 2.81-2.81c.8-.78.8-2.07 0-2.86zM5.41 20L4 18.59l7.72-7.72 1.47 1.35L5.41 20z\"/>\n",
              "  </svg>\n",
              "      </button>\n",
              "      \n",
              "  <style>\n",
              "    .colab-df-container {\n",
              "      display:flex;\n",
              "      flex-wrap:wrap;\n",
              "      gap: 12px;\n",
              "    }\n",
              "\n",
              "    .colab-df-convert {\n",
              "      background-color: #E8F0FE;\n",
              "      border: none;\n",
              "      border-radius: 50%;\n",
              "      cursor: pointer;\n",
              "      display: none;\n",
              "      fill: #1967D2;\n",
              "      height: 32px;\n",
              "      padding: 0 0 0 0;\n",
              "      width: 32px;\n",
              "    }\n",
              "\n",
              "    .colab-df-convert:hover {\n",
              "      background-color: #E2EBFA;\n",
              "      box-shadow: 0px 1px 2px rgba(60, 64, 67, 0.3), 0px 1px 3px 1px rgba(60, 64, 67, 0.15);\n",
              "      fill: #174EA6;\n",
              "    }\n",
              "\n",
              "    [theme=dark] .colab-df-convert {\n",
              "      background-color: #3B4455;\n",
              "      fill: #D2E3FC;\n",
              "    }\n",
              "\n",
              "    [theme=dark] .colab-df-convert:hover {\n",
              "      background-color: #434B5C;\n",
              "      box-shadow: 0px 1px 3px 1px rgba(0, 0, 0, 0.15);\n",
              "      filter: drop-shadow(0px 1px 2px rgba(0, 0, 0, 0.3));\n",
              "      fill: #FFFFFF;\n",
              "    }\n",
              "  </style>\n",
              "\n",
              "      <script>\n",
              "        const buttonEl =\n",
              "          document.querySelector('#df-b95c3dcb-bef4-4610-9cce-38e659218cc1 button.colab-df-convert');\n",
              "        buttonEl.style.display =\n",
              "          google.colab.kernel.accessAllowed ? 'block' : 'none';\n",
              "\n",
              "        async function convertToInteractive(key) {\n",
              "          const element = document.querySelector('#df-b95c3dcb-bef4-4610-9cce-38e659218cc1');\n",
              "          const dataTable =\n",
              "            await google.colab.kernel.invokeFunction('convertToInteractive',\n",
              "                                                     [key], {});\n",
              "          if (!dataTable) return;\n",
              "\n",
              "          const docLinkHtml = 'Like what you see? Visit the ' +\n",
              "            '<a target=\"_blank\" href=https://colab.research.google.com/notebooks/data_table.ipynb>data table notebook</a>'\n",
              "            + ' to learn more about interactive tables.';\n",
              "          element.innerHTML = '';\n",
              "          dataTable['output_type'] = 'display_data';\n",
              "          await google.colab.output.renderOutput(dataTable, element);\n",
              "          const docLink = document.createElement('div');\n",
              "          docLink.innerHTML = docLinkHtml;\n",
              "          element.appendChild(docLink);\n",
              "        }\n",
              "      </script>\n",
              "    </div>\n",
              "  </div>\n",
              "  "
            ],
            "text/plain": [
              "                                 CSA  ...    indicator_description\n",
              "0      Allendale/Irvington/S. Hilton  ...  Total Female Population\n",
              "1    Beechfield/Ten Hills/West Hills  ...  Total Female Population\n",
              "2                      Belair-Edison  ...  Total Female Population\n",
              "3  Brooklyn/Curtis Bay/Hawkins Point  ...  Total Female Population\n",
              "4                             Canton  ...  Total Female Population\n",
              "\n",
              "[5 rows x 7 columns]"
            ]
          },
          "metadata": {},
          "execution_count": 50
        }
      ]
    },
    {
      "cell_type": "code",
      "source": [
        "# view CSAs that are not geocoded\n",
        "no_geometry = vsg[vsg.geometry.isna()]\n",
        "set(no_geometry.CSA)\n",
        "# These are the neighborhoods whose CSA boundaries changed in 2010"
      ],
      "metadata": {
        "id": "dIIXtM3hOAFs",
        "outputId": "91e19fb9-ce03-4c77-c8f5-c2c59024f35f",
        "colab": {
          "base_uri": "https://localhost:8080/"
        }
      },
      "execution_count": 51,
      "outputs": [
        {
          "output_type": "execute_result",
          "data": {
            "text/plain": [
              "{'Jonestown/Oldtown',\n",
              " 'Medfield/Hampden/Woodberry',\n",
              " 'Perkins/Middle East',\n",
              " 'Washington Village'}"
            ]
          },
          "metadata": {},
          "execution_count": 51
        }
      ]
    },
    {
      "cell_type": "markdown",
      "source": [
        "## Functions"
      ],
      "metadata": {
        "id": "UxYfTOE4Tqq4"
      }
    },
    {
      "cell_type": "markdown",
      "source": [
        "### Data Wrangling Functions"
      ],
      "metadata": {
        "id": "LHUxxctrTs3a"
      }
    },
    {
      "cell_type": "code",
      "source": [
        "### Generic function to subset a dataframe \n",
        "# written with vital signs in mind, but flexible to use for other datasets \n",
        "def subset_dataframe(dataframe, columns, subset_vals,\n",
        "                     condition_parameters = [\" == \"]): \n",
        "  '''\n",
        "  Returns a subsetted dataframe\n",
        "  *** \n",
        "  dataframe: a dataframe object (pandas or geopandas)\n",
        "  columns: a list of columns (as strings) by which you'd like to subset the data \n",
        "  subset_val: a list of values by which to subset the data. The order must correspond to the order of the columns. \n",
        "  condition_parameters: a list of strings indicating the query relationship. MUST BE A LIST, even if it only contains one value. \n",
        "    Default will look for an exact match (==) for each column/subset value\n",
        "    You may provide a list of parameters equal to the number of columns by which you're subsetting, \n",
        "    or you can provide a single parameter to apply to each column. \n",
        "    If using greater than or less than, the corresponding value must be numeric (both in the dataset and in the subset_vals list)\n",
        "    example 1: condition_parameters = [\"==\",\">\", \"==\"] will query for an exact match for the first and third columns provided, and a greater than match for the second column. \n",
        "    example 2: condition_parameters = [\">=\"] will query for a 'greater-than or equal to' match for every column\n",
        "\n",
        "  The list of columns and the list of subset values must be the same length \n",
        "\n",
        "  The function works by constructing a string of filter conditions, and feeding it into panda's query function\n",
        "  '''\n",
        "  # create a list of condition parameters, if a single parameter (or no parameter) is provided\n",
        "    # default is ' == '\n",
        "  if len(condition_parameters) == 1: \n",
        "    condition_parameters = condition_parameters * len(columns)\n",
        "  # empty string to hold the conditions\n",
        "  condition = ''\n",
        "  # loop to add conditions\n",
        "  for i in range(0,len(columns)):\n",
        "    if type(subset_vals[i]) == int or type(subset_vals[i])  == float:\n",
        "      subset_val_string = str(subset_vals[i])\n",
        "    elif type(subset_vals[i]) == list:   # if provided a list of exact values to filter for (such as multiple CSAs)\n",
        "      subset_val_string = str(subset_vals[i])\n",
        "    else: \n",
        "      subset_val_string = \"'\" + subset_vals[i] + \"'\" # add single quotes if it's not a numeric variable \n",
        "    condition = condition + \" & \" + columns[i] + condition_parameters[i] + subset_val_string\n",
        "  # remove the first 3 characters in the condition (space & space)\n",
        "  condition = condition[3:]\n",
        "  #return condition # use this line for testing\n",
        "  return dataframe.query(condition)"
      ],
      "metadata": {
        "id": "myq_4KcILMiq"
      },
      "execution_count": 52,
      "outputs": []
    },
    {
      "cell_type": "code",
      "source": [
        "### Subset VSG data \n",
        "# a simpler subset function, only to be used for the vital signs geometry data\n",
        "def subset_vsg(indicator = None,\n",
        "               CSA = None,\n",
        "               CSA_contains = None,\n",
        "               CSA_list = None, \n",
        "               year_after = 1900, \n",
        "               year_before = 2100):\n",
        "  '''\n",
        "  Returns a subset of the VSG dataframe (vital signs with geometry)\n",
        "  Gives the option to subset by a single CSA, multiple CSAs, or a specific string of text in the CSA column\n",
        "  You should only ever use one of the three CSA parameters (CSA, CSA_contains, or CSA_list)\n",
        "  ***\n",
        "  indicator: string value for the indicator of interest. Only takes 1 indicator at a time \n",
        "  CSA: string value for a single CSA to subset for. Must be exact name as it appears in the data\n",
        "  CSA_list: list of string values for CSAs to subset for. \n",
        "  CSA_contains: a string value to filter the CSA column by. For example, \"Middle East\" will return both \"Perkins/Middle East and \"Oldtown/Middle East\"\n",
        "  '''\n",
        "  subset = vsg[(vsg.year_numeric >= year_after) & (vsg.year_numeric <= year_before)]\n",
        "  if indicator is not None:\n",
        "    subset = subset[subset.indicator == indicator]\n",
        "  if CSA is not None: \n",
        "    subset = subset[subset.CSA == CSA]\n",
        "  if CSA_contains is not None: \n",
        "    subset = subset[subset.CSA.str.contains(CSA_contains)]\n",
        "  if CSA_list is not None: \n",
        "    subset = subset[subset.CSA.isin(CSA_list)]\n",
        "  return subset\n"
      ],
      "metadata": {
        "id": "wLJg0hSPUEUy"
      },
      "execution_count": 62,
      "outputs": []
    },
    {
      "cell_type": "code",
      "source": [
        "### some examples: \n",
        "# subset_vsg(indicator = \"female\")\n",
        "# subset_vsg(indicator = \"paa\", CSA_list =[\"Upton/Druid Heights\",\"Southwest Baltimore\"])\n",
        "# subset_vsg(indicator = \"aastud\", year_after = 2008, year_before = 2018, CSA_contains = \"Middle East\")"
      ],
      "metadata": {
        "id": "LjlxHxMYUNwS"
      },
      "execution_count": null,
      "outputs": []
    },
    {
      "cell_type": "markdown",
      "source": [
        "### Visualization Functions\n"
      ],
      "metadata": {
        "id": "vybeIhN1ZcG7"
      }
    },
    {
      "cell_type": "code",
      "source": [
        "#### function to define right number of rows and columns for matplotlib subplots based on the number of datapoints available \n",
        "def subplot_dims(data_len):\n",
        "  '''\n",
        "  Given the length of data, returns the best option for dimensions (rows, columns)\n",
        "  For use within other functions\n",
        "  '''\n",
        "  # if you have 5 or fewer plots, make it one row \n",
        "  if data_len <= 5:\n",
        "    return 1, data_len\n",
        "  ## determine best dimensions (try 4, then 5, then 3)\n",
        "  if data_len%4 == 0: \n",
        "    return int(data_len/4), 4\n",
        "  elif data_len%5 == 0:\n",
        "    return int(data_len/5), 5\n",
        "  elif data_len%3 == 0:\n",
        "    return int(data_len/3), 3\n",
        "  # but if none of that worked, choose the option with the lowest remained\n",
        "  else: \n",
        "    # choose the number of columns with max remainder (we want the fewest empty graphs)\n",
        "    remainders = [data_len%n for n in range(3, 7)] # allow up to 6 columns, with a minimum of 3 columns\n",
        "    cols = int(remainders.index(max(remainders)) + 3) # index starts at 0, so we need to add three to get the desired number of columns\n",
        "    rows = int(math.ceil(data_len / cols)) # round up to get the number of rows \n",
        "  return rows, cols"
      ],
      "metadata": {
        "id": "vU_eY_CRZbWP"
      },
      "execution_count": 102,
      "outputs": []
    },
    {
      "cell_type": "code",
      "source": [
        "#### function to plot a single neighborhood for a single indicator over time (static plots)\n",
        "\n",
        "def plot_neighborhood_static(dat, figsize = (4,5), title_font_size = 14, cmap = None, \n",
        "                             legend_orientation = \"vertical\",\n",
        "                             manual_title_adjustment = 0.0,\n",
        "                             title_text = None,\n",
        "                             include_Baltimore_City = False):\n",
        "  '''\n",
        "  Returns a figure with several subplots, showing how an indicator has changed in a given neighborhood over time \n",
        "  ***\n",
        "  dat: a geodataframe, subsetted to the desired neighborhood(s), indicator, and year(s)\n",
        "  figsize: size of overall figure (tuple)\n",
        "  title_font_size: how large the font should be (fontsize)\n",
        "  cmap: color map for choropleth (set to default of None)\n",
        "  legend_orientation: 'vertical' or 'horizontal'\n",
        "  manual_title_adjustment: a float, representing how much to adjust the title. Can be negative or positive. \n",
        "  '''\n",
        "\n",
        "  # error handling: this viz is set up for 1 indicator at a time. Stop if more than one indicator is in the data\n",
        "  if len(set(dat.indicator)) > 1:\n",
        "    return \"Error: data contains more than one indicator. Please subset the data and try again.\"\n",
        "\n",
        "  # remove Baltimore City from the data (since we are plotting individual CSAs) unless otherwise specified \n",
        "  if include_Baltimore_City: \n",
        "    pass \n",
        "  else:\n",
        "    dat = dat[dat.CSA != \"Baltimore City\"]\n",
        "\n",
        "  # get a list of years available, and make sure it's sorted\n",
        "  yrs = [y for y in set(dat.year)]\n",
        "  yrs.sort()\n",
        "  # get the name of the csa(s), the indicator, and the indicator_description\n",
        "  csa_s = [csa for csa in set(dat.CSA)]\n",
        "  indicator = dat.indicator.iloc[0]\n",
        "  ind_desc = dat.indicator_description.iloc[0]\n",
        "  # figure out the dimensions of the figure subplots based on the number of years available\n",
        "  rows, cols = subplot_dims(len(yrs))\n",
        "\n",
        "  # set up the figure \n",
        "  fig, ax = plt.subplots(rows, cols, sharex = True, sharey = True, figsize = figsize)\n",
        "  # set up title\n",
        "  if(title_text is None):\n",
        "    csa_title = \", \\n\".join(csa_s)\n",
        "    figure_title = csa_title + \"\\n\" + ind_desc\n",
        "    fig.suptitle(figure_title, fontsize = title_font_size, y = (1 + manual_title_adjustment))\n",
        "  # or use the manually added title \n",
        "  else: \n",
        "    fig.suptitle(title_text, fontsize = title_font_size, y = (1 + manual_title_adjustment))\n",
        "  # set up min and max values to anchor the choropleth, so legend is consistent\n",
        "  anchor_min = dat.value.min()\n",
        "  anchor_max = dat.value.max()\n",
        "\n",
        "  # loop to create plot \n",
        "  # set starting year index (which year to grab from the list of years)\n",
        "  yr_i = 0\n",
        "  # go row by row \n",
        "  for r in range(0, rows): # r is the row index (0 base)\n",
        "    # column by column\n",
        "    for c in range(0, cols):\n",
        "      # leave blank if we ran out of data\n",
        "      if yr_i >= len(yrs):\n",
        "        ax[r, c].axis('off')\n",
        "      else:\n",
        "        # get data \n",
        "        mapdat = dat[dat.year == yrs[yr_i]]\n",
        "        # plot (with some error handling, if there's only 1 row)\n",
        "        if rows == 1:\n",
        "          mapdat.plot(\"value\", ax = ax[c], vmin = anchor_min, vmax = anchor_max, cmap = cmap)\n",
        "          ax[c].set_axis_off()\n",
        "          ax[c].set_title(yrs[yr_i]) # title is year \n",
        "        else: \n",
        "          mapdat.plot(\"value\", ax = ax[r,c], vmin = anchor_min, vmax = anchor_max, cmap = cmap)\n",
        "          ax[r,c].set_axis_off()\n",
        "          ax[r,c].set_title(yrs[yr_i]) # title is year \n",
        "        # move to the next year (by increasing the year index by 1)\n",
        "        yr_i += 1\n",
        "      \n",
        "\n",
        "  ## overall figure aesthetics \n",
        "  # set legend\n",
        "  if rows == 1: \n",
        "    patch_col = ax[0].collections[0]\n",
        "  else: \n",
        "    patch_col = ax[0,0].collections[0]\n",
        "  fig.colorbar(patch_col, ax = ax, shrink = 0.8, orientation = legend_orientation)\n",
        "\n",
        "  return fig.show()"
      ],
      "metadata": {
        "id": "VdYmAYKKZuMN"
      },
      "execution_count": 88,
      "outputs": []
    },
    {
      "cell_type": "markdown",
      "source": [
        "Some examples: \n",
        "\n",
        "\n",
        "\n",
        "```\n",
        "## error example\n",
        "plot_neighborhood_static(vsg) # will throw an error, because it contains multiple  \n",
        "\n",
        "\n",
        "## example 1: full city, custom title, custom figure size \n",
        "ex1 = subset_vsg(\"aastud\")\n",
        "plot_neighborhood_static(ex1, title_text = \"Baltimore - AASTUD\", figsize = (8,8))\n",
        "\n",
        "\n",
        "## example 2: single CSA, subset by year, manually adjust title \n",
        "ex2 = subset_vsg(\"aastud\", CSA = \"Southwest Baltimore\", year_after = 2010)\n",
        "plot_neighborhood_static(ex2, figsize = (8, 4), manual_title_adjustment = -0.05) # move the title a little farther down \n",
        "\n",
        "\n",
        "## example 3: multiple CSAs, change legend orientation, change color map\n",
        "csas = ['Beechfield/Ten Hills/West Hills','Allendale/Irvington/S. Hilton','Edmondson Village']\n",
        "ex3 = subset_vsg(\"paa\", CSA_list = csas, year_after = 2010)\n",
        "plot_neighborhood_static(ex3, figsize = (8,5.5), legend_orientation = \"horizontal\", cmap = \"summer\", manual_title_adjustment = 0.05)\n",
        "```\n",
        "\n"
      ],
      "metadata": {
        "id": "jSBzbe73faVi"
      }
    },
    {
      "cell_type": "code",
      "source": [
        "#### function to create a line plot for an indicator for one or more CSAs \n",
        "def selected_line_plot(csas, indicator, color_list = None, figsize = (5,5),\n",
        "                       legend_loc = \"best\", \n",
        "                       year_before = 2100,\n",
        "                       year_after = 1900):\n",
        "  '''\n",
        "  Takes a list of CSAs, an indicator, and a few other custom specifications to create a line plot\n",
        "  ***\n",
        "  csas: list of CSA names as they appear in the data \n",
        "  indicator: string, indicator to plot. Can only plot one indicator at a time \n",
        "  color_list: list of color names (must be the same length as the number of CSAs)\n",
        "  figsize: tuple, set size of figure\n",
        "  legend_loc: string, allows you to specify where to place the legend (more info: https://matplotlib.org/stable/api/_as_gen/matplotlib.pyplot.legend.html)\n",
        "  year_before: numeric, filter to before this year \n",
        "  year_after: numeric, filter to after this year \n",
        "  '''\n",
        "  # get data \n",
        "  linpltdat = subset_vsg(indicator = indicator, CSA_list = csas)\n",
        "  linpltdat = linpltdat[linpltdat.year_numeric.notna()]\n",
        "  linpltdat = linpltdat[(linpltdat.year_numeric >= year_after) & (linpltdat.year_numeric <= year_before)]\n",
        "  # grab indicator description \n",
        "  ind_desc = linpltdat.indicator_description.iloc[0]\n",
        "  # plot (no specified colors)\n",
        "  if color_list == None:\n",
        "    for csa in csas:\n",
        "      lindat = linpltdat[linpltdat.CSA == csa] \n",
        "      plt.plot(lindat.year_numeric, lindat.value, label = csa)\n",
        "  # plot (specified colors [must be same length as number of CSAs])\n",
        "  else: \n",
        "    for i in range(0, len(csas)):\n",
        "      lindat = linpltdat[linpltdat.CSA == csas[i]]\n",
        "      plt.plot(lindat.year_numeric, lindat.value, label = csas[i], color = color_list[i])\n",
        "\n",
        "  # aesthetics \n",
        "  plt.legend(loc = legend_loc)\n",
        "  plt.title(ind_desc)\n",
        "  xticks = list(set(linpltdat.year_numeric))\n",
        "  plt.xticks(xticks)\n",
        "  plt.rcParams[\"figure.figsize\"] = figsize\n",
        "  plt.show()"
      ],
      "metadata": {
        "id": "2bg9fW2se_lb"
      },
      "execution_count": 107,
      "outputs": []
    },
    {
      "cell_type": "markdown",
      "source": [
        "Some examples:\n",
        "\n",
        "\n",
        "\n",
        "```\n",
        "# Example 1: \n",
        "csas = ['Beechfield/Ten Hills/West Hills','Allendale/Irvington/S. Hilton','Edmondson Village'] # according to BNIA map, these are next to each other \n",
        "selected_line_plot(csas, \"gunhom\", legend_loc = \"upper right\")\n",
        "\n",
        "# Example 2: same as example 1, but change the colors\n",
        "selected_line_plot(csas, \"gunhom\", color_list = [\"teal\",\"yellowgreen\",\"cornflowerblue\"])\n",
        "\n",
        "# Example 3: subset by year \n",
        "selected_line_plot(['Harford/Echodale','Hamilton','Lauraville'],\"unempl\", year_after = 2010)\n",
        "\n",
        "# Example of a poor visualization: missing years of data causes issues \n",
        "selected_line_plot(['Harford/Echodale','Hamilton','Lauraville'],\"unempl\") \n",
        "```\n",
        "\n"
      ],
      "metadata": {
        "id": "Xz-IEpHzhzW1"
      }
    },
    {
      "cell_type": "code",
      "source": [
        "#### highlight line plot \n",
        "\n",
        "def highlight_line_plot(indicator,csa_of_interest, year_before = 2050, year_after = 1990,\n",
        "                        figsize = (5,5), highlight_color = \"orange\",\n",
        "                        legend_loc = \"best\", \n",
        "                        alpha = 0.25):\n",
        "  '''\n",
        "  Function to create a line plot with one highlighted line of interest \n",
        "  ***\n",
        "  indicator: the shortname of the indicator of interest\n",
        "  csa_of_interest: the CSA to be highlighted \n",
        "  year_before: filter to all years less than or equal to this year  (2050 as a placeholder)\n",
        "  year_after: filter to all years greater than or equal to this year (1990 as a placeholder)\n",
        "  figsize: dimensions of the figure \n",
        "  highlight_color: color of the line of interest \n",
        "  legened_loc: location of the legend \n",
        "  alpha: transparency level of the grey lines (default is 0.25)\n",
        "  '''\n",
        "  linpltdat = subset_vsg(indicator = indicator)\n",
        "  # filter out NA values, filter to desired time frame \n",
        "  linpltdat = linpltdat[linpltdat.year_numeric.notna()]\n",
        "  linpltdat = linpltdat[(linpltdat.year_numeric >= year_after) & (linpltdat.year_numeric <= year_before)]\n",
        "  # grab indicator description \n",
        "  ind_desc = linpltdat.indicator_description.iloc[0]\n",
        "\n",
        "  # plot line of interest\n",
        "  csadat = linpltdat[linpltdat.CSA == csa_of_interest]\n",
        "  plt.plot(csadat.year_numeric, csadat.value, label = csa_of_interest, color = highlight_color,\n",
        "           linewidth = 2)\n",
        "\n",
        "  ## plot all other lines\n",
        "  # get list of all other CSAs\n",
        "  other_csas = set(linpltdat.CSA)\n",
        "  other_csas.remove(csa_of_interest)\n",
        "  # loop through other csas\n",
        "  for csa in other_csas: \n",
        "    lindat = linpltdat[linpltdat.CSA == csa] \n",
        "    plt.plot(lindat.year_numeric, lindat.value, label = None, \n",
        "             color = \"grey\", alpha = alpha, linewidth = 1) # grey out aesthetics\n",
        "\n",
        "  # aesthetics \n",
        "  plt.legend(loc = legend_loc)\n",
        "  title_text = ind_desc + \"\\n\" + csa_of_interest + \" vs. other CSAs\"\n",
        "  plt.title(title_text)\n",
        "  xticks = list(set(linpltdat.year_numeric))\n",
        "  plt.xticks(xticks)\n",
        "  plt.rcParams[\"figure.figsize\"] = figsize\n",
        "  plt.show()"
      ],
      "metadata": {
        "id": "KUbA6f40hu9Z"
      },
      "execution_count": 120,
      "outputs": []
    },
    {
      "cell_type": "code",
      "source": [
        "highlight_line_plot(\"paa\", \"Fells Point\", year_after = 2015,\n",
        "                    figsize = (8, 4), legend_loc = \"upper right\")"
      ],
      "metadata": {
        "id": "LDLvzs4UidXH",
        "outputId": "3bf8ed82-0a73-475a-cfa6-8609b36ba0fd",
        "colab": {
          "base_uri": "https://localhost:8080/",
          "height": 351
        }
      },
      "execution_count": 121,
      "outputs": [
        {
          "output_type": "display_data",
          "data": {
            "image/png": "[encoded data removed]",
            "text/plain": [
              "<Figure size 360x360 with 1 Axes>"
            ]
          },
          "metadata": {
            "needs_background": "light"
          }
        }
      ]
    },
    {
      "cell_type": "markdown",
      "source": [
        "To do: add the final gif function"
      ],
      "metadata": {
        "id": "zq_ql1F7jygo"
      }
    },
    {
      "cell_type": "code",
      "source": [
        ""
      ],
      "metadata": {
        "id": "8IydF9DejVAn"
      },
      "execution_count": null,
      "outputs": []
    }
  ]
}