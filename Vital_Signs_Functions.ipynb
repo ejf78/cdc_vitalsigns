{
  "nbformat": 4,
  "nbformat_minor": 0,
  "metadata": {
    "colab": {
      "name": "Vital_Signs_Functions.ipynb",
      "provenance": [],
      "authorship_tag": "ABX9TyPH5G6SrfVIxiMXVCUIKxn5",
      "include_colab_link": true
    },
    "kernelspec": {
      "name": "python3",
      "display_name": "Python 3"
    },
    "language_info": {
      "name": "python"
    }
  },
  "cells": [
    {
      "cell_type": "markdown",
      "metadata": {
        "id": "view-in-github",
        "colab_type": "text"
      },
      "source": [
        "<a href=\"https://colab.research.google.com/github/ejf78/cdc_vitalsigns/blob/master/Vital_Signs_Functions.ipynb\" target=\"_parent\"><img src=\"https://colab.research.google.com/assets/colab-badge.svg\" alt=\"Open In Colab\"/></a>"
      ]
    },
    {
      "cell_type": "markdown",
      "source": [
        "# About This Notebook\n",
        "\n",
        "This notebook contains functions for wrangling and visualizing BNIA's Baltimore vital sign indicators. The data has already been preprocessed to a standardized format. For more information, visit BNIA's [vital signs page](https://bniajfi.org/vital_signs/). "
      ],
      "metadata": {
        "id": "4eL7LIrXFgd5"
      }
    },
    {
      "cell_type": "markdown",
      "source": [
        "## Set Up"
      ],
      "metadata": {
        "id": "SiX39A3nHPmQ"
      }
    },
    {
      "cell_type": "code",
      "execution_count": 1,
      "metadata": {
        "colab": {
          "base_uri": "https://localhost:8080/"
        },
        "id": "yyejFoNGA1su",
        "outputId": "8b22391c-4439-4388-93ae-026ef843b5af"
      },
      "outputs": [
        {
          "output_type": "stream",
          "name": "stdout",
          "text": [
            "Cloning into 'cdc_vitalsigns'...\n",
            "remote: Enumerating objects: 106, done.\u001b[K\n",
            "remote: Counting objects: 100% (106/106), done.\u001b[K\n",
            "remote: Compressing objects: 100% (93/93), done.\u001b[K\n",
            "remote: Total 106 (delta 46), reused 52 (delta 13), pack-reused 0\u001b[K\n",
            "Receiving objects: 100% (106/106), 50.10 MiB | 13.91 MiB/s, done.\n",
            "Resolving deltas: 100% (46/46), done.\n",
            "Checking out files: 100% (36/36), done.\n"
          ]
        }
      ],
      "source": [
        "# clone the github respository, so that we have all the necessary files \n",
        "!git clone https://github.com/ejf78/cdc_vitalsigns.git"
      ]
    },
    {
      "cell_type": "code",
      "source": [
        "# install geopandas in google colab \n",
        "!pip install geopandas"
      ],
      "metadata": {
        "colab": {
          "base_uri": "https://localhost:8080/"
        },
        "id": "EPPNtNKqHTe9",
        "outputId": "f665ff10-41db-45fe-fc6d-ec760a7267c0"
      },
      "execution_count": 2,
      "outputs": [
        {
          "output_type": "stream",
          "name": "stdout",
          "text": [
            "Collecting geopandas\n",
            "  Downloading geopandas-0.10.2-py2.py3-none-any.whl (1.0 MB)\n",
            "\u001b[K     |████████████████████████████████| 1.0 MB 5.1 MB/s \n",
            "\u001b[?25hCollecting fiona>=1.8\n",
            "  Downloading Fiona-1.8.20-cp37-cp37m-manylinux1_x86_64.whl (15.4 MB)\n",
            "\u001b[K     |████████████████████████████████| 15.4 MB 41.4 MB/s \n",
            "\u001b[?25hRequirement already satisfied: shapely>=1.6 in /usr/local/lib/python3.7/dist-packages (from geopandas) (1.8.0)\n",
            "Collecting pyproj>=2.2.0\n",
            "  Downloading pyproj-3.2.1-cp37-cp37m-manylinux2010_x86_64.whl (6.3 MB)\n",
            "\u001b[K     |████████████████████████████████| 6.3 MB 46.0 MB/s \n",
            "\u001b[?25hRequirement already satisfied: pandas>=0.25.0 in /usr/local/lib/python3.7/dist-packages (from geopandas) (1.3.5)\n",
            "Requirement already satisfied: attrs>=17 in /usr/local/lib/python3.7/dist-packages (from fiona>=1.8->geopandas) (21.4.0)\n",
            "Requirement already satisfied: click>=4.0 in /usr/local/lib/python3.7/dist-packages (from fiona>=1.8->geopandas) (7.1.2)\n",
            "Collecting click-plugins>=1.0\n",
            "  Downloading click_plugins-1.1.1-py2.py3-none-any.whl (7.5 kB)\n",
            "Requirement already satisfied: six>=1.7 in /usr/local/lib/python3.7/dist-packages (from fiona>=1.8->geopandas) (1.15.0)\n",
            "Collecting munch\n",
            "  Downloading munch-2.5.0-py2.py3-none-any.whl (10 kB)\n",
            "Requirement already satisfied: certifi in /usr/local/lib/python3.7/dist-packages (from fiona>=1.8->geopandas) (2021.10.8)\n",
            "Collecting cligj>=0.5\n",
            "  Downloading cligj-0.7.2-py3-none-any.whl (7.1 kB)\n",
            "Requirement already satisfied: setuptools in /usr/local/lib/python3.7/dist-packages (from fiona>=1.8->geopandas) (57.4.0)\n",
            "Requirement already satisfied: python-dateutil>=2.7.3 in /usr/local/lib/python3.7/dist-packages (from pandas>=0.25.0->geopandas) (2.8.2)\n",
            "Requirement already satisfied: pytz>=2017.3 in /usr/local/lib/python3.7/dist-packages (from pandas>=0.25.0->geopandas) (2018.9)\n",
            "Requirement already satisfied: numpy>=1.17.3 in /usr/local/lib/python3.7/dist-packages (from pandas>=0.25.0->geopandas) (1.19.5)\n",
            "Installing collected packages: munch, cligj, click-plugins, pyproj, fiona, geopandas\n",
            "Successfully installed click-plugins-1.1.1 cligj-0.7.2 fiona-1.8.20 geopandas-0.10.2 munch-2.5.0 pyproj-3.2.1\n"
          ]
        }
      ]
    },
    {
      "cell_type": "code",
      "source": [
        "# load packages\n",
        "import pandas as pd\n",
        "import numpy as np\n",
        "import os # for navigating directories\n",
        "#import requests # for API pull \n",
        "import geopandas as gpd\n",
        "#from geopandas import GeoDataFrame\n",
        "import matplotlib.pyplot as plt\n",
        "import math # for ceil function (round up)\n",
        "import imageio # for animation \n",
        "from IPython.display import Image # for displaying gifs\n"
      ],
      "metadata": {
        "id": "cg7g_mRpHVW8"
      },
      "execution_count": 3,
      "outputs": []
    },
    {
      "cell_type": "code",
      "source": [
        "# navigate into the directory\n",
        "os.chdir(\"cdc_vitalsigns\")"
      ],
      "metadata": {
        "id": "agwEpnbmHidM"
      },
      "execution_count": 4,
      "outputs": []
    },
    {
      "cell_type": "code",
      "source": [
        "## read data \n",
        "# vital signs (with geometry)\n",
        "vs = pd.read_csv(\"full_vital_signs.csv\")"
      ],
      "metadata": {
        "id": "5bK5Aut9Hnav"
      },
      "execution_count": null,
      "outputs": []
    },
    {
      "cell_type": "markdown",
      "source": [
        ""
      ],
      "metadata": {
        "id": "w2XFrbwTHlxo"
      }
    },
    {
      "cell_type": "code",
      "source": [
        ""
      ],
      "metadata": {
        "id": "yYR7iSuDHkw8"
      },
      "execution_count": null,
      "outputs": []
    }
  ]
}